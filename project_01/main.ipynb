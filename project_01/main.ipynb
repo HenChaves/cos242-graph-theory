{
 "cells": [
  {
   "cell_type": "code",
   "execution_count": 1,
   "id": "35ebd49b",
   "metadata": {},
   "outputs": [],
   "source": [
    "import numpy as np\n",
    "import os\n",
    "import pandas as pd\n",
    "from tqdm.notebook import tqdm\n",
    "import copy"
   ]
  },
  {
   "cell_type": "code",
   "execution_count": 2,
   "id": "5515a1d0",
   "metadata": {},
   "outputs": [],
   "source": [
    "class Node:\n",
    "    def __init__(self, value):\n",
    "        self.value = value\n",
    "        self.neighbors = set()\n",
    "        self.parent = None\n",
    "        self.level = None\n",
    "        self.visited = False\n",
    "    \n",
    "    #Retorna o índice do vértice quando for chamado\n",
    "    def __repr__(self): \n",
    "        return str(self.value)\n",
    "    \n",
    "    #Adiciona um vértice adjacente\n",
    "    def add_neighbor(self, w):\n",
    "        self.neighbors.add(w)\n",
    "    \n",
    "    #Retorna o índice do vértice\n",
    "    def get_value(self):\n",
    "        return self.value\n",
    "    \n",
    "    #Retorna os vértices adjacentes\n",
    "    def get_neighbors(self):\n",
    "        return sorted(self.neighbors, key=lambda x: x.value)"
   ]
  },
  {
   "cell_type": "code",
   "execution_count": 3,
   "id": "4bf1f824",
   "metadata": {},
   "outputs": [],
   "source": [
    "class Graph:\n",
    "    \n",
    "    def __init__(self, n):\n",
    "        self.n_nodes = n\n",
    "        self.matrix = np.zeros((n, n), dtype=\"object\")\n",
    "        self.nodes = np.empty(n, dtype=\"object\")\n",
    "        \n",
    "        pbar = tqdm(range(n), desc=\"Adding edges...\")\n",
    "        \n",
    "        for index in tqdm(range(n)):\n",
    "            self.add_node(index + 1)\n",
    "       \n",
    "\n",
    "    def add_node(self, value):\n",
    "        index = value - 1\n",
    "        self.nodes[index] = Node(value)\n",
    "    \n",
    "    def add_edge(self, v_value, w_value):\n",
    "        v_index = v_value - 1\n",
    "        w_index = w_value - 1\n",
    "        \n",
    "        if v_value == w_value:\n",
    "            self.matrix[v_index, v_index] = 2\n",
    "            self.nodes[v_index].add_neighbor(self.nodes[v_index])\n",
    "            \n",
    "        else:\n",
    "            self.matrix[v_index, w_index] = 1\n",
    "            self.matrix[w_index, v_index] = 1\n",
    "            self.nodes[v_index].add_neighbor(self.nodes[w_index])\n",
    "            self.nodes[w_index].add_neighbor(self.nodes[v_index])\n",
    "    \n",
    "    def get_node(self, value):\n",
    "        index = value - 1\n",
    "        return self.nodes[index]\n",
    "    \n",
    "    def get_nodes(self):\n",
    "        return self.nodes\n",
    "    \n",
    "    def get_node_edges(self):\n",
    "        return {node.value:node.get_neighbors() for node in self.nodes}\n",
    "    \n",
    "    def get_matrix(self):\n",
    "        return self.matrix\n",
    "    \n",
    "    def get_matrix_beautiful(self):\n",
    "        return pd.DataFrame(self.matrix, columns=np.arange(1, self.n_nodes+1), index=np.arange(1, self.n_nodes+1))\n",
    "    \n",
    "    def get_lists(self):\n",
    "        return [node.get_neighbors() for node in self.nodes]"
   ]
  },
  {
   "cell_type": "code",
   "execution_count": 4,
   "id": "79071db3",
   "metadata": {},
   "outputs": [],
   "source": [
    "def open_graph_txt(filename, extra=False):\n",
    "    with open(filename, \"r\") as f:\n",
    "        lines = f.read().split(\"\\n\")\n",
    "        n_nodes = int(lines[0])\n",
    "        edges = [tuple(map(lambda i: int(i), line.split(\" \"))) for line in lines[1:-1]]\n",
    "    \n",
    "    graph = Graph(n_nodes)\n",
    "    for v, w in edges:\n",
    "        graph.add_edge(v, w)\n",
    "    \n",
    "    if extra:\n",
    "        return graph, n_nodes, edges\n",
    "    \n",
    "    return graph"
   ]
  },
  {
   "cell_type": "code",
   "execution_count": 5,
   "id": "9717df61",
   "metadata": {},
   "outputs": [],
   "source": [
    "folder = \"inputs\"\n",
    "filename = \"grafo_teste.txt\"\n",
    "\n",
    "path = os.path.join(folder, filename)"
   ]
  },
  {
   "cell_type": "code",
   "execution_count": 6,
   "id": "0fb94fed",
   "metadata": {},
   "outputs": [
    {
     "data": {
      "application/vnd.jupyter.widget-view+json": {
       "model_id": "2d02b16e604744d19aa18594d7912217",
       "version_major": 2,
       "version_minor": 0
      },
      "text/plain": [
       "Adding edges...:   0%|          | 0/5 [00:00<?, ?it/s]"
      ]
     },
     "metadata": {},
     "output_type": "display_data"
    },
    {
     "data": {
      "application/vnd.jupyter.widget-view+json": {
       "model_id": "2ad66c7b90cf445f97fe4891b6865f7c",
       "version_major": 2,
       "version_minor": 0
      },
      "text/plain": [
       "  0%|          | 0/5 [00:00<?, ?it/s]"
      ]
     },
     "metadata": {},
     "output_type": "display_data"
    }
   ],
   "source": [
    "graph = open_graph_txt(path)"
   ]
  },
  {
   "cell_type": "code",
   "execution_count": 7,
   "id": "d87e3664",
   "metadata": {
    "scrolled": true
   },
   "outputs": [
    {
     "data": {
      "text/plain": [
       "{1: [2, 5], 2: [1, 5], 3: [5], 4: [5], 5: [1, 2, 3, 4]}"
      ]
     },
     "execution_count": 7,
     "metadata": {},
     "output_type": "execute_result"
    }
   ],
   "source": [
    "graph.get_node_edges()"
   ]
  },
  {
   "cell_type": "code",
   "execution_count": 8,
   "id": "dae38d6d",
   "metadata": {
    "scrolled": true
   },
   "outputs": [
    {
     "data": {
      "text/plain": [
       "[[2, 5], [1, 5], [5], [5], [1, 2, 3, 4]]"
      ]
     },
     "execution_count": 8,
     "metadata": {},
     "output_type": "execute_result"
    }
   ],
   "source": [
    "graph.get_lists()"
   ]
  },
  {
   "cell_type": "code",
   "execution_count": null,
   "id": "59739d96",
   "metadata": {},
   "outputs": [],
   "source": []
  },
  {
   "cell_type": "code",
   "execution_count": 9,
   "id": "7da55863",
   "metadata": {},
   "outputs": [
    {
     "data": {
      "text/plain": [
       "array([[0, 1, 0, 0, 1],\n",
       "       [1, 0, 0, 0, 1],\n",
       "       [0, 0, 0, 0, 1],\n",
       "       [0, 0, 0, 0, 1],\n",
       "       [1, 1, 1, 1, 0]], dtype=object)"
      ]
     },
     "execution_count": 9,
     "metadata": {},
     "output_type": "execute_result"
    }
   ],
   "source": [
    "graph.get_matrix()"
   ]
  },
  {
   "cell_type": "code",
   "execution_count": 10,
   "id": "5f5772b7",
   "metadata": {},
   "outputs": [
    {
     "data": {
      "text/html": [
       "<div>\n",
       "<style scoped>\n",
       "    .dataframe tbody tr th:only-of-type {\n",
       "        vertical-align: middle;\n",
       "    }\n",
       "\n",
       "    .dataframe tbody tr th {\n",
       "        vertical-align: top;\n",
       "    }\n",
       "\n",
       "    .dataframe thead th {\n",
       "        text-align: right;\n",
       "    }\n",
       "</style>\n",
       "<table border=\"1\" class=\"dataframe\">\n",
       "  <thead>\n",
       "    <tr style=\"text-align: right;\">\n",
       "      <th></th>\n",
       "      <th>1</th>\n",
       "      <th>2</th>\n",
       "      <th>3</th>\n",
       "      <th>4</th>\n",
       "      <th>5</th>\n",
       "    </tr>\n",
       "  </thead>\n",
       "  <tbody>\n",
       "    <tr>\n",
       "      <th>1</th>\n",
       "      <td>0</td>\n",
       "      <td>1</td>\n",
       "      <td>0</td>\n",
       "      <td>0</td>\n",
       "      <td>1</td>\n",
       "    </tr>\n",
       "    <tr>\n",
       "      <th>2</th>\n",
       "      <td>1</td>\n",
       "      <td>0</td>\n",
       "      <td>0</td>\n",
       "      <td>0</td>\n",
       "      <td>1</td>\n",
       "    </tr>\n",
       "    <tr>\n",
       "      <th>3</th>\n",
       "      <td>0</td>\n",
       "      <td>0</td>\n",
       "      <td>0</td>\n",
       "      <td>0</td>\n",
       "      <td>1</td>\n",
       "    </tr>\n",
       "    <tr>\n",
       "      <th>4</th>\n",
       "      <td>0</td>\n",
       "      <td>0</td>\n",
       "      <td>0</td>\n",
       "      <td>0</td>\n",
       "      <td>1</td>\n",
       "    </tr>\n",
       "    <tr>\n",
       "      <th>5</th>\n",
       "      <td>1</td>\n",
       "      <td>1</td>\n",
       "      <td>1</td>\n",
       "      <td>1</td>\n",
       "      <td>0</td>\n",
       "    </tr>\n",
       "  </tbody>\n",
       "</table>\n",
       "</div>"
      ],
      "text/plain": [
       "   1  2  3  4  5\n",
       "1  0  1  0  0  1\n",
       "2  1  0  0  0  1\n",
       "3  0  0  0  0  1\n",
       "4  0  0  0  0  1\n",
       "5  1  1  1  1  0"
      ]
     },
     "execution_count": 10,
     "metadata": {},
     "output_type": "execute_result"
    }
   ],
   "source": [
    "graph.get_matrix_beautiful()"
   ]
  },
  {
   "cell_type": "code",
   "execution_count": 11,
   "id": "cc3156b6",
   "metadata": {},
   "outputs": [],
   "source": [
    "def graph_statistics(graph):\n",
    "    print(\"Número de vértices:\", graph.n_nodes)\n",
    "    print(\"Número de arestas:\", graph.get_matrix().sum()/2)\n",
    "    print(\"Grau mínimo:\", graph.get_matrix().sum(axis=0).min())\n",
    "    print(\"Grau máximo:\", graph.get_matrix().sum(axis=0).max())\n",
    "    print(\"Grau médio:\", graph.get_matrix().sum(axis=0).mean())\n",
    "    print(\"Mediana do Grau:\", np.median(graph.get_matrix().sum(axis=0)))"
   ]
  },
  {
   "cell_type": "code",
   "execution_count": 12,
   "id": "d5d78408",
   "metadata": {},
   "outputs": [
    {
     "name": "stdout",
     "output_type": "stream",
     "text": [
      "Número de vértices: 5\n",
      "Número de arestas: 5.0\n",
      "Grau mínimo: 1\n",
      "Grau máximo: 4\n",
      "Grau médio: 2.0\n",
      "Mediana do Grau: 2.0\n"
     ]
    }
   ],
   "source": [
    "graph_statistics(graph)"
   ]
  },
  {
   "cell_type": "code",
   "execution_count": 13,
   "id": "191829f4",
   "metadata": {},
   "outputs": [],
   "source": [
    "class Stack:\n",
    "    \n",
    "    def __init__(self, size):\n",
    "        self.size = size\n",
    "        self.top = -1\n",
    "        \n",
    "        self.values = np.empty(self.size, dtype=\"object\")\n",
    "    \n",
    "    def is_full(self):\n",
    "        return (self.top == self.size - 1)\n",
    "    \n",
    "    def is_empty(self):\n",
    "        return (self.top == -1)\n",
    "    \n",
    "    def stack_up(self, node):\n",
    "        if self.is_full():\n",
    "            raise OverflowError(\"Stack is full.\")\n",
    "        else:\n",
    "            self.top += 1\n",
    "            self.values[self.top] = node\n",
    "    \n",
    "    def unstack(self):\n",
    "        if self.is_empty():\n",
    "            raise ValueError(\"Stack is empty.\")\n",
    "        else:\n",
    "            temp = self.values[self.top]\n",
    "            self.top -= 1\n",
    "            return temp\n",
    "    \n",
    "    def get_top(self):\n",
    "        if self.top != -1:\n",
    "            return self.values[self.top]\n",
    "        else:\n",
    "            return -1\n",
    "        "
   ]
  },
  {
   "cell_type": "code",
   "execution_count": 14,
   "id": "a541fbc7",
   "metadata": {},
   "outputs": [],
   "source": [
    "class DFS:\n",
    "    def __init__(self, graph, root):\n",
    "        self.graph = copy.deepcopy(graph)\n",
    "        self.root = self.graph.nodes[root-1]\n",
    "        self.root.level = 0\n",
    "        self.root.visited = True\n",
    "        self.stack = Stack(size=graph.n_nodes)\n",
    "        self.stack.stack_up(self.root)\n",
    "    \n",
    "    def search(self):\n",
    "        top = self.stack.get_top()\n",
    "        for neighbor in top.get_neighbors():\n",
    "            if neighbor.value == top.value:\n",
    "                continue\n",
    "            \n",
    "            if not neighbor.visited:\n",
    "                neighbor.parent = top\n",
    "                neighbor.level = top.level + 1\n",
    "                neighbor.visited = True\n",
    "                self.stack.stack_up(neighbor)\n",
    "                self.search()\n",
    "        self.stack.unstack()"
   ]
  },
  {
   "cell_type": "code",
   "execution_count": 15,
   "id": "5782fa9d",
   "metadata": {},
   "outputs": [],
   "source": [
    "dfs = DFS(graph, 1)"
   ]
  },
  {
   "cell_type": "code",
   "execution_count": 16,
   "id": "89d5c284",
   "metadata": {},
   "outputs": [],
   "source": [
    "dfs.search()"
   ]
  },
  {
   "cell_type": "code",
   "execution_count": 17,
   "id": "0421f02c",
   "metadata": {
    "scrolled": false
   },
   "outputs": [
    {
     "name": "stdout",
     "output_type": "stream",
     "text": [
      "Node: 1\n",
      "Parent: None\n",
      "Level: 0\n",
      "Visited: True\n",
      "----\n",
      "Node: 2\n",
      "Parent: 1\n",
      "Level: 1\n",
      "Visited: True\n",
      "----\n",
      "Node: 3\n",
      "Parent: 5\n",
      "Level: 3\n",
      "Visited: True\n",
      "----\n",
      "Node: 4\n",
      "Parent: 5\n",
      "Level: 3\n",
      "Visited: True\n",
      "----\n",
      "Node: 5\n",
      "Parent: 2\n",
      "Level: 2\n",
      "Visited: True\n",
      "----\n"
     ]
    }
   ],
   "source": [
    "for node in  dfs.graph.nodes[:5]:\n",
    "    print(\"Node:\", node.value)\n",
    "    print(\"Parent:\", node.parent)\n",
    "    print(\"Level:\", node.level)\n",
    "    print(\"Visited:\", node.visited)\n",
    "    print(\"----\")\n"
   ]
  },
  {
   "cell_type": "code",
   "execution_count": 20,
   "id": "3f99eb4b",
   "metadata": {},
   "outputs": [
    {
     "data": {
      "text/plain": [
       "array([8.01097889e-307, 1.24612081e-306, 1.60220528e-306, 1.69119330e-306])"
      ]
     },
     "execution_count": 20,
     "metadata": {},
     "output_type": "execute_result"
    }
   ],
   "source": [
    "np.empty(5)[1:]"
   ]
  },
  {
   "cell_type": "code",
   "execution_count": 62,
   "id": "623f66d7",
   "metadata": {},
   "outputs": [],
   "source": [
    "class Queue:\n",
    "    def __init__(self, size):\n",
    "        self.size = size\n",
    "        self.top = -1\n",
    "        \n",
    "        self.queue = np.empty(self.size, dtype=\"object\")\n",
    "    \n",
    "    def is_full(self):\n",
    "        return (self.top == self.size - 1)\n",
    "    \n",
    "    def is_empty(self):\n",
    "        return (self.top == -1)\n",
    "    \n",
    "    def add(self, node):\n",
    "        if self.is_full and not self.is_empty:\n",
    "            raise OverflowError(\"Queue is full.\")\n",
    "        self.top += 1\n",
    "        self.queue[self.top] = node\n",
    "\n",
    "    def next(self):\n",
    "        if self.is_empty():\n",
    "            raise ValueError(\"Queue is empty.\")\n",
    "        first = self.queue[0]\n",
    "        self.queue = self.queue[1:]\n",
    "        self.top -= 1\n",
    "        np.append(self.queue, None)\n",
    "        return first\n",
    "\n",
    "\n",
    "    def get(self):\n",
    "        return self.queue"
   ]
  },
  {
   "cell_type": "code",
   "execution_count": 63,
   "id": "c4d241ac",
   "metadata": {},
   "outputs": [],
   "source": [
    "class BFS:\n",
    "    def __init__(self, graph, root):\n",
    "        self.graph = copy.deepcopy(graph)\n",
    "        self.root = self.graph.nodes[root-1]\n",
    "        self.root.level = 0\n",
    "        self.root.visited = True\n",
    "        self.queue = Queue(size=graph.n_nodes)\n",
    "        self.queue.add(self.root)\n",
    "    \n",
    "    def search(self):\n",
    "        first = self.queue.next()\n",
    "        print(first)\n",
    "        print(\"Queue:\", self.queue.queue)\n",
    "        \n",
    "        for neighbor in first.get_neighbors():\n",
    "            print(\"neighbor:\", neighbor)\n",
    "            \n",
    "            if first == neighbor:\n",
    "                continue\n",
    "            if not neighbor.visited:\n",
    "                neighbor.visited = True\n",
    "                neighbor.parent = first\n",
    "                neighbor.level = first.level + 1\n",
    "                self.queue.add(neighbor)\n",
    "            print(\"Queue:\", self.queue.queue)\n",
    "        if not self.queue.is_empty():\n",
    "            self.search()"
   ]
  },
  {
   "cell_type": "code",
   "execution_count": 64,
   "id": "d7bd17c2",
   "metadata": {},
   "outputs": [],
   "source": [
    "bfs = BFS(graph, 1)"
   ]
  },
  {
   "cell_type": "code",
   "execution_count": 65,
   "id": "5c470a4b",
   "metadata": {},
   "outputs": [
    {
     "name": "stdout",
     "output_type": "stream",
     "text": [
      "1\n",
      "Queue: [None None None None]\n",
      "neighbor: 2\n",
      "Queue: [2 None None None]\n",
      "neighbor: 5\n",
      "Queue: [2 5 None None]\n",
      "2\n",
      "Queue: [5 None None]\n",
      "neighbor: 1\n",
      "Queue: [5 None None]\n",
      "neighbor: 5\n",
      "Queue: [5 None None]\n",
      "5\n",
      "Queue: [None None]\n",
      "neighbor: 1\n",
      "Queue: [None None]\n",
      "neighbor: 2\n",
      "Queue: [None None]\n",
      "neighbor: 3\n",
      "Queue: [3 None]\n",
      "neighbor: 4\n",
      "Queue: [3 4]\n",
      "3\n",
      "Queue: [4]\n",
      "neighbor: 5\n",
      "Queue: [4]\n",
      "4\n",
      "Queue: []\n",
      "neighbor: 5\n",
      "Queue: []\n"
     ]
    }
   ],
   "source": [
    "bfs.search()"
   ]
  },
  {
   "cell_type": "code",
   "execution_count": 66,
   "id": "25a8af2e",
   "metadata": {},
   "outputs": [
    {
     "name": "stdout",
     "output_type": "stream",
     "text": [
      "Node: 1\n",
      "Parent: None\n",
      "Level: 0\n",
      "Visited: True\n",
      "----\n",
      "Node: 2\n",
      "Parent: 1\n",
      "Level: 1\n",
      "Visited: True\n",
      "----\n",
      "Node: 3\n",
      "Parent: 5\n",
      "Level: 2\n",
      "Visited: True\n",
      "----\n",
      "Node: 4\n",
      "Parent: 5\n",
      "Level: 2\n",
      "Visited: True\n",
      "----\n",
      "Node: 5\n",
      "Parent: 1\n",
      "Level: 1\n",
      "Visited: True\n",
      "----\n"
     ]
    }
   ],
   "source": [
    "for node in  bfs.graph.nodes[:5]:\n",
    "    print(\"Node:\", node.value)\n",
    "    print(\"Parent:\", node.parent)\n",
    "    print(\"Level:\", node.level)\n",
    "    print(\"Visited:\", node.visited)\n",
    "    print(\"----\")\n"
   ]
  },
  {
   "cell_type": "code",
   "execution_count": 30,
   "id": "d0528b8f",
   "metadata": {
    "scrolled": true
   },
   "outputs": [
    {
     "data": {
      "text/html": [
       "\n",
       "        <iframe\n",
       "            width=\"500px\"\n",
       "            height=\"500px\"\n",
       "            src=\"graph.html\"\n",
       "            frameborder=\"0\"\n",
       "            allowfullscreen\n",
       "        ></iframe>\n",
       "        "
      ],
      "text/plain": [
       "<IPython.lib.display.IFrame at 0x23706aea880>"
      ]
     },
     "execution_count": 30,
     "metadata": {},
     "output_type": "execute_result"
    }
   ],
   "source": [
    "from pyvis.network import Network\n",
    "\n",
    "net = Network(notebook=True)\n",
    "\n",
    "for node in graph.nodes:\n",
    "    net.add_node(node.value, label=node.value)\n",
    "    \n",
    "for node in graph.nodes:\n",
    "    for neighbor in node.neighbors:\n",
    "        net.add_edge(node.value, neighbor.value)\n",
    "\n",
    "net.show(\"graph.html\")"
   ]
  },
  {
   "cell_type": "code",
   "execution_count": null,
   "id": "ae33c24d",
   "metadata": {},
   "outputs": [],
   "source": []
  }
 ],
 "metadata": {
  "kernelspec": {
   "display_name": "Python 3",
   "language": "python",
   "name": "python3"
  },
  "language_info": {
   "codemirror_mode": {
    "name": "ipython",
    "version": 3
   },
   "file_extension": ".py",
   "mimetype": "text/x-python",
   "name": "python",
   "nbconvert_exporter": "python",
   "pygments_lexer": "ipython3",
   "version": "3.8.5"
  }
 },
 "nbformat": 4,
 "nbformat_minor": 5
}

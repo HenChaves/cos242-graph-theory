{
 "cells": [
  {
   "cell_type": "code",
   "execution_count": 10,
   "id": "35ebd49b",
   "metadata": {},
   "outputs": [],
   "source": [
    "import numpy as np\n",
    "import os\n",
    "import pandas as pd\n",
    "from tqdm.notebook import tqdm\n",
    "import copy"
   ]
  },
  {
   "cell_type": "code",
   "execution_count": 11,
   "id": "5515a1d0",
   "metadata": {},
   "outputs": [],
   "source": [
    "class Node:\n",
    "    def __init__(self, value):\n",
    "        self.value = value\n",
    "        self.neighbors = set()\n",
    "        self.parent = None\n",
    "        self.level = None\n",
    "        self.visited = False\n",
    "    \n",
    "    #Retorna o índice do vértice quando for chamado\n",
    "    def __repr__(self): \n",
    "        return str(self.value)\n",
    "    \n",
    "    #Adiciona um vértice adjacente\n",
    "    def add_neighbor(self, w):\n",
    "        self.neighbors.add(w)\n",
    "    \n",
    "    #Retorna o índice do vértice\n",
    "    def get_value(self):\n",
    "        return self.value\n",
    "    \n",
    "    #Retorna os vértices adjacentes\n",
    "    def get_neighbors(self):\n",
    "#         return self.neighbors\n",
    "        return sorted(self.neighbors, key=lambda x: x.value)"
   ]
  },
  {
   "cell_type": "code",
   "execution_count": 12,
   "id": "8e02d189",
   "metadata": {},
   "outputs": [],
   "source": [
    "a = [1, 2]"
   ]
  },
  {
   "cell_type": "code",
   "execution_count": 13,
   "id": "02485902",
   "metadata": {},
   "outputs": [],
   "source": [
    "del a[0]"
   ]
  },
  {
   "cell_type": "code",
   "execution_count": 14,
   "id": "bd1ef2d7",
   "metadata": {},
   "outputs": [
    {
     "data": {
      "text/plain": [
       "[2]"
      ]
     },
     "execution_count": 14,
     "metadata": {},
     "output_type": "execute_result"
    }
   ],
   "source": [
    "a"
   ]
  },
  {
   "cell_type": "code",
   "execution_count": 5,
   "id": "4bf1f824",
   "metadata": {},
   "outputs": [],
   "source": [
    "class Graph:\n",
    "    \n",
    "    def __init__(self, n):\n",
    "        self.n_nodes = n\n",
    "        self.matrix = np.zeros((n, n), dtype=\"object\")\n",
    "        self.nodes = np.empty(n, dtype=\"object\")\n",
    "        \n",
    "        pbar = tqdm(range(n), desc=\"Adding edges...\")\n",
    "        \n",
    "        for index in tqdm(range(n)):\n",
    "            self.add_node(index + 1)\n",
    "       \n",
    "\n",
    "    def add_node(self, value):\n",
    "        index = value - 1\n",
    "        self.nodes[index] = Node(value)\n",
    "    \n",
    "    def add_edge(self, v_value, w_value):\n",
    "        v_index = v_value - 1\n",
    "        w_index = w_value - 1\n",
    "        \n",
    "        if v_value == w_value:\n",
    "            self.matrix[v_index, v_index] = 2\n",
    "            self.nodes[v_index].add_neighbor(self.nodes[v_index])\n",
    "            \n",
    "        else:\n",
    "            self.matrix[v_index, w_index] = 1\n",
    "            self.matrix[w_index, v_index] = 1\n",
    "            self.nodes[v_index].add_neighbor(self.nodes[w_index])\n",
    "            self.nodes[w_index].add_neighbor(self.nodes[v_index])\n",
    "    \n",
    "    def get_node(self, value):\n",
    "        index = value - 1\n",
    "        return self.nodes[index]\n",
    "    \n",
    "    def get_nodes(self):\n",
    "        return self.nodes\n",
    "    \n",
    "    def get_node_edges(self):\n",
    "        return {node.value:node.get_neighbors() for node in self.nodes}\n",
    "    \n",
    "    def get_matrix(self):\n",
    "        return self.matrix\n",
    "    \n",
    "    def get_matrix_beautiful(self):\n",
    "        return pd.DataFrame(self.matrix, columns=np.arange(1, self.n_nodes+1), index=np.arange(1, self.n_nodes+1))\n",
    "    \n",
    "    def get_lists(self):\n",
    "        return [node.get_neighbors() for node in self.nodes]"
   ]
  },
  {
   "cell_type": "code",
   "execution_count": 6,
   "id": "79071db3",
   "metadata": {},
   "outputs": [],
   "source": [
    "def open_graph_txt(filename, extra=False):\n",
    "    with open(filename, \"r\") as f:\n",
    "        lines = f.read().split(\"\\n\")\n",
    "        n_nodes = int(lines[0])\n",
    "        edges = [tuple(map(lambda i: int(i), line.split(\" \"))) for line in lines[1:-1]]\n",
    "    \n",
    "    graph = Graph(n_nodes)\n",
    "    for v, w in edges:\n",
    "        graph.add_edge(v, w)\n",
    "    \n",
    "    if extra:\n",
    "        return graph, n_nodes, edges\n",
    "    \n",
    "    return graph"
   ]
  },
  {
   "cell_type": "code",
   "execution_count": 7,
   "id": "9717df61",
   "metadata": {},
   "outputs": [],
   "source": [
    "folder = \"inputs\"\n",
    "filename = \"grafo_1.txt\"\n",
    "\n",
    "path = os.path.join(folder, filename)"
   ]
  },
  {
   "cell_type": "code",
   "execution_count": 8,
   "id": "0fb94fed",
   "metadata": {},
   "outputs": [
    {
     "data": {
      "application/vnd.jupyter.widget-view+json": {
       "model_id": "bca490b7b1ee4a06ae8da5e3fd89eb01",
       "version_major": 2,
       "version_minor": 0
      },
      "text/plain": [
       "Adding edges...:   0%|          | 0/100 [00:00<?, ?it/s]"
      ]
     },
     "metadata": {},
     "output_type": "display_data"
    },
    {
     "data": {
      "application/vnd.jupyter.widget-view+json": {
       "model_id": "e30e932af92d41038a8788ecc346fe60",
       "version_major": 2,
       "version_minor": 0
      },
      "text/plain": [
       "  0%|          | 0/100 [00:00<?, ?it/s]"
      ]
     },
     "metadata": {},
     "output_type": "display_data"
    }
   ],
   "source": [
    "graph = open_graph_txt(path)"
   ]
  },
  {
   "cell_type": "code",
   "execution_count": 9,
   "id": "d87e3664",
   "metadata": {
    "scrolled": true
   },
   "outputs": [
    {
     "data": {
      "text/plain": [
       "{1: {1, 16, 22, 3, 31, 45, 46, 52, 82, 83, 84, 93},\n",
       " 2: {11, 14, 19, 2, 33, 37, 38, 49, 5, 99},\n",
       " 3: {1, 14, 36, 39, 52, 76, 80, 83, 85, 94, 95},\n",
       " 4: {15, 24, 26, 39, 7, 71, 76, 84, 88, 92, 95, 98, 99},\n",
       " 5: {14, 19, 2, 23, 55, 59, 62, 65, 7, 91, 94, 95, 98},\n",
       " 6: {100, 15, 22, 48, 50, 59, 62, 71, 79, 83, 91},\n",
       " 7: {13, 27, 33, 36, 4, 43, 5, 52, 56, 74, 84, 87, 90},\n",
       " 8: {34, 40, 49, 50, 57, 58, 60, 65, 89},\n",
       " 9: {10, 11, 15, 16, 21, 24, 46, 60, 65, 75, 89, 90, 99},\n",
       " 10: {20, 53, 72, 73, 82, 83, 9, 90, 97},\n",
       " 11: {14, 2, 22, 23, 25, 46, 57, 80, 9, 97},\n",
       " 12: {13, 16, 45, 51, 55, 61, 70, 73, 76, 80, 85},\n",
       " 13: {12, 40, 48, 49, 58, 59, 7, 81, 99},\n",
       " 14: {11, 16, 2, 3, 32, 45, 5, 55, 64, 83},\n",
       " 15: {100, 26, 34, 4, 56, 6, 65, 9, 93, 94, 98},\n",
       " 16: {1, 12, 14, 19, 25, 51, 60, 62, 89, 9, 93, 94},\n",
       " 17: {23, 27, 30, 34, 42, 61, 64, 72, 81, 82, 83, 89, 93, 94},\n",
       " 18: {19, 28, 38, 44, 67, 69, 71, 72, 78, 86, 99},\n",
       " 19: {100, 16, 18, 2, 27, 34, 35, 5, 53, 69, 70, 86, 97},\n",
       " 20: {10, 22, 28, 31, 32, 42, 55, 74, 92, 96},\n",
       " 21: {100, 29, 44, 50, 52, 58, 72, 82, 84, 9, 94},\n",
       " 22: {1, 11, 20, 29, 32, 40, 51, 6, 76, 78},\n",
       " 23: {11, 17, 23, 29, 5, 60, 63, 68, 69, 75},\n",
       " 24: {4, 56, 69, 73, 76, 77, 79, 83, 84, 9, 92, 94},\n",
       " 25: {11, 16, 31, 46, 67, 70, 77, 90, 94, 98},\n",
       " 26: {15, 4, 40, 52, 68, 70, 83, 97, 98, 99},\n",
       " 27: {17, 19, 50, 56, 66, 69, 7, 74, 85, 95, 99},\n",
       " 28: {18, 20, 38, 39, 71, 88, 89, 90},\n",
       " 29: {21, 22, 23, 36, 40, 45, 72, 75, 86},\n",
       " 30: {100, 17, 39, 52, 57, 61, 62, 83, 90},\n",
       " 31: {1, 20, 25, 42, 53, 67, 70, 77, 85, 89, 96, 97},\n",
       " 32: {14, 20, 22, 51, 67, 70, 85, 88, 99},\n",
       " 33: {2, 37, 41, 52, 61, 63, 7, 70, 74, 86, 87, 90, 95},\n",
       " 34: {15, 17, 19, 41, 45, 54, 61, 70, 77, 8, 92, 93},\n",
       " 35: {19, 38, 47, 59, 64},\n",
       " 36: {29, 3, 39, 44, 49, 52, 53, 55, 68, 7, 70, 79},\n",
       " 37: {2, 33, 41, 61, 75, 76, 79, 85, 89, 90, 96, 97},\n",
       " 38: {18, 2, 28, 35, 42, 46, 66, 75, 76, 77, 91},\n",
       " 39: {28, 3, 30, 36, 4, 82, 93, 94, 95},\n",
       " 40: {13, 22, 26, 29, 47, 51, 62, 65, 67, 69, 74, 8, 80, 87, 97, 98},\n",
       " 41: {33, 34, 37, 49, 69, 98},\n",
       " 42: {17, 20, 31, 38, 51, 59, 66, 82, 90, 91},\n",
       " 43: {7, 71, 86, 87, 93, 94},\n",
       " 44: {18, 21, 36, 46, 47, 53, 71, 72, 91, 94},\n",
       " 45: {1, 12, 14, 29, 34, 47, 48, 56, 62, 70, 72, 78, 80},\n",
       " 46: {1, 11, 25, 38, 44, 59, 61, 67, 68, 72, 9},\n",
       " 47: {35, 40, 44, 45, 55, 59, 61, 75, 81, 90, 91, 99},\n",
       " 48: {13, 45, 49, 55, 6, 61, 70, 77, 85, 92, 97, 99},\n",
       " 49: {13, 2, 36, 41, 48, 8, 95},\n",
       " 50: {21, 27, 52, 6, 76, 77, 8, 96},\n",
       " 51: {12, 16, 22, 32, 40, 42, 66, 72, 75, 80, 95},\n",
       " 52: {1, 21, 26, 3, 30, 33, 36, 50, 55, 60, 7},\n",
       " 53: {10, 19, 31, 36, 44, 53, 63},\n",
       " 54: {34, 55, 59, 62, 63, 68, 72, 81},\n",
       " 55: {12, 14, 20, 36, 47, 48, 5, 52, 54, 60, 66, 69, 82, 91, 97, 98},\n",
       " 56: {15, 24, 27, 45, 58, 66, 7, 73, 78, 86, 92},\n",
       " 57: {100, 11, 30, 57, 58, 8, 85, 89, 91, 94},\n",
       " 58: {13, 21, 56, 57, 61, 65, 68, 69, 74, 8, 88, 93, 97},\n",
       " 59: {13, 35, 42, 46, 47, 5, 54, 6, 85, 89, 95},\n",
       " 60: {16, 23, 52, 55, 64, 8, 9, 92, 99},\n",
       " 61: {100, 12, 17, 30, 33, 34, 37, 46, 47, 48, 58, 71, 73, 74, 80, 86},\n",
       " 62: {16, 30, 40, 45, 5, 54, 6, 64, 74, 77, 80, 82, 86, 91},\n",
       " 63: {23, 33, 53, 54, 65, 73, 81, 83, 89},\n",
       " 64: {100, 14, 17, 35, 60, 62, 73, 88, 90, 91, 94, 97},\n",
       " 65: {15, 40, 5, 58, 63, 67, 73, 74, 75, 8, 88, 89, 9},\n",
       " 66: {27, 38, 42, 51, 55, 56, 77, 86, 99},\n",
       " 67: {18, 25, 31, 32, 40, 46, 65, 70, 71, 83, 89, 96, 98},\n",
       " 68: {100, 23, 26, 36, 46, 54, 58, 71, 72, 77, 82, 96},\n",
       " 69: {18, 19, 23, 24, 27, 40, 41, 55, 58, 71, 74, 76, 98},\n",
       " 70: {12, 19, 25, 26, 31, 32, 33, 34, 36, 45, 48, 67, 80, 84, 93, 99},\n",
       " 71: {18, 28, 4, 43, 44, 6, 61, 67, 68, 69, 73, 78, 79, 84},\n",
       " 72: {10, 17, 18, 21, 29, 44, 45, 46, 51, 54, 68, 83, 85, 99},\n",
       " 73: {10, 12, 24, 56, 61, 63, 64, 65, 71, 78, 83, 88, 89, 97},\n",
       " 74: {20, 27, 33, 40, 58, 61, 62, 65, 69, 7, 77, 87, 90},\n",
       " 75: {23, 29, 37, 38, 47, 51, 65, 75, 79, 81, 9, 93, 95},\n",
       " 76: {100, 12, 22, 24, 3, 37, 38, 4, 50, 69, 84, 92},\n",
       " 77: {24, 25, 31, 34, 38, 48, 50, 62, 66, 68, 74, 79, 92},\n",
       " 78: {18, 22, 45, 56, 71, 73, 87, 92},\n",
       " 79: {24, 36, 37, 6, 71, 75, 77, 80, 92, 95},\n",
       " 80: {11, 12, 3, 40, 45, 51, 61, 62, 70, 79, 81, 86},\n",
       " 81: {13, 17, 47, 54, 63, 75, 80, 96},\n",
       " 82: {1, 10, 100, 17, 21, 39, 42, 55, 62, 68, 95},\n",
       " 83: {1, 10, 14, 17, 24, 26, 3, 30, 6, 63, 67, 72, 73, 95},\n",
       " 84: {1, 21, 24, 4, 7, 70, 71, 76, 85, 89, 91, 93},\n",
       " 85: {12, 27, 3, 31, 32, 37, 48, 57, 59, 72, 84, 91, 92},\n",
       " 86: {18, 19, 29, 33, 43, 56, 61, 62, 66, 80, 98},\n",
       " 87: {33, 40, 43, 7, 74, 78, 88, 96, 97, 98},\n",
       " 88: {28, 32, 4, 58, 64, 65, 73, 87, 98},\n",
       " 89: {16, 17, 28, 31, 37, 57, 59, 63, 65, 67, 73, 8, 84, 9, 90},\n",
       " 90: {10, 25, 28, 30, 33, 37, 42, 47, 64, 7, 74, 89, 9, 91},\n",
       " 91: {38, 42, 44, 47, 5, 55, 57, 6, 62, 64, 84, 85, 90},\n",
       " 92: {20, 24, 34, 4, 48, 56, 60, 76, 77, 78, 79, 85},\n",
       " 93: {1, 15, 16, 17, 34, 39, 43, 58, 70, 75, 84},\n",
       " 94: {15, 16, 17, 21, 24, 25, 3, 39, 43, 44, 5, 57, 64},\n",
       " 95: {27, 3, 33, 39, 4, 49, 5, 51, 59, 75, 79, 82, 83},\n",
       " 96: {100, 20, 31, 37, 50, 67, 68, 81, 87},\n",
       " 97: {10, 100, 11, 19, 26, 31, 37, 40, 48, 55, 58, 64, 73, 87},\n",
       " 98: {15, 25, 26, 4, 40, 41, 5, 55, 67, 69, 86, 87, 88},\n",
       " 99: {100, 13, 18, 2, 26, 27, 32, 4, 47, 48, 60, 66, 70, 72, 9},\n",
       " 100: {15, 19, 21, 30, 57, 6, 61, 64, 68, 76, 82, 96, 97, 99}}"
      ]
     },
     "execution_count": 9,
     "metadata": {},
     "output_type": "execute_result"
    }
   ],
   "source": [
    "graph.get_node_edges()"
   ]
  },
  {
   "cell_type": "code",
   "execution_count": 8,
   "id": "dae38d6d",
   "metadata": {
    "scrolled": true
   },
   "outputs": [
    {
     "data": {
      "text/plain": [
       "[[1, 3, 16, 22, 31, 45, 46, 52, 82, 83, 84, 93],\n",
       " [2, 5, 11, 14, 19, 33, 37, 38, 49, 99],\n",
       " [1, 14, 36, 39, 52, 76, 80, 83, 85, 94, 95],\n",
       " [7, 15, 24, 26, 39, 71, 76, 84, 88, 92, 95, 98, 99],\n",
       " [2, 7, 14, 19, 23, 55, 59, 62, 65, 91, 94, 95, 98],\n",
       " [15, 22, 48, 50, 59, 62, 71, 79, 83, 91, 100],\n",
       " [4, 5, 13, 27, 33, 36, 43, 52, 56, 74, 84, 87, 90],\n",
       " [34, 40, 49, 50, 57, 58, 60, 65, 89],\n",
       " [10, 11, 15, 16, 21, 24, 46, 60, 65, 75, 89, 90, 99],\n",
       " [9, 20, 53, 72, 73, 82, 83, 90, 97],\n",
       " [2, 9, 14, 22, 23, 25, 46, 57, 80, 97],\n",
       " [13, 16, 45, 51, 55, 61, 70, 73, 76, 80, 85],\n",
       " [7, 12, 40, 48, 49, 58, 59, 81, 99],\n",
       " [2, 3, 5, 11, 16, 32, 45, 55, 64, 83],\n",
       " [4, 6, 9, 26, 34, 56, 65, 93, 94, 98, 100],\n",
       " [1, 9, 12, 14, 19, 25, 51, 60, 62, 89, 93, 94],\n",
       " [23, 27, 30, 34, 42, 61, 64, 72, 81, 82, 83, 89, 93, 94],\n",
       " [19, 28, 38, 44, 67, 69, 71, 72, 78, 86, 99],\n",
       " [2, 5, 16, 18, 27, 34, 35, 53, 69, 70, 86, 97, 100],\n",
       " [10, 22, 28, 31, 32, 42, 55, 74, 92, 96],\n",
       " [9, 29, 44, 50, 52, 58, 72, 82, 84, 94, 100],\n",
       " [1, 6, 11, 20, 29, 32, 40, 51, 76, 78],\n",
       " [5, 11, 17, 23, 29, 60, 63, 68, 69, 75],\n",
       " [4, 9, 56, 69, 73, 76, 77, 79, 83, 84, 92, 94],\n",
       " [11, 16, 31, 46, 67, 70, 77, 90, 94, 98],\n",
       " [4, 15, 40, 52, 68, 70, 83, 97, 98, 99],\n",
       " [7, 17, 19, 50, 56, 66, 69, 74, 85, 95, 99],\n",
       " [18, 20, 38, 39, 71, 88, 89, 90],\n",
       " [21, 22, 23, 36, 40, 45, 72, 75, 86],\n",
       " [17, 39, 52, 57, 61, 62, 83, 90, 100],\n",
       " [1, 20, 25, 42, 53, 67, 70, 77, 85, 89, 96, 97],\n",
       " [14, 20, 22, 51, 67, 70, 85, 88, 99],\n",
       " [2, 7, 37, 41, 52, 61, 63, 70, 74, 86, 87, 90, 95],\n",
       " [8, 15, 17, 19, 41, 45, 54, 61, 70, 77, 92, 93],\n",
       " [19, 38, 47, 59, 64],\n",
       " [3, 7, 29, 39, 44, 49, 52, 53, 55, 68, 70, 79],\n",
       " [2, 33, 41, 61, 75, 76, 79, 85, 89, 90, 96, 97],\n",
       " [2, 18, 28, 35, 42, 46, 66, 75, 76, 77, 91],\n",
       " [3, 4, 28, 30, 36, 82, 93, 94, 95],\n",
       " [8, 13, 22, 26, 29, 47, 51, 62, 65, 67, 69, 74, 80, 87, 97, 98],\n",
       " [33, 34, 37, 49, 69, 98],\n",
       " [17, 20, 31, 38, 51, 59, 66, 82, 90, 91],\n",
       " [7, 71, 86, 87, 93, 94],\n",
       " [18, 21, 36, 46, 47, 53, 71, 72, 91, 94],\n",
       " [1, 12, 14, 29, 34, 47, 48, 56, 62, 70, 72, 78, 80],\n",
       " [1, 9, 11, 25, 38, 44, 59, 61, 67, 68, 72],\n",
       " [35, 40, 44, 45, 55, 59, 61, 75, 81, 90, 91, 99],\n",
       " [6, 13, 45, 49, 55, 61, 70, 77, 85, 92, 97, 99],\n",
       " [2, 8, 13, 36, 41, 48, 95],\n",
       " [6, 8, 21, 27, 52, 76, 77, 96],\n",
       " [12, 16, 22, 32, 40, 42, 66, 72, 75, 80, 95],\n",
       " [1, 3, 7, 21, 26, 30, 33, 36, 50, 55, 60],\n",
       " [10, 19, 31, 36, 44, 53, 63],\n",
       " [34, 55, 59, 62, 63, 68, 72, 81],\n",
       " [5, 12, 14, 20, 36, 47, 48, 52, 54, 60, 66, 69, 82, 91, 97, 98],\n",
       " [7, 15, 24, 27, 45, 58, 66, 73, 78, 86, 92],\n",
       " [8, 11, 30, 57, 58, 85, 89, 91, 94, 100],\n",
       " [8, 13, 21, 56, 57, 61, 65, 68, 69, 74, 88, 93, 97],\n",
       " [5, 6, 13, 35, 42, 46, 47, 54, 85, 89, 95],\n",
       " [8, 9, 16, 23, 52, 55, 64, 92, 99],\n",
       " [12, 17, 30, 33, 34, 37, 46, 47, 48, 58, 71, 73, 74, 80, 86, 100],\n",
       " [5, 6, 16, 30, 40, 45, 54, 64, 74, 77, 80, 82, 86, 91],\n",
       " [23, 33, 53, 54, 65, 73, 81, 83, 89],\n",
       " [14, 17, 35, 60, 62, 73, 88, 90, 91, 94, 97, 100],\n",
       " [5, 8, 9, 15, 40, 58, 63, 67, 73, 74, 75, 88, 89],\n",
       " [27, 38, 42, 51, 55, 56, 77, 86, 99],\n",
       " [18, 25, 31, 32, 40, 46, 65, 70, 71, 83, 89, 96, 98],\n",
       " [23, 26, 36, 46, 54, 58, 71, 72, 77, 82, 96, 100],\n",
       " [18, 19, 23, 24, 27, 40, 41, 55, 58, 71, 74, 76, 98],\n",
       " [12, 19, 25, 26, 31, 32, 33, 34, 36, 45, 48, 67, 80, 84, 93, 99],\n",
       " [4, 6, 18, 28, 43, 44, 61, 67, 68, 69, 73, 78, 79, 84],\n",
       " [10, 17, 18, 21, 29, 44, 45, 46, 51, 54, 68, 83, 85, 99],\n",
       " [10, 12, 24, 56, 61, 63, 64, 65, 71, 78, 83, 88, 89, 97],\n",
       " [7, 20, 27, 33, 40, 58, 61, 62, 65, 69, 77, 87, 90],\n",
       " [9, 23, 29, 37, 38, 47, 51, 65, 75, 79, 81, 93, 95],\n",
       " [3, 4, 12, 22, 24, 37, 38, 50, 69, 84, 92, 100],\n",
       " [24, 25, 31, 34, 38, 48, 50, 62, 66, 68, 74, 79, 92],\n",
       " [18, 22, 45, 56, 71, 73, 87, 92],\n",
       " [6, 24, 36, 37, 71, 75, 77, 80, 92, 95],\n",
       " [3, 11, 12, 40, 45, 51, 61, 62, 70, 79, 81, 86],\n",
       " [13, 17, 47, 54, 63, 75, 80, 96],\n",
       " [1, 10, 17, 21, 39, 42, 55, 62, 68, 95, 100],\n",
       " [1, 3, 6, 10, 14, 17, 24, 26, 30, 63, 67, 72, 73, 95],\n",
       " [1, 4, 7, 21, 24, 70, 71, 76, 85, 89, 91, 93],\n",
       " [3, 12, 27, 31, 32, 37, 48, 57, 59, 72, 84, 91, 92],\n",
       " [18, 19, 29, 33, 43, 56, 61, 62, 66, 80, 98],\n",
       " [7, 33, 40, 43, 74, 78, 88, 96, 97, 98],\n",
       " [4, 28, 32, 58, 64, 65, 73, 87, 98],\n",
       " [8, 9, 16, 17, 28, 31, 37, 57, 59, 63, 65, 67, 73, 84, 90],\n",
       " [7, 9, 10, 25, 28, 30, 33, 37, 42, 47, 64, 74, 89, 91],\n",
       " [5, 6, 38, 42, 44, 47, 55, 57, 62, 64, 84, 85, 90],\n",
       " [4, 20, 24, 34, 48, 56, 60, 76, 77, 78, 79, 85],\n",
       " [1, 15, 16, 17, 34, 39, 43, 58, 70, 75, 84],\n",
       " [3, 5, 15, 16, 17, 21, 24, 25, 39, 43, 44, 57, 64],\n",
       " [3, 4, 5, 27, 33, 39, 49, 51, 59, 75, 79, 82, 83],\n",
       " [20, 31, 37, 50, 67, 68, 81, 87, 100],\n",
       " [10, 11, 19, 26, 31, 37, 40, 48, 55, 58, 64, 73, 87, 100],\n",
       " [4, 5, 15, 25, 26, 40, 41, 55, 67, 69, 86, 87, 88],\n",
       " [2, 4, 9, 13, 18, 26, 27, 32, 47, 48, 60, 66, 70, 72, 100],\n",
       " [6, 15, 19, 21, 30, 57, 61, 64, 68, 76, 82, 96, 97, 99]]"
      ]
     },
     "execution_count": 8,
     "metadata": {},
     "output_type": "execute_result"
    }
   ],
   "source": [
    "graph.get_lists()"
   ]
  },
  {
   "cell_type": "code",
   "execution_count": 9,
   "id": "7da55863",
   "metadata": {},
   "outputs": [
    {
     "data": {
      "text/plain": [
       "array([[2, 0, 1, ..., 0, 0, 0],\n",
       "       [0, 2, 0, ..., 0, 1, 0],\n",
       "       [1, 0, 0, ..., 0, 0, 0],\n",
       "       ...,\n",
       "       [0, 0, 0, ..., 0, 0, 0],\n",
       "       [0, 1, 0, ..., 0, 0, 1],\n",
       "       [0, 0, 0, ..., 0, 1, 0]], dtype=object)"
      ]
     },
     "execution_count": 9,
     "metadata": {},
     "output_type": "execute_result"
    }
   ],
   "source": [
    "graph.get_matrix()"
   ]
  },
  {
   "cell_type": "code",
   "execution_count": 10,
   "id": "5f5772b7",
   "metadata": {},
   "outputs": [
    {
     "data": {
      "text/html": [
       "<div>\n",
       "<style scoped>\n",
       "    .dataframe tbody tr th:only-of-type {\n",
       "        vertical-align: middle;\n",
       "    }\n",
       "\n",
       "    .dataframe tbody tr th {\n",
       "        vertical-align: top;\n",
       "    }\n",
       "\n",
       "    .dataframe thead th {\n",
       "        text-align: right;\n",
       "    }\n",
       "</style>\n",
       "<table border=\"1\" class=\"dataframe\">\n",
       "  <thead>\n",
       "    <tr style=\"text-align: right;\">\n",
       "      <th></th>\n",
       "      <th>1</th>\n",
       "      <th>2</th>\n",
       "      <th>3</th>\n",
       "      <th>4</th>\n",
       "      <th>5</th>\n",
       "      <th>6</th>\n",
       "      <th>7</th>\n",
       "      <th>8</th>\n",
       "      <th>9</th>\n",
       "      <th>10</th>\n",
       "      <th>...</th>\n",
       "      <th>91</th>\n",
       "      <th>92</th>\n",
       "      <th>93</th>\n",
       "      <th>94</th>\n",
       "      <th>95</th>\n",
       "      <th>96</th>\n",
       "      <th>97</th>\n",
       "      <th>98</th>\n",
       "      <th>99</th>\n",
       "      <th>100</th>\n",
       "    </tr>\n",
       "  </thead>\n",
       "  <tbody>\n",
       "    <tr>\n",
       "      <th>1</th>\n",
       "      <td>2</td>\n",
       "      <td>0</td>\n",
       "      <td>1</td>\n",
       "      <td>0</td>\n",
       "      <td>0</td>\n",
       "      <td>0</td>\n",
       "      <td>0</td>\n",
       "      <td>0</td>\n",
       "      <td>0</td>\n",
       "      <td>0</td>\n",
       "      <td>...</td>\n",
       "      <td>0</td>\n",
       "      <td>0</td>\n",
       "      <td>1</td>\n",
       "      <td>0</td>\n",
       "      <td>0</td>\n",
       "      <td>0</td>\n",
       "      <td>0</td>\n",
       "      <td>0</td>\n",
       "      <td>0</td>\n",
       "      <td>0</td>\n",
       "    </tr>\n",
       "    <tr>\n",
       "      <th>2</th>\n",
       "      <td>0</td>\n",
       "      <td>2</td>\n",
       "      <td>0</td>\n",
       "      <td>0</td>\n",
       "      <td>1</td>\n",
       "      <td>0</td>\n",
       "      <td>0</td>\n",
       "      <td>0</td>\n",
       "      <td>0</td>\n",
       "      <td>0</td>\n",
       "      <td>...</td>\n",
       "      <td>0</td>\n",
       "      <td>0</td>\n",
       "      <td>0</td>\n",
       "      <td>0</td>\n",
       "      <td>0</td>\n",
       "      <td>0</td>\n",
       "      <td>0</td>\n",
       "      <td>0</td>\n",
       "      <td>1</td>\n",
       "      <td>0</td>\n",
       "    </tr>\n",
       "    <tr>\n",
       "      <th>3</th>\n",
       "      <td>1</td>\n",
       "      <td>0</td>\n",
       "      <td>0</td>\n",
       "      <td>0</td>\n",
       "      <td>0</td>\n",
       "      <td>0</td>\n",
       "      <td>0</td>\n",
       "      <td>0</td>\n",
       "      <td>0</td>\n",
       "      <td>0</td>\n",
       "      <td>...</td>\n",
       "      <td>0</td>\n",
       "      <td>0</td>\n",
       "      <td>0</td>\n",
       "      <td>1</td>\n",
       "      <td>1</td>\n",
       "      <td>0</td>\n",
       "      <td>0</td>\n",
       "      <td>0</td>\n",
       "      <td>0</td>\n",
       "      <td>0</td>\n",
       "    </tr>\n",
       "    <tr>\n",
       "      <th>4</th>\n",
       "      <td>0</td>\n",
       "      <td>0</td>\n",
       "      <td>0</td>\n",
       "      <td>0</td>\n",
       "      <td>0</td>\n",
       "      <td>0</td>\n",
       "      <td>1</td>\n",
       "      <td>0</td>\n",
       "      <td>0</td>\n",
       "      <td>0</td>\n",
       "      <td>...</td>\n",
       "      <td>0</td>\n",
       "      <td>1</td>\n",
       "      <td>0</td>\n",
       "      <td>0</td>\n",
       "      <td>1</td>\n",
       "      <td>0</td>\n",
       "      <td>0</td>\n",
       "      <td>1</td>\n",
       "      <td>1</td>\n",
       "      <td>0</td>\n",
       "    </tr>\n",
       "    <tr>\n",
       "      <th>5</th>\n",
       "      <td>0</td>\n",
       "      <td>1</td>\n",
       "      <td>0</td>\n",
       "      <td>0</td>\n",
       "      <td>0</td>\n",
       "      <td>0</td>\n",
       "      <td>1</td>\n",
       "      <td>0</td>\n",
       "      <td>0</td>\n",
       "      <td>0</td>\n",
       "      <td>...</td>\n",
       "      <td>1</td>\n",
       "      <td>0</td>\n",
       "      <td>0</td>\n",
       "      <td>1</td>\n",
       "      <td>1</td>\n",
       "      <td>0</td>\n",
       "      <td>0</td>\n",
       "      <td>1</td>\n",
       "      <td>0</td>\n",
       "      <td>0</td>\n",
       "    </tr>\n",
       "    <tr>\n",
       "      <th>...</th>\n",
       "      <td>...</td>\n",
       "      <td>...</td>\n",
       "      <td>...</td>\n",
       "      <td>...</td>\n",
       "      <td>...</td>\n",
       "      <td>...</td>\n",
       "      <td>...</td>\n",
       "      <td>...</td>\n",
       "      <td>...</td>\n",
       "      <td>...</td>\n",
       "      <td>...</td>\n",
       "      <td>...</td>\n",
       "      <td>...</td>\n",
       "      <td>...</td>\n",
       "      <td>...</td>\n",
       "      <td>...</td>\n",
       "      <td>...</td>\n",
       "      <td>...</td>\n",
       "      <td>...</td>\n",
       "      <td>...</td>\n",
       "      <td>...</td>\n",
       "    </tr>\n",
       "    <tr>\n",
       "      <th>96</th>\n",
       "      <td>0</td>\n",
       "      <td>0</td>\n",
       "      <td>0</td>\n",
       "      <td>0</td>\n",
       "      <td>0</td>\n",
       "      <td>0</td>\n",
       "      <td>0</td>\n",
       "      <td>0</td>\n",
       "      <td>0</td>\n",
       "      <td>0</td>\n",
       "      <td>...</td>\n",
       "      <td>0</td>\n",
       "      <td>0</td>\n",
       "      <td>0</td>\n",
       "      <td>0</td>\n",
       "      <td>0</td>\n",
       "      <td>0</td>\n",
       "      <td>0</td>\n",
       "      <td>0</td>\n",
       "      <td>0</td>\n",
       "      <td>1</td>\n",
       "    </tr>\n",
       "    <tr>\n",
       "      <th>97</th>\n",
       "      <td>0</td>\n",
       "      <td>0</td>\n",
       "      <td>0</td>\n",
       "      <td>0</td>\n",
       "      <td>0</td>\n",
       "      <td>0</td>\n",
       "      <td>0</td>\n",
       "      <td>0</td>\n",
       "      <td>0</td>\n",
       "      <td>1</td>\n",
       "      <td>...</td>\n",
       "      <td>0</td>\n",
       "      <td>0</td>\n",
       "      <td>0</td>\n",
       "      <td>0</td>\n",
       "      <td>0</td>\n",
       "      <td>0</td>\n",
       "      <td>0</td>\n",
       "      <td>0</td>\n",
       "      <td>0</td>\n",
       "      <td>1</td>\n",
       "    </tr>\n",
       "    <tr>\n",
       "      <th>98</th>\n",
       "      <td>0</td>\n",
       "      <td>0</td>\n",
       "      <td>0</td>\n",
       "      <td>1</td>\n",
       "      <td>1</td>\n",
       "      <td>0</td>\n",
       "      <td>0</td>\n",
       "      <td>0</td>\n",
       "      <td>0</td>\n",
       "      <td>0</td>\n",
       "      <td>...</td>\n",
       "      <td>0</td>\n",
       "      <td>0</td>\n",
       "      <td>0</td>\n",
       "      <td>0</td>\n",
       "      <td>0</td>\n",
       "      <td>0</td>\n",
       "      <td>0</td>\n",
       "      <td>0</td>\n",
       "      <td>0</td>\n",
       "      <td>0</td>\n",
       "    </tr>\n",
       "    <tr>\n",
       "      <th>99</th>\n",
       "      <td>0</td>\n",
       "      <td>1</td>\n",
       "      <td>0</td>\n",
       "      <td>1</td>\n",
       "      <td>0</td>\n",
       "      <td>0</td>\n",
       "      <td>0</td>\n",
       "      <td>0</td>\n",
       "      <td>1</td>\n",
       "      <td>0</td>\n",
       "      <td>...</td>\n",
       "      <td>0</td>\n",
       "      <td>0</td>\n",
       "      <td>0</td>\n",
       "      <td>0</td>\n",
       "      <td>0</td>\n",
       "      <td>0</td>\n",
       "      <td>0</td>\n",
       "      <td>0</td>\n",
       "      <td>0</td>\n",
       "      <td>1</td>\n",
       "    </tr>\n",
       "    <tr>\n",
       "      <th>100</th>\n",
       "      <td>0</td>\n",
       "      <td>0</td>\n",
       "      <td>0</td>\n",
       "      <td>0</td>\n",
       "      <td>0</td>\n",
       "      <td>1</td>\n",
       "      <td>0</td>\n",
       "      <td>0</td>\n",
       "      <td>0</td>\n",
       "      <td>0</td>\n",
       "      <td>...</td>\n",
       "      <td>0</td>\n",
       "      <td>0</td>\n",
       "      <td>0</td>\n",
       "      <td>0</td>\n",
       "      <td>0</td>\n",
       "      <td>1</td>\n",
       "      <td>1</td>\n",
       "      <td>0</td>\n",
       "      <td>1</td>\n",
       "      <td>0</td>\n",
       "    </tr>\n",
       "  </tbody>\n",
       "</table>\n",
       "<p>100 rows × 100 columns</p>\n",
       "</div>"
      ],
      "text/plain": [
       "    1   2   3   4   5   6   7   8   9   10   ... 91  92  93  94  95  96  97   \\\n",
       "1     2   0   1   0   0   0   0   0   0   0  ...   0   0   1   0   0   0   0   \n",
       "2     0   2   0   0   1   0   0   0   0   0  ...   0   0   0   0   0   0   0   \n",
       "3     1   0   0   0   0   0   0   0   0   0  ...   0   0   0   1   1   0   0   \n",
       "4     0   0   0   0   0   0   1   0   0   0  ...   0   1   0   0   1   0   0   \n",
       "5     0   1   0   0   0   0   1   0   0   0  ...   1   0   0   1   1   0   0   \n",
       "..   ..  ..  ..  ..  ..  ..  ..  ..  ..  ..  ...  ..  ..  ..  ..  ..  ..  ..   \n",
       "96    0   0   0   0   0   0   0   0   0   0  ...   0   0   0   0   0   0   0   \n",
       "97    0   0   0   0   0   0   0   0   0   1  ...   0   0   0   0   0   0   0   \n",
       "98    0   0   0   1   1   0   0   0   0   0  ...   0   0   0   0   0   0   0   \n",
       "99    0   1   0   1   0   0   0   0   1   0  ...   0   0   0   0   0   0   0   \n",
       "100   0   0   0   0   0   1   0   0   0   0  ...   0   0   0   0   0   1   1   \n",
       "\n",
       "    98  99  100  \n",
       "1     0   0   0  \n",
       "2     0   1   0  \n",
       "3     0   0   0  \n",
       "4     1   1   0  \n",
       "5     1   0   0  \n",
       "..   ..  ..  ..  \n",
       "96    0   0   1  \n",
       "97    0   0   1  \n",
       "98    0   0   0  \n",
       "99    0   0   1  \n",
       "100   0   1   0  \n",
       "\n",
       "[100 rows x 100 columns]"
      ]
     },
     "execution_count": 10,
     "metadata": {},
     "output_type": "execute_result"
    }
   ],
   "source": [
    "graph.get_matrix_beautiful()"
   ]
  },
  {
   "cell_type": "code",
   "execution_count": 11,
   "id": "cc3156b6",
   "metadata": {},
   "outputs": [],
   "source": [
    "def graph_statistics(graph):\n",
    "    print(\"Número de vértices:\", graph.n_nodes)\n",
    "    print(\"Número de arestas:\", graph.get_matrix().sum()/2)\n",
    "    print(\"Grau mínimo:\", graph.get_matrix().sum(axis=0).min())\n",
    "    print(\"Grau máximo:\", graph.get_matrix().sum(axis=0).max())\n",
    "    print(\"Grau médio:\", graph.get_matrix().sum(axis=0).mean())\n",
    "    print(\"Mediana do Grau:\", np.median(graph.get_matrix().sum(axis=0)))"
   ]
  },
  {
   "cell_type": "code",
   "execution_count": 12,
   "id": "d5d78408",
   "metadata": {},
   "outputs": [
    {
     "name": "stdout",
     "output_type": "stream",
     "text": [
      "Número de vértices: 100\n",
      "Número de arestas: 569.0\n",
      "Grau mínimo: 5\n",
      "Grau máximo: 16\n",
      "Grau médio: 11.38\n",
      "Mediana do Grau: 11.0\n"
     ]
    }
   ],
   "source": [
    "graph_statistics(graph)"
   ]
  },
  {
   "cell_type": "code",
   "execution_count": 13,
   "id": "191829f4",
   "metadata": {},
   "outputs": [],
   "source": [
    "class Stack:\n",
    "    \n",
    "    def __init__(self, size):\n",
    "        self.size = size\n",
    "        self.top = -1\n",
    "        \n",
    "        self.values = np.empty(self.size, dtype=\"object\")\n",
    "    \n",
    "    def is_full(self):\n",
    "        return (self.top == self.size - 1)\n",
    "    \n",
    "    def is_empty(self):\n",
    "        return (self.top == -1)\n",
    "    \n",
    "    def stack_up(self, node):\n",
    "        if self.is_full():\n",
    "            raise OverflowError(\"Stack is full.\")\n",
    "        else:\n",
    "            self.top += 1\n",
    "            self.values[self.top] = node\n",
    "    \n",
    "    def unstack(self):\n",
    "        if self.is_empty():\n",
    "            raise ValueError(\"Stack is empty.\")\n",
    "        else:\n",
    "            temp = self.values[self.top]\n",
    "            self.top -= 1\n",
    "            return temp\n",
    "    \n",
    "    def get_top(self):\n",
    "        if self.top != -1:\n",
    "            return self.values[self.top]\n",
    "        else:\n",
    "            return -1\n",
    "        "
   ]
  },
  {
   "cell_type": "code",
   "execution_count": 14,
   "id": "a541fbc7",
   "metadata": {},
   "outputs": [],
   "source": [
    "class DFS:\n",
    "    def __init__(self, graph, root):\n",
    "        self.graph = copy.deepcopy(graph)\n",
    "        self.root = self.graph.nodes[root-1]\n",
    "        self.root.level = 0\n",
    "        self.root.visited = True\n",
    "        self.stack = Stack(size=graph.n_nodes)\n",
    "        self.stack.stack_up(self.root)\n",
    "    \n",
    "    def search(self):\n",
    "        top = self.stack.get_top()\n",
    "        for neighbor in top.get_neighbors():\n",
    "            if neighbor.value == top.value:\n",
    "                continue\n",
    "            \n",
    "            if not neighbor.visited:\n",
    "                neighbor.parent = top\n",
    "                neighbor.level = top.level + 1\n",
    "                neighbor.visited = True\n",
    "                self.stack.stack_up(neighbor)\n",
    "                self.search()\n",
    "        self.stack.unstack()"
   ]
  },
  {
   "cell_type": "code",
   "execution_count": 15,
   "id": "5782fa9d",
   "metadata": {},
   "outputs": [],
   "source": [
    "dfs = DFS(graph, 1)"
   ]
  },
  {
   "cell_type": "code",
   "execution_count": 16,
   "id": "89d5c284",
   "metadata": {},
   "outputs": [],
   "source": [
    "dfs.search()"
   ]
  },
  {
   "cell_type": "code",
   "execution_count": 16,
   "id": "27cefa8a",
   "metadata": {},
   "outputs": [],
   "source": [
    "a = np.array([1])"
   ]
  },
  {
   "cell_type": "code",
   "execution_count": 17,
   "id": "7cf7d846",
   "metadata": {},
   "outputs": [
    {
     "data": {
      "text/plain": [
       "array([1, 2])"
      ]
     },
     "execution_count": 17,
     "metadata": {},
     "output_type": "execute_result"
    }
   ],
   "source": [
    "np.append(np.array([1]), 2)"
   ]
  },
  {
   "cell_type": "code",
   "execution_count": 18,
   "id": "483540a0",
   "metadata": {},
   "outputs": [
    {
     "data": {
      "text/plain": [
       "array([1])"
      ]
     },
     "execution_count": 18,
     "metadata": {},
     "output_type": "execute_result"
    }
   ],
   "source": [
    "a"
   ]
  },
  {
   "cell_type": "code",
   "execution_count": 20,
   "id": "623f66d7",
   "metadata": {},
   "outputs": [],
   "source": [
    "class Queue:\n",
    "    def __init__(self, size):\n",
    "        self.size = size\n",
    "        self.top = -1\n",
    "        \n",
    "        self.queue = np.empty(self.size, dtype=\"object\")\n",
    "    \n",
    "    def is_full(self):\n",
    "        return (self.top == self.size - 1)\n",
    "    \n",
    "    def is_empty(self):\n",
    "        return (self.top == -1)\n",
    "    \n",
    "    def add(self, node):\n",
    "        if self.is_full and not self.is_empty:\n",
    "            raise OverflowError(\"Queue is full.\")\n",
    "        self.top += 1\n",
    "        self.queue[self.top] = node\n",
    "\n",
    "    def next(self):\n",
    "        if self.is_empty():\n",
    "            raise ValueError(\"Queue is empty.\")\n",
    "        first = self.queue[0]\n",
    "        self.queue = self.queue[1:]\n",
    "        self.top -= 1\n",
    "        np.append(self.queue, None)\n",
    "        return first\n",
    "\n",
    "\n",
    "    def get(self):\n",
    "        return self.queue"
   ]
  },
  {
   "cell_type": "code",
   "execution_count": 18,
   "id": "7f7ee3a2",
   "metadata": {},
   "outputs": [],
   "source": [
    "class BFS:\n",
    "    def __init__(self, graph, root):\n",
    "        self.graph = copy.deepcopy(graph)\n",
    "        self.root = self.graph.nodes[root-1]\n",
    "        self.root.level = 0\n",
    "        self.root.visited = True\n",
    "        self.queue = Queue(size=graph.n_nodes)\n",
    "        self.queue.add(self.root)\n",
    "    \n",
    "    def search(self):\n",
    "        first = self.queue.next()\n",
    "        for neighbor in first.get_neighbors():\n",
    "            if first == neighbor:\n",
    "                continue\n",
    "            if not neighbor.visited:\n",
    "                neighbor.visited = True\n",
    "                neighbor.parent = first\n",
    "                neighbor.level = first.level + 1\n",
    "                self.queue.add(neighbor)\n",
    "        \n",
    "        if not self.queue.is_empty():\n",
    "            self.search()"
   ]
  },
  {
   "cell_type": "code",
   "execution_count": 19,
   "id": "3bf691af",
   "metadata": {},
   "outputs": [],
   "source": [
    "bfs = BFS(graph, 1)"
   ]
  },
  {
   "cell_type": "code",
   "execution_count": 20,
   "id": "536fc730",
   "metadata": {},
   "outputs": [],
   "source": [
    "bfs.search()"
   ]
  },
  {
   "cell_type": "code",
   "execution_count": 21,
   "id": "b2384613",
   "metadata": {},
   "outputs": [],
   "source": [
    "def write_parent_level_txt(filename, graph):\n",
    "    with open(filename, \"w\") as f:\n",
    "        for node in graph.nodes:\n",
    "            f.write(f\"Node: {node.value} -- Parent: {node.parent} -- Level: {node.level}\\n\")"
   ]
  },
  {
   "cell_type": "code",
   "execution_count": 22,
   "id": "d246cb94",
   "metadata": {},
   "outputs": [],
   "source": [
    "filename = \"outputs/dfs_tree.txt\"\n",
    "write_parent_level_txt(filename, dfs.graph)"
   ]
  },
  {
   "cell_type": "code",
   "execution_count": 23,
   "id": "6fa3b35e",
   "metadata": {},
   "outputs": [],
   "source": [
    "filename = \"outputs/bfs_tree.txt\"\n",
    "write_parent_level_txt(filename, bfs.graph)"
   ]
  },
  {
   "cell_type": "code",
   "execution_count": 28,
   "id": "00556b78",
   "metadata": {},
   "outputs": [],
   "source": [
    "class MinimumPath:\n",
    "    \n",
    "    def __init__(self, graph):\n",
    "        self.graph = graph\n",
    "        self.matrix = np.full((graph.n_nodes, graph.n_nodes), fill_value=None)\n",
    "        self.run()\n",
    "    \n",
    "    def run(self):\n",
    "        for node in self.graph.nodes:\n",
    "            bfs = BFS(self.graph, node.value)\n",
    "            bfs.search()\n",
    "            for bfs_node in bfs.graph.nodes:\n",
    "                self.matrix[node.value-1, bfs_node.value-1] = bfs_node.level\n",
    "    \n",
    "    def get_distance(self, u_value, v_value):\n",
    "        return self.matrix[u_value-1, v_value-1]\n",
    "    \n",
    "    def get_diameter(self):\n",
    "        return np.max(self.matrix)\n",
    "    \n",
    "    def get_matrix(self):\n",
    "        return self.matrix\n",
    "    \n",
    "    def get_matrix_beautiful(self):\n",
    "        return pd.DataFrame(self.matrix, columns=np.arange(1, self.graph.n_nodes+1), index=np.arange(1, self.graph.n_nodes+1))\n",
    "    "
   ]
  },
  {
   "cell_type": "code",
   "execution_count": 29,
   "id": "3b627e06",
   "metadata": {},
   "outputs": [],
   "source": [
    "minpath = MinimumPath(graph)"
   ]
  },
  {
   "cell_type": "code",
   "execution_count": 30,
   "id": "dfacb292",
   "metadata": {},
   "outputs": [
    {
     "data": {
      "text/plain": [
       "array([[0, 3, 1, ..., 3, 3, 2],\n",
       "       [3, 0, 2, ..., 2, 1, 2],\n",
       "       [1, 2, 0, ..., 3, 3, 2],\n",
       "       ...,\n",
       "       [3, 2, 3, ..., 0, 2, 2],\n",
       "       [3, 1, 3, ..., 2, 0, 1],\n",
       "       [2, 2, 2, ..., 2, 1, 0]], dtype=object)"
      ]
     },
     "execution_count": 30,
     "metadata": {},
     "output_type": "execute_result"
    }
   ],
   "source": [
    "minpath.get_matrix()"
   ]
  },
  {
   "cell_type": "code",
   "execution_count": 32,
   "id": "af62b406",
   "metadata": {},
   "outputs": [
    {
     "data": {
      "text/plain": [
       "1"
      ]
     },
     "execution_count": 32,
     "metadata": {},
     "output_type": "execute_result"
    }
   ],
   "source": [
    "minpath.get_distance(1, 3)"
   ]
  },
  {
   "cell_type": "code",
   "execution_count": 33,
   "id": "04121029",
   "metadata": {},
   "outputs": [
    {
     "data": {
      "text/plain": [
       "3"
      ]
     },
     "execution_count": 33,
     "metadata": {},
     "output_type": "execute_result"
    }
   ],
   "source": [
    "minpath.get_diameter()"
   ]
  },
  {
   "cell_type": "code",
   "execution_count": null,
   "id": "7fd1a310",
   "metadata": {},
   "outputs": [],
   "source": [
    "#Componente conexa\n",
    "#Verifica quem ainda não foi visitado, e roda a BFS no primeiro que não foi visitado\n",
    "list(filter(lambda x: not x.visited, bfs.graph.nodes))"
   ]
  },
  {
   "cell_type": "code",
   "execution_count": null,
   "id": "d0528b8f",
   "metadata": {
    "scrolled": true
   },
   "outputs": [],
   "source": [
    "from pyvis.network import Network\n",
    "\n",
    "net = Network(notebook=True)\n",
    "\n",
    "for node in graph.nodes:\n",
    "    net.add_node(node.value, label=node.value)\n",
    "    \n",
    "for node in graph.nodes:\n",
    "    for neighbor in node.neighbors:\n",
    "        net.add_edge(node.value, neighbor.value)\n",
    "\n",
    "net.show(\"graph.html\")"
   ]
  }
 ],
 "metadata": {
  "kernelspec": {
   "display_name": "Python 3",
   "language": "python",
   "name": "python3"
  },
  "language_info": {
   "codemirror_mode": {
    "name": "ipython",
    "version": 3
   },
   "file_extension": ".py",
   "mimetype": "text/x-python",
   "name": "python",
   "nbconvert_exporter": "python",
   "pygments_lexer": "ipython3",
   "version": "3.8.5"
  }
 },
 "nbformat": 4,
 "nbformat_minor": 5
}

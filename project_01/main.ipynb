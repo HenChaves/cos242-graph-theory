{
 "cells": [
  {
   "cell_type": "code",
   "execution_count": 63,
   "id": "5515a1d0",
   "metadata": {},
   "outputs": [],
   "source": [
    "class Node:\n",
    "    def __init__(self, index):\n",
    "        self._index = index\n",
    "        self._neighbors = set()\n",
    "    \n",
    "    #Retorna o índice do vértice quando for chamado\n",
    "    def __repr__(self): \n",
    "        return str(self._index)\n",
    "    \n",
    "    #Adiciona um vértice adjacente\n",
    "    def add_neighbor(self, w):\n",
    "        self._neighbors.add(w)\n",
    "        w._neighbors.add(self)\n",
    "    \n",
    "    #Retorna o índice do vértice\n",
    "    def get_index(self):\n",
    "        return self._index\n",
    "    \n",
    "    #Retorna os vértices adjacentes\n",
    "    def get_neighbors(self):\n",
    "        return self._neighbors"
   ]
  },
  {
   "cell_type": "code",
   "execution_count": 64,
   "id": "dd1b9c8e",
   "metadata": {},
   "outputs": [],
   "source": [
    "a = Node(1)\n",
    "b = Node(2)\n",
    "c = Node(3)\n",
    "d = Node(4)"
   ]
  },
  {
   "cell_type": "code",
   "execution_count": 65,
   "id": "b8010f31",
   "metadata": {},
   "outputs": [
    {
     "name": "stdout",
     "output_type": "stream",
     "text": [
      "Neighbors of node 1: {2, 3, 4}\n",
      "Neighbors of node 2: {3, 1}\n",
      "Neighbors of node 3: {2, 1}\n",
      "Neighbors of node 4: {1}\n"
     ]
    }
   ],
   "source": [
    "a.add_neighbor(b)\n",
    "a.add_neighbor(c)\n",
    "a.add_neighbor(d)\n",
    "b.add_neighbor(c)\n",
    "\n",
    "\n",
    "print(f\"Neighbors of node {a}: {a.get_neighbors()}\")\n",
    "print(f\"Neighbors of node {b}: {b.get_neighbors()}\")\n",
    "print(f\"Neighbors of node {c}: {c.get_neighbors()}\")\n",
    "print(f\"Neighbors of node {d}: {d.get_neighbors()}\")"
   ]
  }
 ],
 "metadata": {
  "kernelspec": {
   "display_name": "Python 3",
   "language": "python",
   "name": "python3"
  },
  "language_info": {
   "codemirror_mode": {
    "name": "ipython",
    "version": 3
   },
   "file_extension": ".py",
   "mimetype": "text/x-python",
   "name": "python",
   "nbconvert_exporter": "python",
   "pygments_lexer": "ipython3",
   "version": "3.8.3"
  }
 },
 "nbformat": 4,
 "nbformat_minor": 5
}

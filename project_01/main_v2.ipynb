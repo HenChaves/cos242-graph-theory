{
 "cells": [
  {
   "cell_type": "code",
   "execution_count": 1,
   "id": "35ebd49b",
   "metadata": {},
   "outputs": [],
   "source": [
    "import numpy as np\n",
    "import os\n",
    "import pandas as pd\n",
    "from tqdm.notebook import tqdm\n",
    "import copy\n",
    "import sys"
   ]
  },
  {
   "cell_type": "code",
   "execution_count": 2,
   "id": "4bf1f824",
   "metadata": {},
   "outputs": [],
   "source": [
    "class Graph:\n",
    "    \n",
    "    def __init__(self, n):\n",
    "        self.n_nodes = n\n",
    "        self.matrix = np.zeros((n, n), dtype=\"uint8\")\n",
    "        self.nodes = [set() for i in range(n)]\n",
    "    \n",
    "    \n",
    "    def add_edge(self, v, w):\n",
    "        \n",
    "        if v == w:\n",
    "            self.matrix[v-1, v-1] = 2\n",
    "            self.nodes[v-1].add(v)\n",
    "            \n",
    "        else:\n",
    "            self.matrix[v-1, w-1] = 1\n",
    "            self.matrix[w-1, v-1] = 1\n",
    "            self.nodes[v-1].add(w)\n",
    "            self.nodes[w-1].add(v)\n",
    "    \n",
    "    def get_node(self, v):\n",
    "        return self.nodes[v-1]\n",
    "    \n",
    "    def get_lists(self):\n",
    "        return self.nodes\n",
    "    \n",
    "    def get_node_edges(self):\n",
    "        return {i+1:self.nodes[i] for i in range(self.n_nodes)}\n",
    "    \n",
    "    def get_matrix(self):\n",
    "        return self.matrix\n",
    "    \n",
    "    def get_matrix_beautiful(self):\n",
    "        return pd.DataFrame(self.matrix, columns=np.arange(1, self.n_nodes+1), index=np.arange(1, self.n_nodes+1))\n",
    "    \n",
    "    def sort_neighbors(self):\n",
    "        self.nodes = [sorted(n) for n in self.nodes]"
   ]
  },
  {
   "cell_type": "code",
   "execution_count": 3,
   "id": "79071db3",
   "metadata": {},
   "outputs": [],
   "source": [
    "def open_graph_txt(filename, extra=False):\n",
    "    with open(filename, \"r\") as f:\n",
    "        lines = f.read().split(\"\\n\")\n",
    "        n_nodes = int(lines[0])\n",
    "        edges = [tuple(map(lambda i: int(i), line.split(\" \"))) for line in lines[1:-1]]\n",
    "    \n",
    "    graph = Graph(n_nodes)\n",
    "    for v, w in edges:\n",
    "        graph.add_edge(v, w)\n",
    "    \n",
    "    if extra:\n",
    "        return graph, n_nodes, edges\n",
    "    \n",
    "    return graph\n",
    "    \n",
    "folder = \"inputs\"\n",
    "filename = \"grafo_1.txt\"\n",
    "\n",
    "path = os.path.join(folder, filename)\n",
    "\n",
    "graph = open_graph_txt(path)\n",
    "graph.sort_neighbors()"
   ]
  },
  {
   "cell_type": "code",
   "execution_count": 4,
   "metadata": {},
   "outputs": [
    {
     "output_type": "stream",
     "name": "stdout",
     "text": [
      "List:  0.00092 MB\nMatrix:  10.12 KB\n"
     ]
    }
   ],
   "source": [
    "print(\"List: \",sys.getsizeof(graph.get_lists())/(10**6),\"MB\")\n",
    "print(\"Matrix: \",sys.getsizeof(graph.get_matrix())/(10**3),\"KB\")"
   ]
  },
  {
   "cell_type": "code",
   "execution_count": 5,
   "id": "cc3156b6",
   "metadata": {},
   "outputs": [
    {
     "output_type": "stream",
     "name": "stdout",
     "text": [
      "Número de vértices: 100\nNúmero de arestas: 569.0\nGrau mínimo: 5\nGrau máximo: 16\nGrau médio: 11.38\nMediana do Grau: 11.0\n"
     ]
    }
   ],
   "source": [
    "def graph_statistics(graph):\n",
    "    print(\"Número de vértices:\", graph.n_nodes)\n",
    "    print(\"Número de arestas:\", graph.get_matrix().sum()/2)\n",
    "    print(\"Grau mínimo:\", graph.get_matrix().sum(axis=0).min())\n",
    "    print(\"Grau máximo:\", graph.get_matrix().sum(axis=0).max())\n",
    "    print(\"Grau médio:\", graph.get_matrix().sum(axis=0).mean())\n",
    "    print(\"Mediana do Grau:\", np.median(graph.get_matrix().sum(axis=0)))\n",
    "\n",
    "graph_statistics(graph)"
   ]
  },
  {
   "cell_type": "code",
   "execution_count": 6,
   "id": "5cedcd79",
   "metadata": {},
   "outputs": [],
   "source": [
    "class DFSL:\n",
    "    def __init__(self, graph, root):\n",
    "        self.graph = graph\n",
    "        self.visited = np.zeros(graph.n_nodes, dtype=\"uint8\")\n",
    "        self.level = np.full(graph.n_nodes, fill_value=-1, dtype=\"int32\")\n",
    "        self.parent = np.full(graph.n_nodes, fill_value=-1, dtype=\"int32\")\n",
    "        self.level[root-1] = 0\n",
    "        \n",
    "        self.start_root(root)\n",
    "    \n",
    "    def start_root(self, root):\n",
    "        self.stack = []\n",
    "        self.stack.append(root)\n",
    "    \n",
    "    def search(self):\n",
    "        while(len(self.stack) != 0):\n",
    "            u = self.stack.pop()\n",
    "            \n",
    "            if not self.visited[u-1]:\n",
    "                self.visited[u-1] = 1\n",
    "                \n",
    "                for v in self.graph.nodes[u-1][::-1]:\n",
    "                    if not self.visited[v-1]:\n",
    "                        self.stack.append(v)\n",
    "                        self.parent[v-1] = u\n",
    "                        self.level[v-1] = self.level[u-1] + 1\n",
    "                        "
   ]
  },
  {
   "cell_type": "code",
   "execution_count": 7,
   "metadata": {},
   "outputs": [],
   "source": [
    "class DFSM:\n",
    "    def __init__(self, graph, root):\n",
    "        self.graph = graph\n",
    "        self.visited = np.zeros(graph.n_nodes, dtype=\"uint8\")\n",
    "        self.level = np.full(graph.n_nodes, fill_value=-1, dtype=\"int32\")\n",
    "        self.parent = np.full(graph.n_nodes, fill_value=-1, dtype=\"int32\")\n",
    "        self.level[root-1] = 0\n",
    "        \n",
    "        self.start_root(root)\n",
    "    \n",
    "    def start_root(self, root):\n",
    "        self.stack = []\n",
    "        self.stack.append(root)\n",
    "    \n",
    "    def search(self):\n",
    "        while(len(self.stack) != 0):\n",
    "            u = self.stack.pop()\n",
    "            \n",
    "            if not self.visited[u-1]:\n",
    "                self.visited[u-1] = 1\n",
    "                \n",
    "                for v in np.flip(np.argwhere(self.graph.matrix[u-1, :] == 1).reshape(-1)) + 1:\n",
    "                    if not self.visited[v-1]:\n",
    "                        self.stack.append(v)\n",
    "                        self.parent[v-1] = u\n",
    "                        self.level[v-1] = self.level[u-1] + 1\n",
    "                        "
   ]
  },
  {
   "cell_type": "code",
   "execution_count": 8,
   "metadata": {},
   "outputs": [],
   "source": [
    "dfsl = DFSL(graph, 1)\n",
    "dfsl.search()"
   ]
  },
  {
   "cell_type": "code",
   "execution_count": 9,
   "metadata": {},
   "outputs": [],
   "source": [
    "dfsm = DFSM(graph, 1)\n",
    "dfsm.search()"
   ]
  },
  {
   "cell_type": "code",
   "execution_count": 10,
   "metadata": {},
   "outputs": [
    {
     "output_type": "stream",
     "name": "stdout",
     "text": [
      "DFSL Result:\n"
     ]
    }
   ],
   "source": [
    "print(\"DFSL Result:\")\n",
    "dfsl_df = pd.DataFrame(list(zip(range(1, dfsl.graph.n_nodes+1), dfsl.level, dfsl.parent)), columns=[\"node\", \"level\", \"parent\"], index=np.arange(1, dfsl.graph.n_nodes+1))\n",
    "dfsl_df.to_csv(\"./outputs/dfsl_test.csv\")"
   ]
  },
  {
   "cell_type": "code",
   "execution_count": 11,
   "metadata": {},
   "outputs": [
    {
     "output_type": "stream",
     "name": "stdout",
     "text": [
      "DFSM Result:\n"
     ]
    }
   ],
   "source": [
    "print(\"DFSM Result:\")\n",
    "dfsm_df = pd.DataFrame(list(zip(range(1, dfsm.graph.n_nodes+1), dfsm.level, dfsm.parent)), columns=[\"node\", \"level\", \"parent\"], index=np.arange(1, dfsm.graph.n_nodes+1))\n",
    "dfsm_df.to_csv(\"./outputs/dfsm_test.csv\")"
   ]
  },
  {
   "cell_type": "code",
   "execution_count": 12,
   "id": "7f7ee3a2",
   "metadata": {},
   "outputs": [],
   "source": [
    "class BFSL:\n",
    "    def __init__(self, graph, root):\n",
    "        self.graph = graph\n",
    "        self.visited = np.zeros(graph.n_nodes, dtype=\"uint8\")\n",
    "        self.level = np.full(graph.n_nodes, fill_value=-1, dtype=\"int32\")\n",
    "        self.parent = np.full(graph.n_nodes, fill_value=-1, dtype=\"int32\")\n",
    "        \n",
    "        self.level[root-1] = 0\n",
    "        self.visited[root-1] = 1\n",
    "        \n",
    "        self.start_root(root)\n",
    "        \n",
    "    def start_root(self, root):\n",
    "        self.queue = []\n",
    "        self.queue.append(root)\n",
    "        \n",
    "    def search(self):\n",
    "        \n",
    "        while(len(self.queue)):\n",
    "            v = self.queue.pop(0)\n",
    "            \n",
    "            for w in self.graph.nodes[v-1]:\n",
    "                if v == w:\n",
    "                        continue\n",
    "                if not self.visited[w-1]:\n",
    "                    self.visited[w-1] = 1\n",
    "                    self.queue.append(w)\n",
    "                    self.parent[w-1] = v\n",
    "                    self.level[w-1] = self.level[v-1] + 1"
   ]
  },
  {
   "cell_type": "code",
   "execution_count": 13,
   "metadata": {},
   "outputs": [],
   "source": [
    "class BFSM:\n",
    "    def __init__(self, graph, root):\n",
    "        self.graph = graph\n",
    "        self.visited = np.zeros(graph.n_nodes, dtype=\"uint8\")\n",
    "        self.level = np.full(graph.n_nodes, fill_value=-1, dtype=\"int32\")\n",
    "        self.parent = np.full(graph.n_nodes, fill_value=-1, dtype=\"int32\")\n",
    "        \n",
    "        self.level[root-1] = 0\n",
    "        self.visited[root-1] = 1\n",
    "        \n",
    "        self.start_root(root)\n",
    "        \n",
    "    def start_root(self, root):\n",
    "        self.queue = []\n",
    "        self.queue.append(root)\n",
    "        \n",
    "    def search(self):\n",
    "        \n",
    "        while(len(self.queue)):\n",
    "            v = self.queue.pop(0)\n",
    "            \n",
    "            for w in np.argwhere(self.graph.matrix[v-1, :] == 1).reshape(-1) + 1:\n",
    "                if v == w:\n",
    "                        continue\n",
    "                if not self.visited[w-1]:\n",
    "                    self.visited[w-1] = 1\n",
    "                    self.queue.append(w)\n",
    "                    self.parent[w-1] = v\n",
    "                    self.level[w-1] = self.level[v-1] + 1"
   ]
  },
  {
   "cell_type": "code",
   "execution_count": 14,
   "id": "3bf691af",
   "metadata": {},
   "outputs": [],
   "source": [
    "bfsl = BFSL(graph, 1)\n",
    "bfsl.search()"
   ]
  },
  {
   "cell_type": "code",
   "execution_count": 15,
   "id": "536fc730",
   "metadata": {},
   "outputs": [],
   "source": [
    "bfsm = BFSM(graph, 1)\n",
    "bfsm.search()"
   ]
  },
  {
   "cell_type": "code",
   "execution_count": 16,
   "id": "68b9d40c",
   "metadata": {},
   "outputs": [
    {
     "output_type": "stream",
     "name": "stdout",
     "text": [
      "BFSL Result:\n"
     ]
    }
   ],
   "source": [
    "print(\"BFSL Result:\")\n",
    "bfsl_df = pd.DataFrame(list(zip(range(1, bfsl.graph.n_nodes+1), bfsl.level, bfsl.parent)), columns=[\"node\", \"level\", \"parent\"], index=np.arange(1, bfsl.graph.n_nodes+1))\n",
    "bfsl_df.to_csv(\"./outputs/bfsl_test.csv\")"
   ]
  },
  {
   "cell_type": "code",
   "execution_count": 17,
   "metadata": {},
   "outputs": [
    {
     "output_type": "stream",
     "name": "stdout",
     "text": [
      "BFSM Result:\n"
     ]
    }
   ],
   "source": [
    "print(\"BFSM Result:\")\n",
    "bfsm_df = pd.DataFrame(list(zip(range(1, bfsm.graph.n_nodes+1), bfsm.level, bfsm.parent)), columns=[\"node\", \"level\", \"parent\"], index=np.arange(1, bfsm.graph.n_nodes+1))\n",
    "bfsm_df.to_csv(\"./outputs/bfsm_test.csv\")"
   ]
  },
  {
   "cell_type": "code",
   "execution_count": 18,
   "id": "10052ea2",
   "metadata": {},
   "outputs": [],
   "source": [
    "class MinimumPath:\n",
    "    \n",
    "    def __init__(self, graph):\n",
    "        self.graph = graph\n",
    "        self.matrix = np.full((graph.n_nodes, graph.n_nodes), fill_value=-1, dtype=\"int32\")\n",
    "        self.run()\n",
    "    \n",
    "    def run(self):\n",
    "        for v in tqdm(range(1, self.graph.n_nodes+1)):\n",
    "            bfsl = BFSL(self.graph, v)\n",
    "            bfsl.search()\n",
    "            for bfsl_node_index in np.argwhere(bfsl.visited == 1).reshape(-1):\n",
    "                self.matrix[v-1, bfsl_node_index] = bfsl.level[bfsl_node_index]\n",
    "            del bfsl\n",
    "    \n",
    "    def get_distance(self, u, v):\n",
    "        return self.matrix[u-1, v-1]\n",
    "    \n",
    "    def get_diameter(self):\n",
    "        return np.max(self.matrix)\n",
    "    \n",
    "    def get_matrix(self):\n",
    "        return self.matrix\n",
    "    \n",
    "    def get_matrix_beautiful(self):\n",
    "        return pd.DataFrame(self.matrix, columns=np.arange(1, self.graph.n_nodes+1), index=np.arange(1, self.graph.n_nodes+1))\n",
    "    "
   ]
  },
  {
   "cell_type": "code",
   "execution_count": 19,
   "id": "3b627e06",
   "metadata": {},
   "outputs": [
    {
     "output_type": "display_data",
     "data": {
      "text/plain": "HBox(children=(HTML(value=''), FloatProgress(value=0.0), HTML(value='')))",
      "application/vnd.jupyter.widget-view+json": {
       "version_major": 2,
       "version_minor": 0,
       "model_id": "7ec887ad959d40aeac21ff16c0ae6012"
      }
     },
     "metadata": {}
    },
    {
     "output_type": "stream",
     "name": "stdout",
     "text": [
      "\n"
     ]
    }
   ],
   "source": [
    "minpath = MinimumPath(graph)"
   ]
  },
  {
   "cell_type": "code",
   "execution_count": 20,
   "id": "dfacb292",
   "metadata": {},
   "outputs": [
    {
     "output_type": "execute_result",
     "data": {
      "text/plain": [
       "array([[0, 3, 1, ..., 3, 3, 2],\n",
       "       [3, 0, 2, ..., 2, 1, 2],\n",
       "       [1, 2, 0, ..., 3, 3, 2],\n",
       "       ...,\n",
       "       [3, 2, 3, ..., 0, 2, 2],\n",
       "       [3, 1, 3, ..., 2, 0, 1],\n",
       "       [2, 2, 2, ..., 2, 1, 0]])"
      ]
     },
     "metadata": {},
     "execution_count": 20
    }
   ],
   "source": [
    "minpath.get_matrix()"
   ]
  },
  {
   "cell_type": "code",
   "execution_count": 21,
   "id": "af62b406",
   "metadata": {},
   "outputs": [
    {
     "output_type": "execute_result",
     "data": {
      "text/plain": [
       "1"
      ]
     },
     "metadata": {},
     "execution_count": 21
    }
   ],
   "source": [
    "minpath.get_distance(1, 3)"
   ]
  },
  {
   "cell_type": "code",
   "execution_count": 22,
   "id": "04121029",
   "metadata": {},
   "outputs": [
    {
     "output_type": "execute_result",
     "data": {
      "text/plain": [
       "3"
      ]
     },
     "metadata": {},
     "execution_count": 22
    }
   ],
   "source": [
    "minpath.get_diameter()"
   ]
  },
  {
   "cell_type": "code",
   "execution_count": 23,
   "id": "30cd8b26",
   "metadata": {},
   "outputs": [],
   "source": [
    "class Components:\n",
    "    \n",
    "    def __init__(self, graph):\n",
    "        self.graph = graph\n",
    "        self.visited = np.zeros(graph.n_nodes, dtype=\"uint8\")\n",
    "        self.components = []\n",
    "        \n",
    "        while np.argwhere(self.visited == 0).reshape(-1).shape[0] > 0:\n",
    "            root = np.argwhere(self.visited == 0).reshape(-1)[0] + 1\n",
    "\n",
    "            bfsl = BFSL(self.graph, root)\n",
    "            bfsl.search()\n",
    "            \n",
    "            bfsl_visited_index = np.argwhere(bfsl.visited == 1).reshape(-1)\n",
    "            \n",
    "            self.visited[bfsl_visited_index] = 1\n",
    "            self.components.append((bfsl_visited_index+1).tolist())\n",
    "\n",
    "    \n",
    "    \n",
    "    "
   ]
  },
  {
   "cell_type": "code",
   "execution_count": 31,
   "id": "67441d53",
   "metadata": {},
   "outputs": [],
   "source": [
    "components = Components(graph)\n",
    "a = sorted(components.components, key=lambda x: len(x), reverse=True)\n",
    "b = [len(x) for x in a]\n",
    "c = list(zip(b, a))\n",
    "c"
   ]
  },
  {
   "cell_type": "code",
   "execution_count": 30,
   "id": "f8436bd5",
   "metadata": {},
   "outputs": [],
   "source": [
    "# from pyvis.network import Network\n",
    "\n",
    "# net = Network(notebook=True)\n",
    "\n",
    "# for v in range(1, graph.n_nodes+1):\n",
    "#     net.add_node(v, label=v)\n",
    "    \n",
    "# for v, neighbors in enumerate(graph.nodes):\n",
    "#     for w in neighbors:\n",
    "#         net.add_edge(v+1, w)\n",
    "\n",
    "# net.show(\"graph.html\")"
   ]
  },
  {
   "cell_type": "code",
   "execution_count": null,
   "id": "0e4f481e",
   "metadata": {},
   "outputs": [],
   "source": []
  }
 ],
 "metadata": {
  "kernelspec": {
   "name": "python394jvsc74a57bd05fa7bcb88a8a02560aa18023a8e77b38c69a6d20c15f0b9e64827779c46801f1",
   "display_name": "Python 3.9.4 64-bit"
  },
  "language_info": {
   "codemirror_mode": {
    "name": "ipython",
    "version": 3
   },
   "file_extension": ".py",
   "mimetype": "text/x-python",
   "name": "python",
   "nbconvert_exporter": "python",
   "pygments_lexer": "ipython3",
   "version": "3.9.4"
  }
 },
 "nbformat": 4,
 "nbformat_minor": 5
}
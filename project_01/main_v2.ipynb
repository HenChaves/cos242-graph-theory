{
 "cells": [
  {
   "cell_type": "code",
   "execution_count": 1,
   "id": "35ebd49b",
   "metadata": {},
   "outputs": [],
   "source": [
    "import numpy as np\n",
    "import os\n",
    "import pandas as pd\n",
    "from tqdm.notebook import tqdm\n",
    "import copy\n",
    "import sys\n",
    "# sys.setrecursionlimit(10000)"
   ]
  },
  {
   "cell_type": "code",
   "execution_count": 2,
   "id": "4bf1f824",
   "metadata": {},
   "outputs": [],
   "source": [
    "class Graph:\n",
    "    \n",
    "    def __init__(self, n):\n",
    "        self.n_nodes = n\n",
    "        self.matrix = np.zeros((n, n), dtype=\"uint8\")\n",
    "        self.nodes = [set() for i in range(n)]\n",
    "#         self.nodes = np.full(n, fill_value=set(), dtype=\"object\")\n",
    "    \n",
    "    \n",
    "    def add_edge(self, v, w):\n",
    "        \n",
    "        if v == w:\n",
    "            self.matrix[v-1, v-1] = 2\n",
    "            self.nodes[v-1].add(v)\n",
    "            \n",
    "        else:\n",
    "            self.matrix[v-1, w-1] = 1\n",
    "            self.matrix[w-1, v-1] = 1\n",
    "            self.nodes[v-1].add(w)\n",
    "            self.nodes[w-1].add(v)\n",
    "    \n",
    "    def get_node(self, v):\n",
    "        return self.nodes[v-1]\n",
    "    \n",
    "    def get_lists(self):\n",
    "        return self.nodes\n",
    "    \n",
    "    def get_node_edges(self):\n",
    "        return {i+1:self.nodes[i] for i in range(self.n_nodes)}\n",
    "    \n",
    "    def get_matrix(self):\n",
    "        return self.matrix\n",
    "    \n",
    "    def get_matrix_beautiful(self):\n",
    "        return pd.DataFrame(self.matrix, columns=np.arange(1, self.n_nodes+1), index=np.arange(1, self.n_nodes+1))\n",
    "    \n",
    "    def sort_neighbors(self):\n",
    "        self.nodes = [sorted(n) for n in self.nodes]"
   ]
  },
  {
   "cell_type": "code",
   "execution_count": 3,
   "id": "79071db3",
   "metadata": {},
   "outputs": [],
   "source": [
    "def open_graph_txt(filename, extra=False):\n",
    "    with open(filename, \"r\") as f:\n",
    "        lines = f.read().split(\"\\n\")\n",
    "        n_nodes = int(lines[0])\n",
    "        edges = [tuple(map(lambda i: int(i), line.split(\" \"))) for line in lines[1:-1]]\n",
    "    \n",
    "    graph = Graph(n_nodes)\n",
    "    for v, w in edges:\n",
    "        graph.add_edge(v, w)\n",
    "    \n",
    "    if extra:\n",
    "        return graph, n_nodes, edges\n",
    "    \n",
    "    return graph"
   ]
  },
  {
   "cell_type": "code",
   "execution_count": 4,
   "id": "9717df61",
   "metadata": {},
   "outputs": [],
   "source": [
    "folder = \"inputs\"\n",
    "filename = \"grafo_4.txt\"\n",
    "\n",
    "path = os.path.join(folder, filename)"
   ]
  },
  {
   "cell_type": "code",
   "execution_count": 5,
   "id": "0fb94fed",
   "metadata": {},
   "outputs": [],
   "source": [
    "graph = open_graph_txt(path)\n",
    "graph.sort_neighbors()"
   ]
  },
  {
   "cell_type": "code",
   "execution_count": null,
   "id": "dec5f647",
   "metadata": {},
   "outputs": [],
   "source": [
    "graph.nodes"
   ]
  },
  {
   "cell_type": "code",
   "execution_count": null,
   "id": "d87e3664",
   "metadata": {
    "scrolled": true
   },
   "outputs": [],
   "source": [
    "graph.get_node_edges()"
   ]
  },
  {
   "cell_type": "code",
   "execution_count": null,
   "id": "dae38d6d",
   "metadata": {
    "scrolled": true
   },
   "outputs": [],
   "source": [
    "graph.get_lists()"
   ]
  },
  {
   "cell_type": "code",
   "execution_count": null,
   "id": "7da55863",
   "metadata": {},
   "outputs": [],
   "source": [
    "graph.get_matrix()"
   ]
  },
  {
   "cell_type": "code",
   "execution_count": null,
   "id": "5f5772b7",
   "metadata": {},
   "outputs": [],
   "source": [
    "graph.get_matrix_beautiful()"
   ]
  },
  {
   "cell_type": "code",
   "execution_count": null,
   "id": "cc3156b6",
   "metadata": {},
   "outputs": [],
   "source": [
    "def graph_statistics(graph):\n",
    "    print(\"Número de vértices:\", graph.n_nodes)\n",
    "    print(\"Número de arestas:\", graph.get_matrix().sum()/2)\n",
    "    print(\"Grau mínimo:\", graph.get_matrix().sum(axis=0).min())\n",
    "    print(\"Grau máximo:\", graph.get_matrix().sum(axis=0).max())\n",
    "    print(\"Grau médio:\", graph.get_matrix().sum(axis=0).mean())\n",
    "    print(\"Mediana do Grau:\", np.median(graph.get_matrix().sum(axis=0)))"
   ]
  },
  {
   "cell_type": "code",
   "execution_count": null,
   "id": "d5d78408",
   "metadata": {},
   "outputs": [],
   "source": [
    "graph_statistics(graph)"
   ]
  },
  {
   "cell_type": "code",
   "execution_count": null,
   "id": "5620edb4",
   "metadata": {},
   "outputs": [],
   "source": [
    "class DFS:\n",
    "    def __init__(self, graph, root):\n",
    "        self.graph = graph\n",
    "        self.visited = np.zeros(graph.n_nodes, dtype=\"uint8\")\n",
    "        self.level = np.full(graph.n_nodes, fill_value=-1, dtype=\"int32\")\n",
    "        self.parent = np.full(graph.n_nodes, fill_value=-1, dtype=\"int32\")\n",
    "        \n",
    "        self.level[root-1] = 0\n",
    "#         self.visited[root-1] = 1\n",
    "        \n",
    "        self.start_root(root)\n",
    "    \n",
    "    def start_root(self, root):\n",
    "        self.stack = []\n",
    "        self.stack.append(root)\n",
    "    \n",
    "    def search(self):\n",
    "        \n",
    "        while(len(self.stack) != 0):\n",
    "            print(self.stack)\n",
    "            u = self.stack.pop()\n",
    "            if (not self.visited[u-1]):\n",
    "                self.visited[u-1] = 1\n",
    "                \n",
    "                for v in self.graph.nodes[u-1]:\n",
    "                    if v == u:\n",
    "                        continue\n",
    "                        \n",
    "                    self.stack.append(v)\n",
    "                    if not self.visited[v-1]:\n",
    "                        self.level[v-1] = self.level[u-1] + 1\n",
    "                        self.parent[v-1] = u"
   ]
  },
  {
   "cell_type": "code",
   "execution_count": null,
   "id": "1c52ff0c",
   "metadata": {},
   "outputs": [],
   "source": []
  },
  {
   "cell_type": "code",
   "execution_count": null,
   "id": "b73d7325",
   "metadata": {},
   "outputs": [],
   "source": []
  },
  {
   "cell_type": "code",
   "execution_count": null,
   "id": "5782fa9d",
   "metadata": {},
   "outputs": [],
   "source": [
    "dfs = DFS(graph, 1)\n",
    "dfs.search()"
   ]
  },
  {
   "cell_type": "code",
   "execution_count": null,
   "id": "2e394bdf",
   "metadata": {},
   "outputs": [],
   "source": [
    "[1, 2, 5, 3]"
   ]
  },
  {
   "cell_type": "code",
   "execution_count": null,
   "id": "851916df",
   "metadata": {},
   "outputs": [],
   "source": [
    "pd.DataFrame(list(zip(range(1, dfs.graph.n_nodes+1), dfs.level, dfs.parent)), columns=[\"node\", \"level\", \"parent\"], index=np.arange(1, dfs.graph.n_nodes+1))"
   ]
  },
  {
   "cell_type": "code",
   "execution_count": null,
   "id": "d0528b8f",
   "metadata": {
    "scrolled": false
   },
   "outputs": [],
   "source": [
    "net.show(\"graph.html\")"
   ]
  },
  {
   "cell_type": "code",
   "execution_count": 8,
   "id": "7f7ee3a2",
   "metadata": {},
   "outputs": [],
   "source": [
    "class BFS:\n",
    "    def __init__(self, graph, root):\n",
    "        self.graph = graph\n",
    "        self.visited = np.zeros(graph.n_nodes, dtype=\"uint8\")\n",
    "        self.level = np.full(graph.n_nodes, fill_value=-1, dtype=\"int32\")\n",
    "        self.parent = np.full(graph.n_nodes, fill_value=-1, dtype=\"int32\")\n",
    "        \n",
    "        self.level[root-1] = 0\n",
    "        self.visited[root-1] = 1\n",
    "        \n",
    "        self.start_root(root)\n",
    "        \n",
    "    def start_root(self, root):\n",
    "        self.queue = []\n",
    "        self.queue.append(root)\n",
    "        \n",
    "    def search(self):\n",
    "        \n",
    "        while(len(self.queue)):\n",
    "            v = self.queue.pop(0)\n",
    "            \n",
    "            for w in self.graph.nodes[v-1]:\n",
    "                if v == w:\n",
    "                        continue\n",
    "                if not self.visited[w-1]:\n",
    "                    self.visited[w-1] = 1\n",
    "                    self.queue.append(w)\n",
    "                    self.parent[w-1] = v\n",
    "                    self.level[w-1] = self.level[v-1] + 1"
   ]
  },
  {
   "cell_type": "code",
   "execution_count": null,
   "id": "3bf691af",
   "metadata": {},
   "outputs": [],
   "source": [
    "bfs = BFS(graph, 1)"
   ]
  },
  {
   "cell_type": "code",
   "execution_count": null,
   "id": "536fc730",
   "metadata": {},
   "outputs": [],
   "source": [
    "bfs.search()"
   ]
  },
  {
   "cell_type": "code",
   "execution_count": null,
   "id": "68b9d40c",
   "metadata": {},
   "outputs": [],
   "source": [
    "pd.DataFrame(list(zip(range(1, bfs.graph.n_nodes+1), bfs.level, bfs.parent)), columns=[\"node\", \"level\", \"parent\"], index=np.arange(1, bfs.graph.n_nodes+1))"
   ]
  },
  {
   "cell_type": "code",
   "execution_count": null,
   "id": "0664b27e",
   "metadata": {},
   "outputs": [],
   "source": [
    "net.show(\"graph.html\")"
   ]
  },
  {
   "cell_type": "code",
   "execution_count": null,
   "id": "b2384613",
   "metadata": {},
   "outputs": [],
   "source": [
    "def write_parent_level_txt(filename, graph):\n",
    "    with open(filename, \"w\") as f:\n",
    "        for node in graph.nodes:\n",
    "            f.write(f\"Node: {node.value} -- Parent: {node.parent} -- Level: {node.level}\\n\")"
   ]
  },
  {
   "cell_type": "code",
   "execution_count": null,
   "id": "6fa3b35e",
   "metadata": {},
   "outputs": [],
   "source": [
    "filename = \"outputs/bfs_tree.txt\"\n",
    "write_parent_level_txt(filename, bfs.graph)"
   ]
  },
  {
   "cell_type": "code",
   "execution_count": null,
   "id": "10052ea2",
   "metadata": {},
   "outputs": [],
   "source": [
    "class MinimumPath:\n",
    "    \n",
    "    def __init__(self, graph):\n",
    "        self.graph = graph\n",
    "        self.matrix = np.full((graph.n_nodes, graph.n_nodes), fill_value=-1, dtype=\"int32\")\n",
    "        self.run()\n",
    "    \n",
    "    def run(self):\n",
    "        for v in tqdm(range(1, self.graph.n_nodes+1)):\n",
    "            bfs = BFS(self.graph, v)\n",
    "            bfs.search()\n",
    "            for bfs_node_index in np.argwhere(bfs.visited == 1).reshape(-1):\n",
    "                self.matrix[v-1, bfs_node_index] = bfs.level[bfs_node_index]\n",
    "            del bfs\n",
    "    \n",
    "    def get_distance(self, u, v):\n",
    "        return self.matrix[u-1, v-1]\n",
    "    \n",
    "    def get_diameter(self):\n",
    "        return np.max(self.matrix)\n",
    "    \n",
    "    def get_matrix(self):\n",
    "        return self.matrix\n",
    "    \n",
    "    def get_matrix_beautiful(self):\n",
    "        return pd.DataFrame(self.matrix, columns=np.arange(1, self.graph.n_nodes+1), index=np.arange(1, self.graph.n_nodes+1))\n",
    "    "
   ]
  },
  {
   "cell_type": "code",
   "execution_count": null,
   "id": "3b627e06",
   "metadata": {},
   "outputs": [],
   "source": [
    "minpath = MinimumPath(graph)"
   ]
  },
  {
   "cell_type": "code",
   "execution_count": null,
   "id": "dfacb292",
   "metadata": {},
   "outputs": [],
   "source": [
    "minpath.get_matrix()"
   ]
  },
  {
   "cell_type": "code",
   "execution_count": null,
   "id": "af62b406",
   "metadata": {},
   "outputs": [],
   "source": [
    "minpath.get_distance(1, 3)"
   ]
  },
  {
   "cell_type": "code",
   "execution_count": null,
   "id": "04121029",
   "metadata": {},
   "outputs": [],
   "source": [
    "minpath.get_diameter()"
   ]
  },
  {
   "cell_type": "code",
   "execution_count": 9,
   "id": "30cd8b26",
   "metadata": {},
   "outputs": [],
   "source": [
    "class Components:\n",
    "    \n",
    "    def __init__(self, graph):\n",
    "        self.graph = graph\n",
    "        self.visited = np.zeros(graph.n_nodes, dtype=\"uint8\")\n",
    "        self.components = []\n",
    "        \n",
    "        while np.argwhere(self.visited == 0).reshape(-1).shape[0] > 0:\n",
    "            root = np.argwhere(self.visited == 0).reshape(-1)[0] + 1\n",
    "\n",
    "            bfs = BFS(self.graph, root)\n",
    "            bfs.search()\n",
    "            \n",
    "            bfs_visited_index = np.argwhere(bfs.visited == 1).reshape(-1)\n",
    "            \n",
    "            self.visited[bfs_visited_index] = 1\n",
    "            self.components.append((bfs_visited_index+1).tolist())\n",
    "\n",
    "    \n",
    "    \n",
    "    "
   ]
  },
  {
   "cell_type": "code",
   "execution_count": 10,
   "id": "67441d53",
   "metadata": {},
   "outputs": [
    {
     "name": "stdout",
     "output_type": "stream",
     "text": [
      "[1 1 0 ... 0 1 1]\n",
      "[1 1 1 ... 0 1 1]\n",
      "[1 1 1 ... 1 1 1]\n",
      "[1 1 1 ... 1 1 1]\n",
      "[1 1 1 ... 1 1 1]\n",
      "[1 1 1 ... 1 1 1]\n",
      "[1 1 1 ... 1 1 1]\n",
      "[1 1 1 ... 1 1 1]\n",
      "[1 1 1 ... 1 1 1]\n",
      "[1 1 1 ... 1 1 1]\n",
      "[1 1 1 ... 1 1 1]\n",
      "[1 1 1 ... 1 1 1]\n",
      "[1 1 1 ... 1 1 1]\n",
      "[1 1 1 ... 1 1 1]\n",
      "[1 1 1 ... 1 1 1]\n",
      "[1 1 1 ... 1 1 1]\n",
      "[1 1 1 ... 1 1 1]\n",
      "[1 1 1 ... 1 1 1]\n",
      "[1 1 1 ... 1 1 1]\n",
      "[1 1 1 ... 1 1 1]\n"
     ]
    }
   ],
   "source": [
    "components = Components(graph)"
   ]
  },
  {
   "cell_type": "code",
   "execution_count": 11,
   "id": "bcdb0dd7",
   "metadata": {},
   "outputs": [],
   "source": [
    "a = sorted(components.components, key=lambda x: len(x), reverse=True)"
   ]
  },
  {
   "cell_type": "code",
   "execution_count": 12,
   "id": "2dde99f9",
   "metadata": {},
   "outputs": [],
   "source": [
    "b = [len(x) for x in a]"
   ]
  },
  {
   "cell_type": "code",
   "execution_count": 13,
   "id": "54670b95",
   "metadata": {},
   "outputs": [],
   "source": [
    "c = list(zip(b, a))"
   ]
  },
  {
   "cell_type": "code",
   "execution_count": null,
   "id": "4a715e96",
   "metadata": {},
   "outputs": [],
   "source": [
    "c"
   ]
  },
  {
   "cell_type": "code",
   "execution_count": null,
   "id": "f8436bd5",
   "metadata": {},
   "outputs": [],
   "source": [
    "from pyvis.network import Network\n",
    "\n",
    "net = Network(notebook=True)\n",
    "\n",
    "for v in range(1, graph.n_nodes+1):\n",
    "    net.add_node(v, label=v)\n",
    "    \n",
    "for v, neighbors in enumerate(graph.nodes):\n",
    "    for w in neighbors:\n",
    "        net.add_edge(v+1, w)\n",
    "\n",
    "net.show(\"graph.html\")"
   ]
  },
  {
   "cell_type": "code",
   "execution_count": null,
   "id": "0e4f481e",
   "metadata": {},
   "outputs": [],
   "source": []
  }
 ],
 "metadata": {
  "kernelspec": {
   "display_name": "Python 3",
   "language": "python",
   "name": "python3"
  },
  "language_info": {
   "codemirror_mode": {
    "name": "ipython",
    "version": 3
   },
   "file_extension": ".py",
   "mimetype": "text/x-python",
   "name": "python",
   "nbconvert_exporter": "python",
   "pygments_lexer": "ipython3",
   "version": "3.8.5"
  }
 },
 "nbformat": 4,
 "nbformat_minor": 5
}

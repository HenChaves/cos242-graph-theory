{
 "cells": [
  {
   "cell_type": "code",
   "execution_count": 1,
   "metadata": {},
   "outputs": [],
   "source": [
    "from main import *"
   ]
  },
  {
   "cell_type": "markdown",
   "metadata": {},
   "source": [
    "<h2> Estudo de Caso 1 </h2>"
   ]
  },
  {
   "cell_type": "markdown",
   "metadata": {},
   "source": [
    "<h3> grafo_W_1.txt </h3>"
   ]
  },
  {
   "cell_type": "code",
   "execution_count": 2,
   "metadata": {},
   "outputs": [],
   "source": [
    "graph_1 = open_graph_txt(\"inputs/grafo_W_1.txt\", representation=\"matrix\")"
   ]
  },
  {
   "cell_type": "code",
   "execution_count": 3,
   "metadata": {},
   "outputs": [],
   "source": [
    "dijkstra_1 = Dijkstra(graph_1, 1)"
   ]
  },
  {
   "cell_type": "code",
   "execution_count": 4,
   "metadata": {},
   "outputs": [
    {
     "data": {
      "text/html": [
       "<div>\n",
       "<style scoped>\n",
       "    .dataframe tbody tr th:only-of-type {\n",
       "        vertical-align: middle;\n",
       "    }\n",
       "\n",
       "    .dataframe tbody tr th {\n",
       "        vertical-align: top;\n",
       "    }\n",
       "\n",
       "    .dataframe thead th {\n",
       "        text-align: right;\n",
       "    }\n",
       "</style>\n",
       "<table border=\"1\" class=\"dataframe\">\n",
       "  <thead>\n",
       "    <tr style=\"text-align: right;\">\n",
       "      <th></th>\n",
       "      <th>node</th>\n",
       "      <th>distance</th>\n",
       "      <th>parent</th>\n",
       "    </tr>\n",
       "  </thead>\n",
       "  <tbody>\n",
       "    <tr>\n",
       "      <th>1</th>\n",
       "      <td>1</td>\n",
       "      <td>0.00</td>\n",
       "      <td>-1</td>\n",
       "    </tr>\n",
       "    <tr>\n",
       "      <th>10</th>\n",
       "      <td>10</td>\n",
       "      <td>0.97</td>\n",
       "      <td>911</td>\n",
       "    </tr>\n",
       "    <tr>\n",
       "      <th>20</th>\n",
       "      <td>20</td>\n",
       "      <td>1.24</td>\n",
       "      <td>168</td>\n",
       "    </tr>\n",
       "    <tr>\n",
       "      <th>30</th>\n",
       "      <td>30</td>\n",
       "      <td>0.69</td>\n",
       "      <td>279</td>\n",
       "    </tr>\n",
       "    <tr>\n",
       "      <th>40</th>\n",
       "      <td>40</td>\n",
       "      <td>1.06</td>\n",
       "      <td>333</td>\n",
       "    </tr>\n",
       "    <tr>\n",
       "      <th>50</th>\n",
       "      <td>50</td>\n",
       "      <td>1.31</td>\n",
       "      <td>198</td>\n",
       "    </tr>\n",
       "  </tbody>\n",
       "</table>\n",
       "</div>"
      ],
      "text/plain": [
       "    node  distance  parent\n",
       "1      1      0.00      -1\n",
       "10    10      0.97     911\n",
       "20    20      1.24     168\n",
       "30    30      0.69     279\n",
       "40    40      1.06     333\n",
       "50    50      1.31     198"
      ]
     },
     "execution_count": 4,
     "metadata": {},
     "output_type": "execute_result"
    }
   ],
   "source": [
    "dijkstra_df_output(dijkstra_1, save=False).loc[[1, 10, 20, 30, 40, 50]]"
   ]
  },
  {
   "cell_type": "code",
   "execution_count": 5,
   "metadata": {},
   "outputs": [
    {
     "name": "stdout",
     "output_type": "stream",
     "text": [
      "Caminho Mínimo do 10: [1, 120, 131, 911, 10]\n",
      "Caminho Mínimo do 20: [1, 762, 811, 318, 515, 146, 66, 856, 168, 20]\n",
      "Caminho Mínimo do 30: [1, 762, 811, 489, 83, 279, 30]\n",
      "Caminho Mínimo do 40: [1, 120, 761, 333, 40]\n",
      "Caminho Mínimo do 50: [1, 762, 631, 452, 424, 577, 376, 303, 198, 50]\n"
     ]
    }
   ],
   "source": [
    "for i in [10, 20, 30, 40, 50]:\n",
    "    print(f\"Caminho Mínimo do {i}:\", dijkstra_1.minpath(i))"
   ]
  },
  {
   "cell_type": "code",
   "execution_count": 6,
   "metadata": {},
   "outputs": [],
   "source": [
    "del graph_1\n",
    "del dijkstra_1"
   ]
  },
  {
   "cell_type": "markdown",
   "metadata": {},
   "source": [
    "<h3> grafo_W_2.txt </h3>"
   ]
  },
  {
   "cell_type": "code",
   "execution_count": 7,
   "metadata": {},
   "outputs": [],
   "source": [
    "graph_2 = open_graph_txt(\"inputs/grafo_W_2.txt\", representation=\"matrix\")"
   ]
  },
  {
   "cell_type": "code",
   "execution_count": 8,
   "metadata": {},
   "outputs": [],
   "source": [
    "dijkstra_2 = Dijkstra(graph_2, 1)"
   ]
  },
  {
   "cell_type": "code",
   "execution_count": 9,
   "metadata": {},
   "outputs": [
    {
     "data": {
      "text/html": [
       "<div>\n",
       "<style scoped>\n",
       "    .dataframe tbody tr th:only-of-type {\n",
       "        vertical-align: middle;\n",
       "    }\n",
       "\n",
       "    .dataframe tbody tr th {\n",
       "        vertical-align: top;\n",
       "    }\n",
       "\n",
       "    .dataframe thead th {\n",
       "        text-align: right;\n",
       "    }\n",
       "</style>\n",
       "<table border=\"1\" class=\"dataframe\">\n",
       "  <thead>\n",
       "    <tr style=\"text-align: right;\">\n",
       "      <th></th>\n",
       "      <th>node</th>\n",
       "      <th>distance</th>\n",
       "      <th>parent</th>\n",
       "    </tr>\n",
       "  </thead>\n",
       "  <tbody>\n",
       "    <tr>\n",
       "      <th>1</th>\n",
       "      <td>1</td>\n",
       "      <td>0.00</td>\n",
       "      <td>-1</td>\n",
       "    </tr>\n",
       "    <tr>\n",
       "      <th>10</th>\n",
       "      <td>10</td>\n",
       "      <td>1.70</td>\n",
       "      <td>9801</td>\n",
       "    </tr>\n",
       "    <tr>\n",
       "      <th>20</th>\n",
       "      <td>20</td>\n",
       "      <td>1.68</td>\n",
       "      <td>9865</td>\n",
       "    </tr>\n",
       "    <tr>\n",
       "      <th>30</th>\n",
       "      <td>30</td>\n",
       "      <td>2.39</td>\n",
       "      <td>8235</td>\n",
       "    </tr>\n",
       "    <tr>\n",
       "      <th>40</th>\n",
       "      <td>40</td>\n",
       "      <td>1.86</td>\n",
       "      <td>7287</td>\n",
       "    </tr>\n",
       "    <tr>\n",
       "      <th>50</th>\n",
       "      <td>50</td>\n",
       "      <td>2.29</td>\n",
       "      <td>185</td>\n",
       "    </tr>\n",
       "  </tbody>\n",
       "</table>\n",
       "</div>"
      ],
      "text/plain": [
       "    node  distance  parent\n",
       "1      1      0.00      -1\n",
       "10    10      1.70    9801\n",
       "20    20      1.68    9865\n",
       "30    30      2.39    8235\n",
       "40    40      1.86    7287\n",
       "50    50      2.29     185"
      ]
     },
     "execution_count": 9,
     "metadata": {},
     "output_type": "execute_result"
    }
   ],
   "source": [
    "dijkstra_df_output(dijkstra_2, save=False).loc[[1, 10, 20, 30, 40, 50]]"
   ]
  },
  {
   "cell_type": "code",
   "execution_count": 10,
   "metadata": {
    "scrolled": true
   },
   "outputs": [
    {
     "name": "stdout",
     "output_type": "stream",
     "text": [
      "Caminho Mínimo do 10: [1, 7166, 984, 4657, 3085, 5480, 8045, 9479, 9801, 10]\n",
      "Caminho Mínimo do 20: [1, 4132, 4338, 876, 2795, 7344, 1116, 4832, 3497, 9865, 20]\n",
      "Caminho Mínimo do 30: [1, 7166, 391, 6800, 3281, 1386, 2640, 1696, 8235, 30]\n",
      "Caminho Mínimo do 40: [1, 7448, 4538, 8895, 7287, 40]\n",
      "Caminho Mínimo do 50: [1, 7166, 5918, 3131, 5128, 6147, 5216, 2219, 5429, 6780, 6551, 185, 50]\n"
     ]
    }
   ],
   "source": [
    "for i in [10, 20, 30, 40, 50]:\n",
    "    print(f\"Caminho Mínimo do {i}:\", dijkstra_2.minpath(i))"
   ]
  },
  {
   "cell_type": "code",
   "execution_count": 11,
   "metadata": {},
   "outputs": [],
   "source": [
    "del graph_2\n",
    "del dijkstra_2"
   ]
  },
  {
   "cell_type": "markdown",
   "metadata": {},
   "source": [
    "<h3> grafo_W_3.txt </h3>"
   ]
  },
  {
   "cell_type": "code",
   "execution_count": 12,
   "metadata": {},
   "outputs": [
    {
     "name": "stdout",
     "output_type": "stream",
     "text": [
      "Cannot create matrix >> Unable to allocate 74.5 GiB for an array with shape (100000, 100000) and data type float64\n"
     ]
    }
   ],
   "source": [
    "graph_3 = open_graph_txt(\"inputs/grafo_W_3.txt\", representation=\"matrix\")"
   ]
  },
  {
   "cell_type": "code",
   "execution_count": 13,
   "metadata": {},
   "outputs": [],
   "source": [
    "dijkstra_3 = Dijkstra(graph_3, 1)"
   ]
  },
  {
   "cell_type": "code",
   "execution_count": 14,
   "metadata": {},
   "outputs": [
    {
     "data": {
      "text/html": [
       "<div>\n",
       "<style scoped>\n",
       "    .dataframe tbody tr th:only-of-type {\n",
       "        vertical-align: middle;\n",
       "    }\n",
       "\n",
       "    .dataframe tbody tr th {\n",
       "        vertical-align: top;\n",
       "    }\n",
       "\n",
       "    .dataframe thead th {\n",
       "        text-align: right;\n",
       "    }\n",
       "</style>\n",
       "<table border=\"1\" class=\"dataframe\">\n",
       "  <thead>\n",
       "    <tr style=\"text-align: right;\">\n",
       "      <th></th>\n",
       "      <th>node</th>\n",
       "      <th>distance</th>\n",
       "      <th>parent</th>\n",
       "    </tr>\n",
       "  </thead>\n",
       "  <tbody>\n",
       "    <tr>\n",
       "      <th>1</th>\n",
       "      <td>1</td>\n",
       "      <td>0.00</td>\n",
       "      <td>-1</td>\n",
       "    </tr>\n",
       "    <tr>\n",
       "      <th>10</th>\n",
       "      <td>10</td>\n",
       "      <td>1.91</td>\n",
       "      <td>59986</td>\n",
       "    </tr>\n",
       "    <tr>\n",
       "      <th>20</th>\n",
       "      <td>20</td>\n",
       "      <td>1.97</td>\n",
       "      <td>74389</td>\n",
       "    </tr>\n",
       "    <tr>\n",
       "      <th>30</th>\n",
       "      <td>30</td>\n",
       "      <td>2.78</td>\n",
       "      <td>29572</td>\n",
       "    </tr>\n",
       "    <tr>\n",
       "      <th>40</th>\n",
       "      <td>40</td>\n",
       "      <td>2.41</td>\n",
       "      <td>87469</td>\n",
       "    </tr>\n",
       "    <tr>\n",
       "      <th>50</th>\n",
       "      <td>50</td>\n",
       "      <td>2.07</td>\n",
       "      <td>66179</td>\n",
       "    </tr>\n",
       "  </tbody>\n",
       "</table>\n",
       "</div>"
      ],
      "text/plain": [
       "    node  distance  parent\n",
       "1      1      0.00      -1\n",
       "10    10      1.91   59986\n",
       "20    20      1.97   74389\n",
       "30    30      2.78   29572\n",
       "40    40      2.41   87469\n",
       "50    50      2.07   66179"
      ]
     },
     "execution_count": 14,
     "metadata": {},
     "output_type": "execute_result"
    }
   ],
   "source": [
    "dijkstra_df_output(dijkstra_3, save=False).loc[[1, 10, 20, 30, 40, 50]]"
   ]
  },
  {
   "cell_type": "code",
   "execution_count": 15,
   "metadata": {
    "scrolled": true
   },
   "outputs": [
    {
     "name": "stdout",
     "output_type": "stream",
     "text": [
      "Caminho Mínimo do 10: [1, 99607, 80021, 11430, 38686, 26231, 80243, 84478, 10667, 64731, 66341, 9539, 29013, 55482, 59986, 10]\n",
      "Caminho Mínimo do 20: [1, 99607, 97652, 28571, 20585, 17920, 43924, 33456, 74389, 20]\n",
      "Caminho Mínimo do 30: [1, 33682, 36275, 69461, 29537, 64817, 67739, 12806, 27005, 92563, 2800, 3810, 90384, 65063, 29572, 30]\n",
      "Caminho Mínimo do 40: [1, 33682, 24570, 50483, 10697, 44141, 76658, 87469, 40]\n",
      "Caminho Mínimo do 50: [1, 99607, 80021, 11430, 38686, 26231, 79471, 59996, 50833, 98176, 66179, 50]\n"
     ]
    }
   ],
   "source": [
    "for i in [10, 20, 30, 40, 50]:\n",
    "    print(f\"Caminho Mínimo do {i}:\", dijkstra_3.minpath(i))"
   ]
  },
  {
   "cell_type": "code",
   "execution_count": 16,
   "metadata": {},
   "outputs": [],
   "source": [
    "del graph_3\n",
    "del dijkstra_3"
   ]
  },
  {
   "cell_type": "markdown",
   "metadata": {},
   "source": [
    "<h3> grafo_W_4.txt </h3>"
   ]
  },
  {
   "cell_type": "code",
   "execution_count": 17,
   "metadata": {},
   "outputs": [],
   "source": [
    "graph_4 = open_graph_txt(\"inputs/grafo_W_4.txt\", representation=\"lists\")"
   ]
  },
  {
   "cell_type": "code",
   "execution_count": 18,
   "metadata": {},
   "outputs": [],
   "source": [
    "dijkstra_4 = Dijkstra(graph_4, 1)"
   ]
  },
  {
   "cell_type": "code",
   "execution_count": 19,
   "metadata": {},
   "outputs": [
    {
     "data": {
      "text/html": [
       "<div>\n",
       "<style scoped>\n",
       "    .dataframe tbody tr th:only-of-type {\n",
       "        vertical-align: middle;\n",
       "    }\n",
       "\n",
       "    .dataframe tbody tr th {\n",
       "        vertical-align: top;\n",
       "    }\n",
       "\n",
       "    .dataframe thead th {\n",
       "        text-align: right;\n",
       "    }\n",
       "</style>\n",
       "<table border=\"1\" class=\"dataframe\">\n",
       "  <thead>\n",
       "    <tr style=\"text-align: right;\">\n",
       "      <th></th>\n",
       "      <th>node</th>\n",
       "      <th>distance</th>\n",
       "      <th>parent</th>\n",
       "    </tr>\n",
       "  </thead>\n",
       "  <tbody>\n",
       "    <tr>\n",
       "      <th>1</th>\n",
       "      <td>1</td>\n",
       "      <td>0.00</td>\n",
       "      <td>-1</td>\n",
       "    </tr>\n",
       "    <tr>\n",
       "      <th>10</th>\n",
       "      <td>10</td>\n",
       "      <td>2.57</td>\n",
       "      <td>969732</td>\n",
       "    </tr>\n",
       "    <tr>\n",
       "      <th>20</th>\n",
       "      <td>20</td>\n",
       "      <td>2.58</td>\n",
       "      <td>83549</td>\n",
       "    </tr>\n",
       "    <tr>\n",
       "      <th>30</th>\n",
       "      <td>30</td>\n",
       "      <td>2.60</td>\n",
       "      <td>352891</td>\n",
       "    </tr>\n",
       "    <tr>\n",
       "      <th>40</th>\n",
       "      <td>40</td>\n",
       "      <td>2.58</td>\n",
       "      <td>640258</td>\n",
       "    </tr>\n",
       "    <tr>\n",
       "      <th>50</th>\n",
       "      <td>50</td>\n",
       "      <td>2.20</td>\n",
       "      <td>707676</td>\n",
       "    </tr>\n",
       "  </tbody>\n",
       "</table>\n",
       "</div>"
      ],
      "text/plain": [
       "    node  distance  parent\n",
       "1      1      0.00      -1\n",
       "10    10      2.57  969732\n",
       "20    20      2.58   83549\n",
       "30    30      2.60  352891\n",
       "40    40      2.58  640258\n",
       "50    50      2.20  707676"
      ]
     },
     "execution_count": 19,
     "metadata": {},
     "output_type": "execute_result"
    }
   ],
   "source": [
    "dijkstra_df_output(dijkstra_4, save=False).loc[[1, 10, 20, 30, 40, 50]]"
   ]
  },
  {
   "cell_type": "code",
   "execution_count": 20,
   "metadata": {
    "scrolled": true
   },
   "outputs": [
    {
     "name": "stdout",
     "output_type": "stream",
     "text": [
      "Caminho Mínimo do 10: [1, 720665, 966087, 647029, 522903, 638396, 278575, 969459, 792685, 68803, 429712, 969732, 10]\n",
      "Caminho Mínimo do 20: [1, 826870, 816027, 296139, 162957, 661278, 721824, 44240, 165062, 4007, 105663, 802040, 99482, 524288, 259076, 83549, 20]\n",
      "Caminho Mínimo do 30: [1, 826870, 600106, 425523, 161822, 139391, 1418, 155219, 352891, 30]\n",
      "Caminho Mínimo do 40: [1, 720665, 966087, 889431, 942731, 166954, 131855, 819302, 640258, 40]\n",
      "Caminho Mínimo do 50: [1, 826870, 816027, 96898, 375457, 675857, 107698, 120786, 386496, 536700, 370802, 190374, 547291, 707676, 50]\n"
     ]
    }
   ],
   "source": [
    "for i in [10, 20, 30, 40, 50]:\n",
    "    print(f\"Caminho Mínimo do {i}:\", dijkstra_4.minpath(i))"
   ]
  },
  {
   "cell_type": "code",
   "execution_count": 21,
   "metadata": {},
   "outputs": [],
   "source": [
    "del graph_4\n",
    "del dijkstra_4"
   ]
  },
  {
   "cell_type": "markdown",
   "metadata": {},
   "source": [
    "<h3> grafo_W_5.txt </h3>"
   ]
  },
  {
   "cell_type": "code",
   "execution_count": null,
   "metadata": {},
   "outputs": [],
   "source": [
    "graph_5 = open_graph_txt(\"inputs/grafo_W_5.txt\", representation=\"lists\")"
   ]
  },
  {
   "cell_type": "code",
   "execution_count": null,
   "metadata": {},
   "outputs": [],
   "source": [
    "dijkstra_5 = Dijkstra(graph_5, 1)"
   ]
  },
  {
   "cell_type": "code",
   "execution_count": null,
   "metadata": {},
   "outputs": [],
   "source": [
    "dijkstra_df_output(dijkstra_5, save=False).loc[[1, 10, 20, 30, 40, 50]]"
   ]
  },
  {
   "cell_type": "code",
   "execution_count": null,
   "metadata": {
    "scrolled": true
   },
   "outputs": [],
   "source": [
    "for i in [10, 20, 30, 40, 50]:\n",
    "    print(f\"Caminho Mínimo do {i}:\", dijkstra_5.minpath(i))"
   ]
  },
  {
   "cell_type": "code",
   "execution_count": null,
   "metadata": {},
   "outputs": [],
   "source": [
    "del graph_5\n",
    "del dijkstra_5"
   ]
  }
 ],
 "metadata": {
  "kernelspec": {
   "display_name": "Python 3",
   "language": "python",
   "name": "python3"
  },
  "language_info": {
   "codemirror_mode": {
    "name": "ipython",
    "version": 3
   },
   "file_extension": ".py",
   "mimetype": "text/x-python",
   "name": "python",
   "nbconvert_exporter": "python",
   "pygments_lexer": "ipython3",
   "version": "3.9.5"
  }
 },
 "nbformat": 4,
 "nbformat_minor": 4
}

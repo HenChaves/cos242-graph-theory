{
 "cells": [
  {
   "cell_type": "code",
   "execution_count": 1,
   "metadata": {},
   "outputs": [],
   "source": [
    "from main import *"
   ]
  },
  {
   "cell_type": "markdown",
   "metadata": {},
   "source": [
    "<h2> Estudo de Caso 2 </h2>"
   ]
  },
  {
   "cell_type": "markdown",
   "metadata": {},
   "source": [
    "<h3> grafo_W_1.txt </h3>"
   ]
  },
  {
   "cell_type": "code",
   "execution_count": 2,
   "metadata": {},
   "outputs": [],
   "source": [
    "graph_1 = open_graph_txt(\"inputs/grafo_W_1.txt\", representation=\"matrix\")"
   ]
  },
  {
   "cell_type": "code",
   "execution_count": 3,
   "metadata": {},
   "outputs": [
    {
     "name": "stdout",
     "output_type": "stream",
     "text": [
      "Excentricidade de 10: 2.41\n",
      "Excentricidade de 20: 2.45\n",
      "Excentricidade de 30: 2.56\n",
      "Excentricidade de 40: 2.89\n",
      "Excentricidade de 50: 2.67\n"
     ]
    }
   ],
   "source": [
    "for i in [10,20,30,40,50]:\r\n",
    "    eccentricity_1 = Eccentricity(graph_1, i)\r\n",
    "    print(f\"Excentricidade de {i}:\", eccentricity_1)"
   ]
  },
  {
   "cell_type": "code",
   "execution_count": 4,
   "metadata": {},
   "outputs": [],
   "source": [
    "del graph_1\r\n",
    "del eccentricity_1"
   ]
  },
  {
   "cell_type": "markdown",
   "metadata": {},
   "source": [
    "<h3> grafo_W_2.txt </h3>"
   ]
  },
  {
   "cell_type": "code",
   "execution_count": 5,
   "metadata": {},
   "outputs": [],
   "source": [
    "graph_2 = open_graph_txt(\"inputs/grafo_W_2.txt\", representation=\"matrix\")"
   ]
  },
  {
   "cell_type": "code",
   "execution_count": 6,
   "metadata": {},
   "outputs": [
    {
     "name": "stdout",
     "output_type": "stream",
     "text": [
      "Excentricidade de 10: 3.1500000000000004\n",
      "Excentricidade de 20: 2.92\n",
      "Excentricidade de 30: 3.55\n",
      "Excentricidade de 40: 3.4299999999999997\n",
      "Excentricidade de 50: 3.36\n"
     ]
    }
   ],
   "source": [
    "for i in [10,20,30,40,50]:\r\n",
    "    eccentricity_2 = Eccentricity(graph_2, i)\r\n",
    "    print(f\"Excentricidade de {i}:\", eccentricity_2)"
   ]
  },
  {
   "cell_type": "code",
   "execution_count": 7,
   "metadata": {},
   "outputs": [],
   "source": [
    "del graph_2\r\n",
    "del eccentricity_2"
   ]
  },
  {
   "cell_type": "markdown",
   "metadata": {},
   "source": [
    "<h3> grafo_W_3.txt </h3>"
   ]
  },
  {
   "cell_type": "code",
   "execution_count": 8,
   "metadata": {},
   "outputs": [],
   "source": [
    "graph_3 = open_graph_txt(\"inputs/grafo_W_3.txt\", representation=\"lists\")"
   ]
  },
  {
   "cell_type": "code",
   "execution_count": 9,
   "metadata": {},
   "outputs": [
    {
     "name": "stdout",
     "output_type": "stream",
     "text": [
      "Excentricidade de 10: 4.42\n",
      "Excentricidade de 20: 4.59\n",
      "Excentricidade de 30: 5.06\n",
      "Excentricidade de 40: 4.6899999999999995\n",
      "Excentricidade de 50: 4.290000000000001\n"
     ]
    }
   ],
   "source": [
    "for i in [10,20,30,40,50]:\r\n",
    "    eccentricity_3 = Eccentricity(graph_3, i)\r\n",
    "    print(f\"Excentricidade de {i}:\", eccentricity_3)"
   ]
  },
  {
   "cell_type": "code",
   "execution_count": 10,
   "metadata": {},
   "outputs": [],
   "source": [
    "del graph_3\r\n",
    "del eccentricity_3"
   ]
  },
  {
   "cell_type": "markdown",
   "metadata": {},
   "source": [
    "<h3> grafo_W_4.txt </h3>"
   ]
  },
  {
   "cell_type": "code",
   "execution_count": 11,
   "metadata": {},
   "outputs": [],
   "source": [
    "graph_4 = open_graph_txt(\"inputs/grafo_W_4.txt\", representation=\"lists\")"
   ]
  },
  {
   "cell_type": "code",
   "execution_count": 12,
   "metadata": {},
   "outputs": [
    {
     "name": "stdout",
     "output_type": "stream",
     "text": [
      "Excentricidade de 10: 5.399999999999999\n",
      "Excentricidade de 20: 4.83\n",
      "Excentricidade de 30: 5.380000000000001\n",
      "Excentricidade de 40: 5.25\n",
      "Excentricidade de 50: 5.11\n"
     ]
    }
   ],
   "source": [
    "for i in [10,20,30,40,50]:\r\n",
    "    eccentricity_4 = Eccentricity(graph_4, i)\r\n",
    "    print(f\"Excentricidade de {i}:\", eccentricity_4)"
   ]
  },
  {
   "cell_type": "code",
   "execution_count": 13,
   "metadata": {},
   "outputs": [],
   "source": [
    "del graph_4\r\n",
    "del eccentricity_4"
   ]
  },
  {
   "cell_type": "markdown",
   "metadata": {},
   "source": [
    "<h3> grafo_W_5.txt </h3>"
   ]
  },
  {
   "cell_type": "code",
   "execution_count": null,
   "metadata": {},
   "outputs": [],
   "source": [
    "graph_5 = open_graph_txt(\"inputs/grafo_W_5.txt\", representation=\"lists\")"
   ]
  },
  {
   "cell_type": "code",
   "execution_count": null,
   "metadata": {},
   "outputs": [],
   "source": [
    "for i in [10,20,30,40,50]:\r\n",
    "    eccentricity_5 = Eccentricity(graph_5, i)\r\n",
    "    print(f\"Excentricidade de {i}:\", eccentricity_5)"
   ]
  },
  {
   "cell_type": "code",
   "execution_count": null,
   "metadata": {},
   "outputs": [],
   "source": [
    "del graph_5\r\n",
    "del eccentricity_5"
   ]
  }
 ],
 "metadata": {
  "kernelspec": {
   "display_name": "Python 3.9.5 64-bit",
   "name": "python395jvsc74a57bd05fa7bcb88a8a02560aa18023a8e77b38c69a6d20c15f0b9e64827779c46801f1"
  },
  "language_info": {
   "codemirror_mode": {
    "name": "ipython",
    "version": 3
   },
   "file_extension": ".py",
   "mimetype": "text/x-python",
   "name": "python",
   "nbconvert_exporter": "python",
   "pygments_lexer": "ipython3",
   "version": "3.9.5"
  }
 },
 "nbformat": 4,
 "nbformat_minor": 4
}
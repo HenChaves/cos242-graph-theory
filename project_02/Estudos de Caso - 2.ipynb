{
 "cells": [
  {
   "cell_type": "code",
   "execution_count": null,
   "metadata": {},
   "outputs": [],
   "source": [
    "from main import *"
   ]
  },
  {
   "cell_type": "markdown",
   "metadata": {},
   "source": [
    "<h2> Estudo de Caso 2 </h2>"
   ]
  },
  {
   "cell_type": "markdown",
   "metadata": {},
   "source": [
    "<h3> grafo_W_1.txt </h3>"
   ]
  },
  {
   "cell_type": "code",
   "execution_count": null,
   "metadata": {},
   "outputs": [],
   "source": [
    "graph_1 = open_graph_txt(\"inputs/grafo_W_1.txt\", representation=\"matrix\")"
   ]
  },
  {
   "cell_type": "code",
   "execution_count": null,
   "metadata": {},
   "outputs": [],
   "source": [
    "for i in [10,20,30,40,50]:\r\n",
    "    eccentricity_1 = Eccentricity(graph_1, i)\r\n",
    "    print(f\"Excentricidade de {i}:\", eccentricity_1)"
   ]
  },
  {
   "cell_type": "code",
   "execution_count": null,
   "metadata": {},
   "outputs": [],
   "source": [
    "del graph_1\r\n",
    "del eccentricity_1"
   ]
  },
  {
   "cell_type": "markdown",
   "metadata": {},
   "source": [
    "<h3> grafo_W_2.txt </h3>"
   ]
  },
  {
   "cell_type": "code",
   "execution_count": null,
   "metadata": {},
   "outputs": [],
   "source": [
    "graph_2 = open_graph_txt(\"inputs/grafo_W_2.txt\", representation=\"matrix\")"
   ]
  },
  {
   "cell_type": "code",
   "execution_count": null,
   "metadata": {},
   "outputs": [],
   "source": [
    "for i in [10,20,30,40,50]:\r\n",
    "    eccentricity_2 = Eccentricity(graph_2, i)\r\n",
    "    print(f\"Excentricidade de {i}:\", eccentricity_2)"
   ]
  },
  {
   "cell_type": "code",
   "execution_count": null,
   "metadata": {},
   "outputs": [],
   "source": [
    "del graph_2\r\n",
    "del eccentricity_2"
   ]
  },
  {
   "cell_type": "markdown",
   "metadata": {},
   "source": [
    "<h3> grafo_W_3.txt </h3>"
   ]
  },
  {
   "cell_type": "code",
   "execution_count": null,
   "metadata": {},
   "outputs": [],
   "source": [
    "graph_3 = open_graph_txt(\"inputs/grafo_W_3.txt\", representation=\"lists\")"
   ]
  },
  {
   "cell_type": "code",
   "execution_count": null,
   "metadata": {},
   "outputs": [],
   "source": [
    "for i in [10,20,30,40,50]:\r\n",
    "    eccentricity_3 = Eccentricity(graph_3, i)\r\n",
    "    print(f\"Excentricidade de {i}:\", eccentricity_3)"
   ]
  },
  {
   "cell_type": "code",
   "execution_count": null,
   "metadata": {},
   "outputs": [],
   "source": [
    "del graph_3\r\n",
    "del eccentricity_3"
   ]
  },
  {
   "cell_type": "markdown",
   "metadata": {},
   "source": [
    "<h3> grafo_W_4.txt </h3>"
   ]
  },
  {
   "cell_type": "code",
   "execution_count": null,
   "metadata": {},
   "outputs": [],
   "source": [
    "graph_4 = open_graph_txt(\"inputs/grafo_W_4.txt\", representation=\"lists\")"
   ]
  },
  {
   "cell_type": "code",
   "execution_count": null,
   "metadata": {},
   "outputs": [],
   "source": [
    "for i in [10,20,30,40,50]:\r\n",
    "    eccentricity_4 = Eccentricity(graph_4, i)\r\n",
    "    print(f\"Excentricidade de {i}:\", eccentricity_4)"
   ]
  },
  {
   "cell_type": "code",
   "execution_count": null,
   "metadata": {},
   "outputs": [],
   "source": [
    "del graph_4\r\n",
    "del eccentricity_4"
   ]
  },
  {
   "cell_type": "markdown",
   "metadata": {},
   "source": [
    "<h3> grafo_W_5.txt </h3>"
   ]
  },
  {
   "cell_type": "code",
   "execution_count": null,
   "metadata": {},
   "outputs": [],
   "source": [
    "graph_5 = open_graph_txt(\"inputs/grafo_W_5.txt\", representation=\"lists\")"
   ]
  },
  {
   "cell_type": "code",
   "execution_count": null,
   "metadata": {},
   "outputs": [],
   "source": [
    "for i in [10,20,30,40,50]:\r\n",
    "    eccentricity_5 = Eccentricity(graph_5, i)\r\n",
    "    print(f\"Excentricidade de {i}:\", eccentricity_5)"
   ]
  },
  {
   "cell_type": "code",
   "execution_count": null,
   "metadata": {},
   "outputs": [],
   "source": [
    "del graph_5\r\n",
    "del eccentricity_5"
   ]
  }
 ],
 "metadata": {
  "kernelspec": {
   "display_name": "Python 3.9.5 64-bit",
   "name": "python395jvsc74a57bd05fa7bcb88a8a02560aa18023a8e77b38c69a6d20c15f0b9e64827779c46801f1"
  },
  "language_info": {
   "codemirror_mode": {
    "name": "ipython",
    "version": 3
   },
   "file_extension": ".py",
   "mimetype": "text/x-python",
   "name": "python",
   "nbconvert_exporter": "python",
   "pygments_lexer": "ipython3",
   "version": "3.9.5"
  }
 },
 "nbformat": 4,
 "nbformat_minor": 4
}
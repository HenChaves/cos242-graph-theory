{
 "cells": [
  {
   "cell_type": "code",
   "execution_count": null,
   "metadata": {},
   "outputs": [],
   "source": [
    "from main import *\r\n",
    "from time import time"
   ]
  },
  {
   "cell_type": "markdown",
   "metadata": {},
   "source": [
    "<h2> Estudo de Caso 3 </h2>"
   ]
  },
  {
   "cell_type": "markdown",
   "metadata": {},
   "source": [
    "<h3> grafo_W_1.txt </h3>"
   ]
  },
  {
   "cell_type": "code",
   "execution_count": null,
   "metadata": {},
   "outputs": [],
   "source": [
    "graph_1 = open_graph_txt(\"inputs/grafo_W_1.txt\", representation=\"matrix\")"
   ]
  },
  {
   "cell_type": "code",
   "execution_count": null,
   "metadata": {},
   "outputs": [],
   "source": [
    "tic = time()\r\n",
    "for _ in tqdm(range(100)):\r\n",
    "    r = np.random.randint(1, graph_1.n_nodes)\r\n",
    "    foo = Eccentricity(graph_1, r)\r\n",
    "tac = time()\r\n",
    "print(f\"Time: {round((tac - tic)/100, 4)}s\")"
   ]
  },
  {
   "cell_type": "code",
   "execution_count": null,
   "metadata": {},
   "outputs": [],
   "source": [
    "del graph_1\r\n",
    "del foo"
   ]
  },
  {
   "cell_type": "markdown",
   "metadata": {},
   "source": [
    "<h3> grafo_W_2.txt </h3>"
   ]
  },
  {
   "cell_type": "code",
   "execution_count": null,
   "metadata": {},
   "outputs": [],
   "source": [
    "graph_2 = open_graph_txt(\"inputs/grafo_W_2.txt\", representation=\"matrix\")"
   ]
  },
  {
   "cell_type": "code",
   "execution_count": null,
   "metadata": {},
   "outputs": [],
   "source": [
    "tic = time()\r\n",
    "for _ in tqdm(range(100)):\r\n",
    "    r = np.random.randint(1, graph_2.n_nodes)\r\n",
    "    foo = Eccentricity(graph_2, r)\r\n",
    "tac = time()\r\n",
    "print(f\"Time: {round((tac - tic)/100, 4)}s\")"
   ]
  },
  {
   "cell_type": "code",
   "execution_count": null,
   "metadata": {},
   "outputs": [],
   "source": [
    "del graph_2\r\n",
    "del foo"
   ]
  },
  {
   "cell_type": "markdown",
   "metadata": {},
   "source": [
    "<h3> grafo_W_3.txt </h3>"
   ]
  },
  {
   "cell_type": "code",
   "execution_count": null,
   "metadata": {},
   "outputs": [],
   "source": [
    "graph_3 = open_graph_txt(\"inputs/grafo_W_3.txt\", representation=\"lists\")"
   ]
  },
  {
   "cell_type": "code",
   "execution_count": null,
   "metadata": {},
   "outputs": [],
   "source": [
    "tic = time()\r\n",
    "for _ in tqdm(range(100)):\r\n",
    "    r = np.random.randint(1, graph_3.n_nodes)\r\n",
    "    foo = Eccentricity(graph_3, r)\r\n",
    "tac = time()\r\n",
    "print(f\"Time: {round((tac - tic)/100, 4)}s\")"
   ]
  },
  {
   "cell_type": "code",
   "execution_count": null,
   "metadata": {},
   "outputs": [],
   "source": [
    "del graph_3\r\n",
    "del foo"
   ]
  },
  {
   "cell_type": "markdown",
   "metadata": {},
   "source": [
    "<h3> grafo_W_4.txt </h3>"
   ]
  },
  {
   "cell_type": "code",
   "execution_count": null,
   "metadata": {},
   "outputs": [],
   "source": [
    "graph_4 = open_graph_txt(\"inputs/grafo_W_4.txt\", representation=\"lists\")"
   ]
  },
  {
   "cell_type": "code",
   "execution_count": null,
   "metadata": {},
   "outputs": [],
   "source": [
    "tic = time()\r\n",
    "for _ in tqdm(range(100)):\r\n",
    "    r = np.random.randint(1, graph_4.n_nodes)\r\n",
    "    foo = Eccentricity(graph_4, r)\r\n",
    "tac = time()\r\n",
    "print(f\"Time: {round((tac - tic)/100, 4)}s\")"
   ]
  },
  {
   "cell_type": "code",
   "execution_count": null,
   "metadata": {},
   "outputs": [],
   "source": [
    "del graph_4\r\n",
    "del foo"
   ]
  },
  {
   "cell_type": "markdown",
   "metadata": {},
   "source": [
    "<h3> grafo_W_5.txt </h3>"
   ]
  },
  {
   "cell_type": "code",
   "execution_count": null,
   "metadata": {},
   "outputs": [],
   "source": [
    "graph_5 = open_graph_txt(\"inputs/grafo_W_5.txt\", representation=\"lists\")"
   ]
  },
  {
   "cell_type": "code",
   "execution_count": null,
   "metadata": {},
   "outputs": [],
   "source": [
    "tic = time()\r\n",
    "for _ in tqdm(range(100)):\r\n",
    "    r = np.random.randint(1, graph_5.n_nodes)\r\n",
    "    foo = Eccentricity(graph_5, r)\r\n",
    "tac = time()\r\n",
    "print(f\"Time: {round((tac - tic)/100, 4)}s\")"
   ]
  },
  {
   "cell_type": "code",
   "execution_count": null,
   "metadata": {},
   "outputs": [],
   "source": [
    "del graph_5\r\n",
    "del foo"
   ]
  }
 ],
 "metadata": {
  "kernelspec": {
   "display_name": "Python 3.9.5 64-bit",
   "name": "python395jvsc74a57bd05fa7bcb88a8a02560aa18023a8e77b38c69a6d20c15f0b9e64827779c46801f1"
  },
  "language_info": {
   "codemirror_mode": {
    "name": "ipython",
    "version": 3
   },
   "file_extension": ".py",
   "mimetype": "text/x-python",
   "name": "python",
   "nbconvert_exporter": "python",
   "pygments_lexer": "ipython3",
   "version": "3.9.5"
  }
 },
 "nbformat": 4,
 "nbformat_minor": 4
}
{
 "cells": [
  {
   "cell_type": "code",
   "execution_count": 16,
   "metadata": {},
   "outputs": [],
   "source": [
    "import numpy as np\n",
    "import os\n",
    "import pandas as pd\n",
    "from tqdm.notebook import tqdm\n",
    "import copy\n",
    "import sys\n",
    "import time\n",
    "from main import *"
   ]
  },
  {
   "cell_type": "code",
   "execution_count": 2,
   "metadata": {},
   "outputs": [
    {
     "name": "stdout",
     "output_type": "stream",
     "text": [
      "Cannot create matrix >> Unable to allocate 3.80 TiB for an array with shape (722385, 722385) and data type float64\n"
     ]
    }
   ],
   "source": [
    "graph = open_graph_txt(\"inputs/rede_colaboracao.txt\")"
   ]
  },
  {
   "cell_type": "code",
   "execution_count": 10,
   "metadata": {},
   "outputs": [],
   "source": [
    "network_dict = {}\n",
    "\n",
    "with open(\"inputs/rede_colaboracao_vertices.txt\") as f:\n",
    "    lines = f.read().splitlines()\n",
    "    for line in lines:\n",
    "        i, name = line.split(\",\")\n",
    "        i = int(i)\n",
    "        network_dict[i] = name"
   ]
  },
  {
   "cell_type": "code",
   "execution_count": 12,
   "metadata": {},
   "outputs": [],
   "source": [
    "network_dict_reverse = {v: k for k, v in network_dict.items()}"
   ]
  },
  {
   "cell_type": "code",
   "execution_count": 14,
   "metadata": {},
   "outputs": [
    {
     "data": {
      "text/plain": [
       "2722"
      ]
     },
     "execution_count": 14,
     "metadata": {},
     "output_type": "execute_result"
    }
   ],
   "source": [
    "network_dict_reverse[\"Edsger W. Dijkstra\"]"
   ]
  },
  {
   "cell_type": "code",
   "execution_count": 17,
   "metadata": {},
   "outputs": [
    {
     "data": {
      "text/plain": [
       "[11365, 471365, 5709, 11386, 343930]"
      ]
     },
     "execution_count": 17,
     "metadata": {},
     "output_type": "execute_result"
    }
   ],
   "source": [
    "researchers = [\"Alan M. Turing\", \"J. B. Kruskal\", \"Jon M. Kleinberg\", \"Éva Tardos\", \"Daniel R. Figueiredo\"]\n",
    "researchers_i = [network_dict_reverse[s] for s in researchers]\n",
    "researchers_i"
   ]
  },
  {
   "cell_type": "code",
   "execution_count": 15,
   "metadata": {},
   "outputs": [],
   "source": [
    "dijkstra = Dijkstra(graph, 2722)"
   ]
  },
  {
   "cell_type": "code",
   "execution_count": 19,
   "metadata": {},
   "outputs": [
    {
     "data": {
      "text/html": [
       "<div>\n",
       "<style scoped>\n",
       "    .dataframe tbody tr th:only-of-type {\n",
       "        vertical-align: middle;\n",
       "    }\n",
       "\n",
       "    .dataframe tbody tr th {\n",
       "        vertical-align: top;\n",
       "    }\n",
       "\n",
       "    .dataframe thead th {\n",
       "        text-align: right;\n",
       "    }\n",
       "</style>\n",
       "<table border=\"1\" class=\"dataframe\">\n",
       "  <thead>\n",
       "    <tr style=\"text-align: right;\">\n",
       "      <th></th>\n",
       "      <th>node</th>\n",
       "      <th>distance</th>\n",
       "      <th>parent</th>\n",
       "    </tr>\n",
       "  </thead>\n",
       "  <tbody>\n",
       "    <tr>\n",
       "      <th>11365</th>\n",
       "      <td>11365</td>\n",
       "      <td>inf</td>\n",
       "      <td>-1</td>\n",
       "    </tr>\n",
       "    <tr>\n",
       "      <th>471365</th>\n",
       "      <td>471365</td>\n",
       "      <td>3.480368</td>\n",
       "      <td>3655</td>\n",
       "    </tr>\n",
       "    <tr>\n",
       "      <th>5709</th>\n",
       "      <td>5709</td>\n",
       "      <td>2.706994</td>\n",
       "      <td>9608</td>\n",
       "    </tr>\n",
       "    <tr>\n",
       "      <th>11386</th>\n",
       "      <td>11386</td>\n",
       "      <td>2.753514</td>\n",
       "      <td>318911</td>\n",
       "    </tr>\n",
       "    <tr>\n",
       "      <th>343930</th>\n",
       "      <td>343930</td>\n",
       "      <td>2.942831</td>\n",
       "      <td>11466</td>\n",
       "    </tr>\n",
       "  </tbody>\n",
       "</table>\n",
       "</div>"
      ],
      "text/plain": [
       "          node  distance  parent\n",
       "11365    11365       inf      -1\n",
       "471365  471365  3.480368    3655\n",
       "5709      5709  2.706994    9608\n",
       "11386    11386  2.753514  318911\n",
       "343930  343930  2.942831   11466"
      ]
     },
     "execution_count": 19,
     "metadata": {},
     "output_type": "execute_result"
    }
   ],
   "source": [
    "dijkstra_df_output(dijkstra, save=False).loc[researchers_i]"
   ]
  },
  {
   "cell_type": "code",
   "execution_count": 30,
   "metadata": {},
   "outputs": [
    {
     "name": "stdout",
     "output_type": "stream",
     "text": [
      "Researcher: Alan M. Turing\n",
      "Distance to Dijsktra: inf\n",
      "MinPath: []\n",
      "\n",
      "\n",
      "Researcher: J. B. Kruskal\n",
      "Distance to Dijsktra: 3.48036845488905\n",
      "MinPath: [Edsger W. Dijkstra, John R. Rice, Dan C. Marinescu, Howard Jay Siegel, Edwin K. P. Chong, Ness B. Shroff, R. Srikant, Albert G. Greenberg, J. B. Kruskal]\n",
      "\n",
      "\n",
      "Researcher: Jon M. Kleinberg\n",
      "Distance to Dijsktra: 2.7069936175564644\n",
      "MinPath: [Edsger W. Dijkstra, A. J. M. van Gasteren, Gerard Tel, Hans L. Bodlaender, Dimitrios M. Thilikos, Prabhakar Ragde, Avi Wigderson, Eli Upfal, Prabhakar Raghavan, Jon M. Kleinberg]\n",
      "\n",
      "\n",
      "Researcher: Éva Tardos\n",
      "Distance to Dijsktra: 2.7535141793573357\n",
      "MinPath: [Edsger W. Dijkstra, A. J. M. van Gasteren, Gerard Tel, Hans L. Bodlaender, Jan van Leeuwen, Mark H. Overmars, Micha Sharir, Haim Kaplan, Robert Endre Tarjan, Andrew V. Goldberg, Serge A. Plotkin, Éva Tardos]\n",
      "\n",
      "\n",
      "Researcher: Daniel R. Figueiredo\n",
      "Distance to Dijsktra: 2.9428308695367855\n",
      "MinPath: [Edsger W. Dijkstra, John R. Rice, Dan C. Marinescu, Chuang Lin, Bo Li, Y. Thomas Hou, Zhi-Li Zhang, Donald F. Towsley, Daniel R. Figueiredo]\n",
      "\n",
      "\n"
     ]
    }
   ],
   "source": [
    "for i, researcher in zip(researchers_i[:], researchers[:]):\n",
    "    print(\"Researcher:\", researcher)\n",
    "    print(\"Distance to Dijsktra:\", dijkstra.distance[i-1])\n",
    "    try:\n",
    "        print(\"MinPath:\", str([network_dict[j] for j in dijkstra.minpath(i)]).replace(\"'\", \"\"))\n",
    "    except:\n",
    "        print(\"MinPath: []\")\n",
    "    print(\"\\n\")"
   ]
  }
 ],
 "metadata": {
  "kernelspec": {
   "display_name": "Python 3",
   "language": "python",
   "name": "python3"
  },
  "language_info": {
   "codemirror_mode": {
    "name": "ipython",
    "version": 3
   },
   "file_extension": ".py",
   "mimetype": "text/x-python",
   "name": "python",
   "nbconvert_exporter": "python",
   "pygments_lexer": "ipython3",
   "version": "3.8.5"
  }
 },
 "nbformat": 4,
 "nbformat_minor": 4
}

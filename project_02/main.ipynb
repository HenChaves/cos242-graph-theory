{
 "cells": [
  {
   "cell_type": "code",
   "execution_count": 1,
   "metadata": {},
   "outputs": [],
   "source": [
    "import numpy as np\n",
    "import os\n",
    "import pandas as pd\n",
    "from tqdm.notebook import tqdm\n",
    "import copy\n",
    "import sys\n",
    "import time"
   ]
  },
  {
   "cell_type": "code",
   "execution_count": 2,
   "metadata": {},
   "outputs": [],
   "source": [
    "class Graph:\r\n",
    "    \r\n",
    "    def __init__(self, n, mode=\"default\", representation=\"matrix\"):\r\n",
    "        self.n_nodes = n\r\n",
    "        self.mode = mode\r\n",
    "        self.has_matrix = False\r\n",
    "        self.matrix_error_size = None\r\n",
    "        \r\n",
    "        if representation == \"matrix\":\r\n",
    "            try:\r\n",
    "                self.matrix = np.full((n, n), np.inf)\r\n",
    "                self.has_matrix = True\r\n",
    "\r\n",
    "            except MemoryError as error:\r\n",
    "                print(\"Cannot create matrix >>\", error)\r\n",
    "                ea = str(error)\r\n",
    "                eb = ea[ea.index(\"iB for\")-1]\r\n",
    "                eb_m = 10**3 if eb==\"G\" else 10**6\r\n",
    "                self.matrix_error_size = float(ea[ea.index(\"allocate\")+9:ea.index(\"iB for\")-2]) * eb_m\r\n",
    "\r\n",
    "                self.lists = [list() for i in range(n)]\r\n",
    "        \r\n",
    "        elif representation == \"lists\":\r\n",
    "            self.lists = [list() for i in range(n)]\r\n",
    "        \r\n",
    "        else:\r\n",
    "            raise KeyError(f\"Invalid representation. ({representation})\")\r\n",
    "    \r\n",
    "    \r\n",
    "    \r\n",
    "    def add_edge(self, v, w, weight=1):\r\n",
    "        \r\n",
    "        if self.has_matrix:\r\n",
    "            if (v != w) and (self.matrix[v-1, w-1] == np.inf):\r\n",
    "                self.matrix[v-1, w-1] = weight\r\n",
    "                self.matrix[w-1, v-1] = weight\r\n",
    "        else:\r\n",
    "            if v != w:\r\n",
    "                if self.mode == \"default\":\r\n",
    "                    self.lists[v-w].append(w)\r\n",
    "                    self.lists[w-1].append(v)\r\n",
    "                    \r\n",
    "                if self.mode == \"weighted\":\r\n",
    "                    if w not in np.array(graph.get_node(v))[:, 0].astype(\"int\").tolist():\r\n",
    "                        self.lists[v-1].append([w, weight])\r\n",
    "                        self.lists[w-1].append([v, weight])\r\n",
    "\r\n",
    "    \r\n",
    "    def get_node(self, v):\r\n",
    "        \r\n",
    "        if not self.has_matrix:\r\n",
    "            return self.lists[v-1]\r\n",
    "        \r\n",
    "        else:\r\n",
    "            if self.mode == \"default\":\r\n",
    "                return (np.where(self.matrix[v-1] == 1)[0] + 1).tolist()\r\n",
    "            \r\n",
    "            if self.mode == \"weighted\":\r\n",
    "                neighbors = (np.where(self.matrix[v-1] < np.inf)[0] + 1).tolist()\r\n",
    "                weights = self.matrix[v-1][self.matrix[v-1] < np.inf].tolist()\r\n",
    "                return [list(t) for t in zip(neighbors, weights)]\r\n",
    "    \r\n",
    "    def get_lists(self):\r\n",
    "        if not self.has_matrix:\r\n",
    "            return self.lists\r\n",
    "        else:\r\n",
    "            return [self.get_node(n) for n in range(1, self.n_nodes + 1)]\r\n",
    "            \r\n",
    "    def get_matrix(self):\r\n",
    "        if self.has_matrix:\r\n",
    "            return self.matrix\r\n",
    "        return None\r\n",
    "    \r\n",
    "    def get_matrix_beautiful(self):\r\n",
    "        if self.has_matrix:\r\n",
    "            return pd.DataFrame(self.matrix, columns=np.arange(1, self.n_nodes+1), index=np.arange(1, self.n_nodes+1))\r\n",
    "        return None"
   ]
  },
  {
   "cell_type": "code",
   "execution_count": 3,
   "metadata": {},
   "outputs": [],
   "source": [
    "def open_graph_txt(filename, extra=False, representation=\"matrix\"):\r\n",
    "    with open(filename, \"r\") as f:\r\n",
    "        lines = [line for line in f.read().split(\"\\n\") if line != \"\"]\r\n",
    "        n_nodes = int(lines[0])\r\n",
    "        \r\n",
    "        if np.array([line.split(\" \") for line in lines[1:]]).shape[1] < 3:\r\n",
    "            mode = \"default\"\r\n",
    "        else:\r\n",
    "            mode = \"weighted\"\r\n",
    "        \r\n",
    "        edges = [tuple(map(lambda i: int(i), line.split(\" \")[:2])) for line in lines[1:]]\r\n",
    "        \r\n",
    "        if mode == \"default\":\r\n",
    "            weights = [1 for line in lines[1:]]\r\n",
    "        if mode == \"weighted\":\r\n",
    "            weights = [float(line.split(\" \")[-1]) for line in lines[1:]]\r\n",
    "        \r\n",
    "        edges_weights = list(zip(edges, weights))\r\n",
    "        \r\n",
    "        graph = Graph(n_nodes, mode=mode, representation=representation)\r\n",
    "        for (v, w), weight in edges_weights:\r\n",
    "            graph.add_edge(v, w, weight=weight)\r\n",
    "    \r\n",
    "#     if extra:\r\n",
    "#         return graph, n_nodes, edges\r\n",
    "\r\n",
    "    return graph\r\n"
   ]
  },
  {
   "cell_type": "code",
   "execution_count": 4,
   "metadata": {},
   "outputs": [],
   "source": [
    "graph = open_graph_txt(\"inputs/grafo_W_1.txt\", extra=False)"
   ]
  },
  {
   "cell_type": "code",
   "execution_count": 5,
   "metadata": {},
   "outputs": [],
   "source": [
    "def graph_statistics(graph):\r\n",
    "    if graph.mode != \"default\": raise KeyError(f\"Invalid graph mode. ({graph.mode})\")\r\n",
    "    print(\"Número de vértices:\", graph.n_nodes)\r\n",
    "    \r\n",
    "    if graph.has_matrix:\r\n",
    "        print(\"Número de arestas:\", graph.get_matrix().sum()/2)\r\n",
    "        print(\"Grau mínimo:\", graph.get_matrix().sum(axis=0).min())\r\n",
    "        print(\"Grau máximo:\", graph.get_matrix().sum(axis=0).max())\r\n",
    "        print(\"Grau médio:\", graph.get_matrix().sum(axis=0).mean())\r\n",
    "        print(\"Mediana do Grau:\", np.median(graph.get_matrix().sum(axis=0)))\r\n",
    "    else:\r\n",
    "        print(\"Número de arestas:\", np.sum([len(x) if i+1 not in x else len(x) + 1 for i, x in enumerate(graph.get_lists())])/2)\r\n",
    "        print(\"Grau mínimo:\", np.min([len(x) if i+1 not in x else len(x) + 1 for i, x in enumerate(graph.get_lists())]))\r\n",
    "        print(\"Grau máximo:\", np.max([len(x) if i+1 not in x else len(x) + 1 for i, x in enumerate(graph.get_lists())]))\r\n",
    "        print(\"Grau médio:\", np.mean([len(x) if i+1 not in x else len(x) + 1 for i, x in enumerate(graph.get_lists())]))\r\n",
    "        print(\"Mediana do Grau:\", np.median([len(x) if i+1 not in x else len(x) + 1 for i, x in enumerate(graph.get_lists())]))\r\n",
    "    print(\"List: \", sys.getsizeof(graph.get_lists())/(10**6), \"MB\")\r\n",
    "    print(\"Matrix: \", (str(sys.getsizeof(graph.get_matrix())/(10**6))) if graph.has_matrix else (graph.matrix_error_size), \"MB\")"
   ]
  },
  {
   "cell_type": "code",
   "execution_count": 6,
   "metadata": {},
   "outputs": [],
   "source": [
    "class DFS:\r\n",
    "    def __init__(self, graph, root):\r\n",
    "        self.graph = graph\r\n",
    "        if self.graph.mode != \"default\":\r\n",
    "            raise KeyError(f\"Invalid mode. ({self.graph.mode})\")\r\n",
    "        \r\n",
    "        self.visited = np.zeros(graph.n_nodes, dtype=\"uint8\")\r\n",
    "        self.level = np.full(graph.n_nodes, fill_value=np.inf)\r\n",
    "        self.parent = np.full(graph.n_nodes, fill_value=-1, dtype=\"int32\")\r\n",
    "        self.level[root-1] = 0\r\n",
    "        self.start_root(root)\r\n",
    "        self.search()\r\n",
    "    \r\n",
    "    def start_root(self, root):\r\n",
    "        self.stack = []\r\n",
    "        self.stack.append(root)\r\n",
    "    \r\n",
    "    def search(self):\r\n",
    "        while(len(self.stack) != 0):\r\n",
    "            u = self.stack.pop()\r\n",
    "            \r\n",
    "            if not self.visited[u-1]:\r\n",
    "                self.visited[u-1] = 1\r\n",
    "                \r\n",
    "                for v in sorted(self.graph.get_lists()[u-1], reverse=True):\r\n",
    "                    if not self.visited[v-1]:\r\n",
    "                        self.stack.append(v)\r\n",
    "                        self.parent[v-1] = u\r\n",
    "                        self.level[v-1] = self.level[u-1] + 1"
   ]
  },
  {
   "cell_type": "code",
   "execution_count": 7,
   "metadata": {},
   "outputs": [],
   "source": [
    "class BFS:\r\n",
    "    def __init__(self, graph, root):\r\n",
    "        self.graph = graph\r\n",
    "        if self.graph.mode != \"default\":\r\n",
    "            raise KeyError(f\"Invalid mode. ({self.graph.mode})\")\r\n",
    "        \r\n",
    "        self.visited = np.zeros(graph.n_nodes, dtype=\"uint8\")\r\n",
    "        self.level = np.full(graph.n_nodes, fill_value=np.inf)\r\n",
    "        self.parent = np.full(graph.n_nodes, fill_value=-1, dtype=\"int32\")\r\n",
    "        \r\n",
    "        self.level[root-1] = 0\r\n",
    "        self.visited[root-1] = 1\r\n",
    "        \r\n",
    "        self.start_root(root)\r\n",
    "        self.search()\r\n",
    "        \r\n",
    "    def start_root(self, root):\r\n",
    "        self.queue = []\r\n",
    "        self.queue.append(root)\r\n",
    "        \r\n",
    "    def search(self):\r\n",
    "        \r\n",
    "        while(len(self.queue)):\r\n",
    "            v = self.queue.pop(0)\r\n",
    "            \r\n",
    "            for w in sorted(self.graph.get_lists()[v-1]):\r\n",
    "                if v == w:\r\n",
    "                        continue\r\n",
    "                if not self.visited[w-1]:\r\n",
    "                    self.visited[w-1] = 1\r\n",
    "                    self.queue.append(w)\r\n",
    "                    self.parent[w-1] = v\r\n",
    "                    self.level[w-1] = self.level[v-1] + 1"
   ]
  },
  {
   "cell_type": "code",
   "execution_count": 8,
   "metadata": {},
   "outputs": [],
   "source": [
    "class MinimumPath:\r\n",
    "    \r\n",
    "    def __init__(self, graph):\r\n",
    "        if graph.mode != \"default\": raise KeyError(f\"Invalid graph mode. ({graph.mode})\")\r\n",
    "        self.graph = graph\r\n",
    "        self.matrix = np.full((graph.n_nodes, graph.n_nodes), fill_value=-1, dtype=\"int32\")\r\n",
    "        self.run()\r\n",
    "    \r\n",
    "    def run(self):\r\n",
    "        for v in tqdm(range(1, self.graph.n_nodes+1)):\r\n",
    "            bfs = BFS(self.graph, v)\r\n",
    "            bfs.search()\r\n",
    "            for bfs_node_index in np.argwhere(bfs.visited == 1).reshape(-1):\r\n",
    "                self.matrix[v-1, bfs_node_index] = bfs.level[bfs_node_index]\r\n",
    "            del bfs\r\n",
    "    \r\n",
    "    def get_distance(self, u, v):\r\n",
    "        return self.matrix[u-1, v-1]\r\n",
    "    \r\n",
    "    def get_diameter(self):\r\n",
    "        return np.max(self.matrix)\r\n",
    "    \r\n",
    "    def get_matrix(self):\r\n",
    "        return self.matrix\r\n",
    "    \r\n",
    "    def get_matrix_beautiful(self):\r\n",
    "        return pd.DataFrame(self.matrix, columns=np.arange(1, self.graph.n_nodes+1), index=np.arange(1, self.graph.n_nodes+1))\r\n",
    "    "
   ]
  },
  {
   "cell_type": "code",
   "execution_count": 9,
   "metadata": {},
   "outputs": [],
   "source": [
    "class Components:\r\n",
    "    \r\n",
    "    def __init__(self, graph):\r\n",
    "        if graph.mode != \"default\": raise KeyError(f\"Invalid graph mode. ({graph.mode})\")\r\n",
    "        self.graph = graph\r\n",
    "        self.visited = np.zeros(graph.n_nodes, dtype=\"uint8\")\r\n",
    "        self.components = []\r\n",
    "        \r\n",
    "        while np.argwhere(self.visited == 0).reshape(-1).shape[0] > 0:\r\n",
    "            root = np.argwhere(self.visited == 0).reshape(-1)[0] + 1\r\n",
    "\r\n",
    "            bfs = BFS(self.graph, root)\r\n",
    "            bfs.search()\r\n",
    "            \r\n",
    "            bfs_visited_index = np.argwhere(bfs.visited == 1).reshape(-1)\r\n",
    "            \r\n",
    "            self.visited[bfs_visited_index] = 1\r\n",
    "            self.components.append((bfs_visited_index+1).tolist())\r\n",
    "\r\n",
    "    def get_components(self):\r\n",
    "        a = sorted(self.components, key=lambda x: len(x), reverse=True)\r\n",
    "        b = [len(x) for x in a]\r\n",
    "        c = list(zip(b, a))\r\n",
    "        return c\r\n"
   ]
  },
  {
   "cell_type": "code",
   "execution_count": 14,
   "metadata": {},
   "outputs": [
    {
     "ename": "KeyError",
     "evalue": "'Invalid graph mode. (weighted)'",
     "output_type": "error",
     "traceback": [
      "\u001b[1;31m---------------------------------------------------------------------------\u001b[0m",
      "\u001b[1;31mKeyError\u001b[0m                                  Traceback (most recent call last)",
      "\u001b[1;32m<ipython-input-14-502f4ca6b921>\u001b[0m in \u001b[0;36m<module>\u001b[1;34m\u001b[0m\n\u001b[0;32m     12\u001b[0m \u001b[1;31m# # print(\"----\")\u001b[0m\u001b[1;33m\u001b[0m\u001b[1;33m\u001b[0m\u001b[1;33m\u001b[0m\u001b[0m\n\u001b[0;32m     13\u001b[0m \u001b[1;31m# # print(graph.has_matrix)\u001b[0m\u001b[1;33m\u001b[0m\u001b[1;33m\u001b[0m\u001b[1;33m\u001b[0m\u001b[0m\n\u001b[1;32m---> 14\u001b[1;33m \u001b[0mgraph_statistics\u001b[0m\u001b[1;33m(\u001b[0m\u001b[0mgraph\u001b[0m\u001b[1;33m)\u001b[0m\u001b[1;33m\u001b[0m\u001b[1;33m\u001b[0m\u001b[0m\n\u001b[0m",
      "\u001b[1;32m<ipython-input-5-645128e922ab>\u001b[0m in \u001b[0;36mgraph_statistics\u001b[1;34m(graph)\u001b[0m\n\u001b[0;32m      1\u001b[0m \u001b[1;32mdef\u001b[0m \u001b[0mgraph_statistics\u001b[0m\u001b[1;33m(\u001b[0m\u001b[0mgraph\u001b[0m\u001b[1;33m)\u001b[0m\u001b[1;33m:\u001b[0m\u001b[1;33m\u001b[0m\u001b[1;33m\u001b[0m\u001b[0m\n\u001b[1;32m----> 2\u001b[1;33m     \u001b[1;32mif\u001b[0m \u001b[0mgraph\u001b[0m\u001b[1;33m.\u001b[0m\u001b[0mmode\u001b[0m \u001b[1;33m!=\u001b[0m \u001b[1;34m\"default\"\u001b[0m\u001b[1;33m:\u001b[0m \u001b[1;32mraise\u001b[0m \u001b[0mKeyError\u001b[0m\u001b[1;33m(\u001b[0m\u001b[1;34mf\"Invalid graph mode. ({graph.mode})\"\u001b[0m\u001b[1;33m)\u001b[0m\u001b[1;33m\u001b[0m\u001b[1;33m\u001b[0m\u001b[0m\n\u001b[0m\u001b[0;32m      3\u001b[0m     \u001b[0mprint\u001b[0m\u001b[1;33m(\u001b[0m\u001b[1;34m\"Número de vértices:\"\u001b[0m\u001b[1;33m,\u001b[0m \u001b[0mgraph\u001b[0m\u001b[1;33m.\u001b[0m\u001b[0mn_nodes\u001b[0m\u001b[1;33m)\u001b[0m\u001b[1;33m\u001b[0m\u001b[1;33m\u001b[0m\u001b[0m\n\u001b[0;32m      4\u001b[0m \u001b[1;33m\u001b[0m\u001b[0m\n\u001b[0;32m      5\u001b[0m     \u001b[1;32mif\u001b[0m \u001b[0mgraph\u001b[0m\u001b[1;33m.\u001b[0m\u001b[0mhas_matrix\u001b[0m\u001b[1;33m:\u001b[0m\u001b[1;33m\u001b[0m\u001b[1;33m\u001b[0m\u001b[0m\n",
      "\u001b[1;31mKeyError\u001b[0m: 'Invalid graph mode. (weighted)'"
     ]
    }
   ],
   "source": [
    "# folder = \"inputs\"\r\n",
    "# filename = \"grafo_5.txt\"\r\n",
    "\r\n",
    "# path = os.path.join(folder, filename)\r\n",
    "\r\n",
    "# graph = open_graph_txt(path)\r\n",
    "# graph.sort_neighbors()\r\n",
    "\r\n",
    "# # print(graph.has_matrix)\r\n",
    "# # graph_statistics(graph)\r\n",
    "# # graph.has_matrix = False\r\n",
    "# # print(\"----\")\r\n",
    "# # print(graph.has_matrix)\r\n",
    "graph_statistics(graph)"
   ]
  },
  {
   "cell_type": "code",
   "execution_count": 12,
   "metadata": {},
   "outputs": [
    {
     "ename": "KeyError",
     "evalue": "'Invalid mode. (weighted)'",
     "output_type": "error",
     "traceback": [
      "\u001b[1;31m---------------------------------------------------------------------------\u001b[0m",
      "\u001b[1;31mKeyError\u001b[0m                                  Traceback (most recent call last)",
      "\u001b[1;32m<ipython-input-12-7fc0f018c999>\u001b[0m in \u001b[0;36m<module>\u001b[1;34m\u001b[0m\n\u001b[1;32m----> 1\u001b[1;33m \u001b[0mdfs\u001b[0m \u001b[1;33m=\u001b[0m \u001b[0mDFS\u001b[0m\u001b[1;33m(\u001b[0m\u001b[0mgraph\u001b[0m\u001b[1;33m,\u001b[0m \u001b[1;36m1\u001b[0m\u001b[1;33m)\u001b[0m\u001b[1;33m\u001b[0m\u001b[1;33m\u001b[0m\u001b[0m\n\u001b[0m\u001b[0;32m      2\u001b[0m \u001b[0mdfs\u001b[0m\u001b[1;33m.\u001b[0m\u001b[0msearch\u001b[0m\u001b[1;33m(\u001b[0m\u001b[1;33m)\u001b[0m\u001b[1;33m\u001b[0m\u001b[1;33m\u001b[0m\u001b[0m\n\u001b[0;32m      3\u001b[0m \u001b[1;33m\u001b[0m\u001b[0m\n\u001b[0;32m      4\u001b[0m \u001b[0mprint\u001b[0m\u001b[1;33m(\u001b[0m\u001b[1;34m\"DFS Result:\"\u001b[0m\u001b[1;33m)\u001b[0m\u001b[1;33m\u001b[0m\u001b[1;33m\u001b[0m\u001b[0m\n\u001b[0;32m      5\u001b[0m \u001b[0mdfs_df\u001b[0m \u001b[1;33m=\u001b[0m \u001b[0mpd\u001b[0m\u001b[1;33m.\u001b[0m\u001b[0mDataFrame\u001b[0m\u001b[1;33m(\u001b[0m\u001b[0mlist\u001b[0m\u001b[1;33m(\u001b[0m\u001b[0mzip\u001b[0m\u001b[1;33m(\u001b[0m\u001b[0mrange\u001b[0m\u001b[1;33m(\u001b[0m\u001b[1;36m1\u001b[0m\u001b[1;33m,\u001b[0m \u001b[0mdfs\u001b[0m\u001b[1;33m.\u001b[0m\u001b[0mgraph\u001b[0m\u001b[1;33m.\u001b[0m\u001b[0mn_nodes\u001b[0m\u001b[1;33m+\u001b[0m\u001b[1;36m1\u001b[0m\u001b[1;33m)\u001b[0m\u001b[1;33m,\u001b[0m \u001b[0mdfs\u001b[0m\u001b[1;33m.\u001b[0m\u001b[0mlevel\u001b[0m\u001b[1;33m,\u001b[0m \u001b[0mdfs\u001b[0m\u001b[1;33m.\u001b[0m\u001b[0mparent\u001b[0m\u001b[1;33m)\u001b[0m\u001b[1;33m)\u001b[0m\u001b[1;33m,\u001b[0m \u001b[0mcolumns\u001b[0m\u001b[1;33m=\u001b[0m\u001b[1;33m[\u001b[0m\u001b[1;34m\"node\"\u001b[0m\u001b[1;33m,\u001b[0m \u001b[1;34m\"level\"\u001b[0m\u001b[1;33m,\u001b[0m \u001b[1;34m\"parent\"\u001b[0m\u001b[1;33m]\u001b[0m\u001b[1;33m,\u001b[0m \u001b[0mindex\u001b[0m\u001b[1;33m=\u001b[0m\u001b[0mnp\u001b[0m\u001b[1;33m.\u001b[0m\u001b[0marange\u001b[0m\u001b[1;33m(\u001b[0m\u001b[1;36m1\u001b[0m\u001b[1;33m,\u001b[0m \u001b[0mdfs\u001b[0m\u001b[1;33m.\u001b[0m\u001b[0mgraph\u001b[0m\u001b[1;33m.\u001b[0m\u001b[0mn_nodes\u001b[0m\u001b[1;33m+\u001b[0m\u001b[1;36m1\u001b[0m\u001b[1;33m)\u001b[0m\u001b[1;33m)\u001b[0m\u001b[1;33m\u001b[0m\u001b[1;33m\u001b[0m\u001b[0m\n",
      "\u001b[1;32m<ipython-input-6-d81f3dc4ee30>\u001b[0m in \u001b[0;36m__init__\u001b[1;34m(self, graph, root)\u001b[0m\n\u001b[0;32m      3\u001b[0m         \u001b[0mself\u001b[0m\u001b[1;33m.\u001b[0m\u001b[0mgraph\u001b[0m \u001b[1;33m=\u001b[0m \u001b[0mgraph\u001b[0m\u001b[1;33m\u001b[0m\u001b[1;33m\u001b[0m\u001b[0m\n\u001b[0;32m      4\u001b[0m         \u001b[1;32mif\u001b[0m \u001b[0mself\u001b[0m\u001b[1;33m.\u001b[0m\u001b[0mgraph\u001b[0m\u001b[1;33m.\u001b[0m\u001b[0mmode\u001b[0m \u001b[1;33m!=\u001b[0m \u001b[1;34m\"default\"\u001b[0m\u001b[1;33m:\u001b[0m\u001b[1;33m\u001b[0m\u001b[1;33m\u001b[0m\u001b[0m\n\u001b[1;32m----> 5\u001b[1;33m             \u001b[1;32mraise\u001b[0m \u001b[0mKeyError\u001b[0m\u001b[1;33m(\u001b[0m\u001b[1;34mf\"Invalid mode. ({self.graph.mode})\"\u001b[0m\u001b[1;33m)\u001b[0m\u001b[1;33m\u001b[0m\u001b[1;33m\u001b[0m\u001b[0m\n\u001b[0m\u001b[0;32m      6\u001b[0m \u001b[1;33m\u001b[0m\u001b[0m\n\u001b[0;32m      7\u001b[0m         \u001b[0mself\u001b[0m\u001b[1;33m.\u001b[0m\u001b[0mvisited\u001b[0m \u001b[1;33m=\u001b[0m \u001b[0mnp\u001b[0m\u001b[1;33m.\u001b[0m\u001b[0mzeros\u001b[0m\u001b[1;33m(\u001b[0m\u001b[0mgraph\u001b[0m\u001b[1;33m.\u001b[0m\u001b[0mn_nodes\u001b[0m\u001b[1;33m,\u001b[0m \u001b[0mdtype\u001b[0m\u001b[1;33m=\u001b[0m\u001b[1;34m\"uint8\"\u001b[0m\u001b[1;33m)\u001b[0m\u001b[1;33m\u001b[0m\u001b[1;33m\u001b[0m\u001b[0m\n",
      "\u001b[1;31mKeyError\u001b[0m: 'Invalid mode. (weighted)'"
     ]
    }
   ],
   "source": [
    "dfs = DFS(graph, 1)\n",
    "dfs.search()\n",
    "\n",
    "print(\"DFS Result:\")\n",
    "dfs_df = pd.DataFrame(list(zip(range(1, dfs.graph.n_nodes+1), dfs.level, dfs.parent)), columns=[\"node\", \"level\", \"parent\"], index=np.arange(1, dfs.graph.n_nodes+1))\n",
    "# dfs_df.to_csv(\"./outputs/dfs_test.csv\")\n",
    "dfs_df"
   ]
  },
  {
   "cell_type": "code",
   "execution_count": 13,
   "metadata": {},
   "outputs": [
    {
     "ename": "KeyError",
     "evalue": "'Invalid mode. (weighted)'",
     "output_type": "error",
     "traceback": [
      "\u001b[1;31m---------------------------------------------------------------------------\u001b[0m",
      "\u001b[1;31mKeyError\u001b[0m                                  Traceback (most recent call last)",
      "\u001b[1;32m<ipython-input-13-1d82e04fe451>\u001b[0m in \u001b[0;36m<module>\u001b[1;34m\u001b[0m\n\u001b[1;32m----> 1\u001b[1;33m \u001b[0mbfs\u001b[0m \u001b[1;33m=\u001b[0m \u001b[0mBFS\u001b[0m\u001b[1;33m(\u001b[0m\u001b[0mgraph\u001b[0m\u001b[1;33m,\u001b[0m \u001b[1;36m1\u001b[0m\u001b[1;33m)\u001b[0m\u001b[1;33m\u001b[0m\u001b[1;33m\u001b[0m\u001b[0m\n\u001b[0m\u001b[0;32m      2\u001b[0m \u001b[0mbfs\u001b[0m\u001b[1;33m.\u001b[0m\u001b[0msearch\u001b[0m\u001b[1;33m(\u001b[0m\u001b[1;33m)\u001b[0m\u001b[1;33m\u001b[0m\u001b[1;33m\u001b[0m\u001b[0m\n\u001b[0;32m      3\u001b[0m \u001b[1;33m\u001b[0m\u001b[0m\n\u001b[0;32m      4\u001b[0m \u001b[0mprint\u001b[0m\u001b[1;33m(\u001b[0m\u001b[1;34m\"BFS Result:\"\u001b[0m\u001b[1;33m)\u001b[0m\u001b[1;33m\u001b[0m\u001b[1;33m\u001b[0m\u001b[0m\n\u001b[0;32m      5\u001b[0m \u001b[0mbfs_df\u001b[0m \u001b[1;33m=\u001b[0m \u001b[0mpd\u001b[0m\u001b[1;33m.\u001b[0m\u001b[0mDataFrame\u001b[0m\u001b[1;33m(\u001b[0m\u001b[0mlist\u001b[0m\u001b[1;33m(\u001b[0m\u001b[0mzip\u001b[0m\u001b[1;33m(\u001b[0m\u001b[0mrange\u001b[0m\u001b[1;33m(\u001b[0m\u001b[1;36m1\u001b[0m\u001b[1;33m,\u001b[0m \u001b[0mbfs\u001b[0m\u001b[1;33m.\u001b[0m\u001b[0mgraph\u001b[0m\u001b[1;33m.\u001b[0m\u001b[0mn_nodes\u001b[0m\u001b[1;33m+\u001b[0m\u001b[1;36m1\u001b[0m\u001b[1;33m)\u001b[0m\u001b[1;33m,\u001b[0m \u001b[0mbfs\u001b[0m\u001b[1;33m.\u001b[0m\u001b[0mlevel\u001b[0m\u001b[1;33m,\u001b[0m \u001b[0mbfs\u001b[0m\u001b[1;33m.\u001b[0m\u001b[0mparent\u001b[0m\u001b[1;33m)\u001b[0m\u001b[1;33m)\u001b[0m\u001b[1;33m,\u001b[0m \u001b[0mcolumns\u001b[0m\u001b[1;33m=\u001b[0m\u001b[1;33m[\u001b[0m\u001b[1;34m\"node\"\u001b[0m\u001b[1;33m,\u001b[0m \u001b[1;34m\"level\"\u001b[0m\u001b[1;33m,\u001b[0m \u001b[1;34m\"parent\"\u001b[0m\u001b[1;33m]\u001b[0m\u001b[1;33m,\u001b[0m \u001b[0mindex\u001b[0m\u001b[1;33m=\u001b[0m\u001b[0mnp\u001b[0m\u001b[1;33m.\u001b[0m\u001b[0marange\u001b[0m\u001b[1;33m(\u001b[0m\u001b[1;36m1\u001b[0m\u001b[1;33m,\u001b[0m \u001b[0mbfs\u001b[0m\u001b[1;33m.\u001b[0m\u001b[0mgraph\u001b[0m\u001b[1;33m.\u001b[0m\u001b[0mn_nodes\u001b[0m\u001b[1;33m+\u001b[0m\u001b[1;36m1\u001b[0m\u001b[1;33m)\u001b[0m\u001b[1;33m)\u001b[0m\u001b[1;33m\u001b[0m\u001b[1;33m\u001b[0m\u001b[0m\n",
      "\u001b[1;32m<ipython-input-7-bc523fd8d43a>\u001b[0m in \u001b[0;36m__init__\u001b[1;34m(self, graph, root)\u001b[0m\n\u001b[0;32m      3\u001b[0m         \u001b[0mself\u001b[0m\u001b[1;33m.\u001b[0m\u001b[0mgraph\u001b[0m \u001b[1;33m=\u001b[0m \u001b[0mgraph\u001b[0m\u001b[1;33m\u001b[0m\u001b[1;33m\u001b[0m\u001b[0m\n\u001b[0;32m      4\u001b[0m         \u001b[1;32mif\u001b[0m \u001b[0mself\u001b[0m\u001b[1;33m.\u001b[0m\u001b[0mgraph\u001b[0m\u001b[1;33m.\u001b[0m\u001b[0mmode\u001b[0m \u001b[1;33m!=\u001b[0m \u001b[1;34m\"default\"\u001b[0m\u001b[1;33m:\u001b[0m\u001b[1;33m\u001b[0m\u001b[1;33m\u001b[0m\u001b[0m\n\u001b[1;32m----> 5\u001b[1;33m             \u001b[1;32mraise\u001b[0m \u001b[0mKeyError\u001b[0m\u001b[1;33m(\u001b[0m\u001b[1;34mf\"Invalid mode. ({self.graph.mode})\"\u001b[0m\u001b[1;33m)\u001b[0m\u001b[1;33m\u001b[0m\u001b[1;33m\u001b[0m\u001b[0m\n\u001b[0m\u001b[0;32m      6\u001b[0m \u001b[1;33m\u001b[0m\u001b[0m\n\u001b[0;32m      7\u001b[0m         \u001b[0mself\u001b[0m\u001b[1;33m.\u001b[0m\u001b[0mvisited\u001b[0m \u001b[1;33m=\u001b[0m \u001b[0mnp\u001b[0m\u001b[1;33m.\u001b[0m\u001b[0mzeros\u001b[0m\u001b[1;33m(\u001b[0m\u001b[0mgraph\u001b[0m\u001b[1;33m.\u001b[0m\u001b[0mn_nodes\u001b[0m\u001b[1;33m,\u001b[0m \u001b[0mdtype\u001b[0m\u001b[1;33m=\u001b[0m\u001b[1;34m\"uint8\"\u001b[0m\u001b[1;33m)\u001b[0m\u001b[1;33m\u001b[0m\u001b[1;33m\u001b[0m\u001b[0m\n",
      "\u001b[1;31mKeyError\u001b[0m: 'Invalid mode. (weighted)'"
     ]
    }
   ],
   "source": [
    "bfs = BFS(graph, 1)\n",
    "bfs.search()\n",
    "\n",
    "print(\"BFS Result:\")\n",
    "bfs_df = pd.DataFrame(list(zip(range(1, bfs.graph.n_nodes+1), bfs.level, bfs.parent)), columns=[\"node\", \"level\", \"parent\"], index=np.arange(1, bfs.graph.n_nodes+1))\n",
    "# bfs_df.to_csv(\"./outputs/bffs_test.csv\")\n",
    "bfs_df"
   ]
  },
  {
   "cell_type": "code",
   "execution_count": null,
   "metadata": {},
   "outputs": [],
   "source": [
    "########################################"
   ]
  },
  {
   "cell_type": "code",
   "execution_count": 15,
   "metadata": {},
   "outputs": [
    {
     "ename": "KeyError",
     "evalue": "'Invalid graph mode. (weighted)'",
     "output_type": "error",
     "traceback": [
      "\u001b[1;31m---------------------------------------------------------------------------\u001b[0m",
      "\u001b[1;31mKeyError\u001b[0m                                  Traceback (most recent call last)",
      "\u001b[1;32m<ipython-input-15-eccb48841f1f>\u001b[0m in \u001b[0;36m<module>\u001b[1;34m\u001b[0m\n\u001b[1;32m----> 1\u001b[1;33m \u001b[0mminpath\u001b[0m \u001b[1;33m=\u001b[0m \u001b[0mMinimumPath\u001b[0m\u001b[1;33m(\u001b[0m\u001b[0mgraph\u001b[0m\u001b[1;33m)\u001b[0m\u001b[1;33m\u001b[0m\u001b[1;33m\u001b[0m\u001b[0m\n\u001b[0m\u001b[0;32m      2\u001b[0m \u001b[1;33m\u001b[0m\u001b[0m\n\u001b[0;32m      3\u001b[0m \u001b[0mprint\u001b[0m\u001b[1;33m(\u001b[0m\u001b[1;34m\"Minpath Distance:\"\u001b[0m\u001b[1;33m,\u001b[0m \u001b[0mminpath\u001b[0m\u001b[1;33m.\u001b[0m\u001b[0mget_distance\u001b[0m\u001b[1;33m(\u001b[0m\u001b[1;36m1\u001b[0m\u001b[1;33m,\u001b[0m \u001b[1;36m3\u001b[0m\u001b[1;33m)\u001b[0m\u001b[1;33m)\u001b[0m\u001b[1;33m\u001b[0m\u001b[1;33m\u001b[0m\u001b[0m\n\u001b[0;32m      4\u001b[0m \u001b[0mprint\u001b[0m\u001b[1;33m(\u001b[0m\u001b[1;34m\"Minpath Diameter:\"\u001b[0m\u001b[1;33m,\u001b[0m \u001b[0mminpath\u001b[0m\u001b[1;33m.\u001b[0m\u001b[0mget_diameter\u001b[0m\u001b[1;33m(\u001b[0m\u001b[1;33m)\u001b[0m\u001b[1;33m)\u001b[0m\u001b[1;33m\u001b[0m\u001b[1;33m\u001b[0m\u001b[0m\n",
      "\u001b[1;32m<ipython-input-8-5fa7e6abee9a>\u001b[0m in \u001b[0;36m__init__\u001b[1;34m(self, graph)\u001b[0m\n\u001b[0;32m      2\u001b[0m \u001b[1;33m\u001b[0m\u001b[0m\n\u001b[0;32m      3\u001b[0m     \u001b[1;32mdef\u001b[0m \u001b[0m__init__\u001b[0m\u001b[1;33m(\u001b[0m\u001b[0mself\u001b[0m\u001b[1;33m,\u001b[0m \u001b[0mgraph\u001b[0m\u001b[1;33m)\u001b[0m\u001b[1;33m:\u001b[0m\u001b[1;33m\u001b[0m\u001b[1;33m\u001b[0m\u001b[0m\n\u001b[1;32m----> 4\u001b[1;33m         \u001b[1;32mif\u001b[0m \u001b[0mgraph\u001b[0m\u001b[1;33m.\u001b[0m\u001b[0mmode\u001b[0m \u001b[1;33m!=\u001b[0m \u001b[1;34m\"default\"\u001b[0m\u001b[1;33m:\u001b[0m \u001b[1;32mraise\u001b[0m \u001b[0mKeyError\u001b[0m\u001b[1;33m(\u001b[0m\u001b[1;34mf\"Invalid graph mode. ({graph.mode})\"\u001b[0m\u001b[1;33m)\u001b[0m\u001b[1;33m\u001b[0m\u001b[1;33m\u001b[0m\u001b[0m\n\u001b[0m\u001b[0;32m      5\u001b[0m         \u001b[0mself\u001b[0m\u001b[1;33m.\u001b[0m\u001b[0mgraph\u001b[0m \u001b[1;33m=\u001b[0m \u001b[0mgraph\u001b[0m\u001b[1;33m\u001b[0m\u001b[1;33m\u001b[0m\u001b[0m\n\u001b[0;32m      6\u001b[0m         \u001b[0mself\u001b[0m\u001b[1;33m.\u001b[0m\u001b[0mmatrix\u001b[0m \u001b[1;33m=\u001b[0m \u001b[0mnp\u001b[0m\u001b[1;33m.\u001b[0m\u001b[0mfull\u001b[0m\u001b[1;33m(\u001b[0m\u001b[1;33m(\u001b[0m\u001b[0mgraph\u001b[0m\u001b[1;33m.\u001b[0m\u001b[0mn_nodes\u001b[0m\u001b[1;33m,\u001b[0m \u001b[0mgraph\u001b[0m\u001b[1;33m.\u001b[0m\u001b[0mn_nodes\u001b[0m\u001b[1;33m)\u001b[0m\u001b[1;33m,\u001b[0m \u001b[0mfill_value\u001b[0m\u001b[1;33m=\u001b[0m\u001b[1;33m-\u001b[0m\u001b[1;36m1\u001b[0m\u001b[1;33m,\u001b[0m \u001b[0mdtype\u001b[0m\u001b[1;33m=\u001b[0m\u001b[1;34m\"int32\"\u001b[0m\u001b[1;33m)\u001b[0m\u001b[1;33m\u001b[0m\u001b[1;33m\u001b[0m\u001b[0m\n",
      "\u001b[1;31mKeyError\u001b[0m: 'Invalid graph mode. (weighted)'"
     ]
    }
   ],
   "source": [
    "minpath = MinimumPath(graph)\n",
    "\n",
    "print(\"Minpath Distance:\", minpath.get_distance(1, 3))\n",
    "print(\"Minpath Diameter:\", minpath.get_diameter())"
   ]
  },
  {
   "cell_type": "code",
   "execution_count": 16,
   "metadata": {},
   "outputs": [
    {
     "ename": "KeyError",
     "evalue": "'Invalid graph mode. (weighted)'",
     "output_type": "error",
     "traceback": [
      "\u001b[1;31m---------------------------------------------------------------------------\u001b[0m",
      "\u001b[1;31mKeyError\u001b[0m                                  Traceback (most recent call last)",
      "\u001b[1;32m<ipython-input-16-4efe5545e150>\u001b[0m in \u001b[0;36m<module>\u001b[1;34m\u001b[0m\n\u001b[1;32m----> 1\u001b[1;33m \u001b[0mcomponents\u001b[0m \u001b[1;33m=\u001b[0m \u001b[0mComponents\u001b[0m\u001b[1;33m(\u001b[0m\u001b[0mgraph\u001b[0m\u001b[1;33m)\u001b[0m\u001b[1;33m\u001b[0m\u001b[1;33m\u001b[0m\u001b[0m\n\u001b[0m\u001b[0;32m      2\u001b[0m \u001b[1;33m\u001b[0m\u001b[0m\n\u001b[0;32m      3\u001b[0m \u001b[1;32mwith\u001b[0m \u001b[0mopen\u001b[0m\u001b[1;33m(\u001b[0m\u001b[1;34m\"./outputs/components_test.txt\"\u001b[0m\u001b[1;33m,\u001b[0m \u001b[0mmode\u001b[0m\u001b[1;33m=\u001b[0m\u001b[1;34m\"w\"\u001b[0m\u001b[1;33m)\u001b[0m \u001b[1;32mas\u001b[0m \u001b[0mout\u001b[0m\u001b[1;33m:\u001b[0m\u001b[1;33m\u001b[0m\u001b[1;33m\u001b[0m\u001b[0m\n\u001b[0;32m      4\u001b[0m     \u001b[1;32mfor\u001b[0m \u001b[0mline\u001b[0m \u001b[1;32min\u001b[0m \u001b[0mcomponents\u001b[0m\u001b[1;33m.\u001b[0m\u001b[0mget_components\u001b[0m\u001b[1;33m(\u001b[0m\u001b[1;33m)\u001b[0m\u001b[1;33m:\u001b[0m\u001b[1;33m\u001b[0m\u001b[1;33m\u001b[0m\u001b[0m\n\u001b[0;32m      5\u001b[0m         \u001b[0mout\u001b[0m\u001b[1;33m.\u001b[0m\u001b[0mwrite\u001b[0m\u001b[1;33m(\u001b[0m\u001b[0mstr\u001b[0m\u001b[1;33m(\u001b[0m\u001b[0mline\u001b[0m\u001b[1;33m)\u001b[0m\u001b[1;33m)\u001b[0m\u001b[1;33m\u001b[0m\u001b[1;33m\u001b[0m\u001b[0m\n",
      "\u001b[1;32m<ipython-input-9-e1cc984c5a3d>\u001b[0m in \u001b[0;36m__init__\u001b[1;34m(self, graph)\u001b[0m\n\u001b[0;32m      2\u001b[0m \u001b[1;33m\u001b[0m\u001b[0m\n\u001b[0;32m      3\u001b[0m     \u001b[1;32mdef\u001b[0m \u001b[0m__init__\u001b[0m\u001b[1;33m(\u001b[0m\u001b[0mself\u001b[0m\u001b[1;33m,\u001b[0m \u001b[0mgraph\u001b[0m\u001b[1;33m)\u001b[0m\u001b[1;33m:\u001b[0m\u001b[1;33m\u001b[0m\u001b[1;33m\u001b[0m\u001b[0m\n\u001b[1;32m----> 4\u001b[1;33m         \u001b[1;32mif\u001b[0m \u001b[0mgraph\u001b[0m\u001b[1;33m.\u001b[0m\u001b[0mmode\u001b[0m \u001b[1;33m!=\u001b[0m \u001b[1;34m\"default\"\u001b[0m\u001b[1;33m:\u001b[0m \u001b[1;32mraise\u001b[0m \u001b[0mKeyError\u001b[0m\u001b[1;33m(\u001b[0m\u001b[1;34mf\"Invalid graph mode. ({graph.mode})\"\u001b[0m\u001b[1;33m)\u001b[0m\u001b[1;33m\u001b[0m\u001b[1;33m\u001b[0m\u001b[0m\n\u001b[0m\u001b[0;32m      5\u001b[0m         \u001b[0mself\u001b[0m\u001b[1;33m.\u001b[0m\u001b[0mgraph\u001b[0m \u001b[1;33m=\u001b[0m \u001b[0mgraph\u001b[0m\u001b[1;33m\u001b[0m\u001b[1;33m\u001b[0m\u001b[0m\n\u001b[0;32m      6\u001b[0m         \u001b[0mself\u001b[0m\u001b[1;33m.\u001b[0m\u001b[0mvisited\u001b[0m \u001b[1;33m=\u001b[0m \u001b[0mnp\u001b[0m\u001b[1;33m.\u001b[0m\u001b[0mzeros\u001b[0m\u001b[1;33m(\u001b[0m\u001b[0mgraph\u001b[0m\u001b[1;33m.\u001b[0m\u001b[0mn_nodes\u001b[0m\u001b[1;33m,\u001b[0m \u001b[0mdtype\u001b[0m\u001b[1;33m=\u001b[0m\u001b[1;34m\"uint8\"\u001b[0m\u001b[1;33m)\u001b[0m\u001b[1;33m\u001b[0m\u001b[1;33m\u001b[0m\u001b[0m\n",
      "\u001b[1;31mKeyError\u001b[0m: 'Invalid graph mode. (weighted)'"
     ]
    }
   ],
   "source": [
    "components = Components(graph)\n",
    "\n",
    "with open(\"./outputs/components_test.txt\", mode=\"w\") as out:\n",
    "    for line in components.get_components():\n",
    "        out.write(str(line))\n",
    "        out.write(\"\\n\")"
   ]
  },
  {
   "cell_type": "code",
   "execution_count": null,
   "metadata": {},
   "outputs": [],
   "source": [
    "########################################"
   ]
  },
  {
   "cell_type": "code",
   "execution_count": 37,
   "metadata": {},
   "outputs": [],
   "source": [
    "class Dijkstra:\r\n",
    "    def __init__(self, graph, root):\r\n",
    "        if graph.mode == \"default\":\r\n",
    "            self.graph = graph\r\n",
    "            self.root = root\r\n",
    "            self.bfs = BFS(self.graph, self.root)\r\n",
    "            self.distance = self.bfs.level\r\n",
    "            self.parent = self.bfs.parent\r\n",
    "\r\n",
    "        elif graph.mode == \"weighted\":\r\n",
    "            self.graph = graph\r\n",
    "            self.root = root\r\n",
    "            \r\n",
    "            self.distance = np.full(graph.n_nodes, fill_value=np.inf)\r\n",
    "            self.explored = np.zeros(graph.n_nodes, dtype=\"uint8\")\r\n",
    "            self.parent = np.full(graph.n_nodes, fill_value=-1, dtype=\"int32\")\r\n",
    "            self.found = {self.root}\r\n",
    "\r\n",
    "            self.distance[self.root-1] = 0\r\n",
    "            self.parent[self.root-1] = -1\r\n",
    "            \r\n",
    "            self.find()\r\n",
    "        \r\n",
    "        else:\r\n",
    "            raise KeyError(f\"Invalid graph mode. ({graph.mode})\")\r\n",
    "    \r\n",
    "    def find(self):\r\n",
    "        while len(self.found) != 0:\r\n",
    "            u = np.argmin(np.where(self.explored == 0, self.distance, np.inf)) + 1\r\n",
    "            self.found.remove(u)\r\n",
    "            self.explored[u-1] = 1\r\n",
    "            for v, weight in self.graph.get_node(u):\r\n",
    "                if weight < 0: raise ValueError(f\"Weight cannot be negative. (weight = {weight})\")\r\n",
    "                if self.explored[v-1] == 1: continue\r\n",
    "                self.found.add(v)\r\n",
    "                if self.distance[v-1] > weight + self.distance[u-1]:\r\n",
    "                    self.distance[v-1] = weight + self.distance[u-1]\r\n",
    "                    self.parent[v-1] = u\r\n",
    "    \r\n",
    "    def minpath(self, t):\r\n",
    "        path = [t]\r\n",
    "        parent = self.parent[t-1]\r\n",
    "        while parent != -1:\r\n",
    "            path.append(parent)\r\n",
    "            parent = self.parent[parent-1]\r\n",
    "        if path[-1] == t: raise ValueError(f\"Cannot find path between source and target. ({self.root}->{t})\")\r\n",
    "        return path[::-1]"
   ]
  },
  {
   "cell_type": "code",
   "execution_count": 38,
   "metadata": {},
   "outputs": [
    {
     "name": "stdout",
     "output_type": "stream",
     "text": [
      "Dijkstra Result:\n"
     ]
    },
    {
     "data": {
      "text/html": "<div>\n<style scoped>\n    .dataframe tbody tr th:only-of-type {\n        vertical-align: middle;\n    }\n\n    .dataframe tbody tr th {\n        vertical-align: top;\n    }\n\n    .dataframe thead th {\n        text-align: right;\n    }\n</style>\n<table border=\"1\" class=\"dataframe\">\n  <thead>\n    <tr style=\"text-align: right;\">\n      <th></th>\n      <th>node</th>\n      <th>distance</th>\n      <th>parent</th>\n    </tr>\n  </thead>\n  <tbody>\n    <tr>\n      <th>1</th>\n      <td>1</td>\n      <td>0.00</td>\n      <td>-1</td>\n    </tr>\n    <tr>\n      <th>2</th>\n      <td>2</td>\n      <td>1.66</td>\n      <td>186</td>\n    </tr>\n    <tr>\n      <th>3</th>\n      <td>3</td>\n      <td>1.15</td>\n      <td>120</td>\n    </tr>\n    <tr>\n      <th>4</th>\n      <td>4</td>\n      <td>1.56</td>\n      <td>905</td>\n    </tr>\n    <tr>\n      <th>5</th>\n      <td>5</td>\n      <td>1.10</td>\n      <td>346</td>\n    </tr>\n    <tr>\n      <th>...</th>\n      <td>...</td>\n      <td>...</td>\n      <td>...</td>\n    </tr>\n    <tr>\n      <th>996</th>\n      <td>996</td>\n      <td>1.66</td>\n      <td>273</td>\n    </tr>\n    <tr>\n      <th>997</th>\n      <td>997</td>\n      <td>1.01</td>\n      <td>489</td>\n    </tr>\n    <tr>\n      <th>998</th>\n      <td>998</td>\n      <td>1.19</td>\n      <td>228</td>\n    </tr>\n    <tr>\n      <th>999</th>\n      <td>999</td>\n      <td>0.98</td>\n      <td>448</td>\n    </tr>\n    <tr>\n      <th>1000</th>\n      <td>1000</td>\n      <td>1.47</td>\n      <td>48</td>\n    </tr>\n  </tbody>\n</table>\n<p>1000 rows × 3 columns</p>\n</div>",
      "text/plain": "      node  distance  parent\n1        1      0.00      -1\n2        2      1.66     186\n3        3      1.15     120\n4        4      1.56     905\n5        5      1.10     346\n...    ...       ...     ...\n996    996      1.66     273\n997    997      1.01     489\n998    998      1.19     228\n999    999      0.98     448\n1000  1000      1.47      48\n\n[1000 rows x 3 columns]"
     },
     "execution_count": 38,
     "metadata": {},
     "output_type": "execute_result"
    }
   ],
   "source": [
    "dijkstra = Dijkstra(graph, 1)\r\n",
    "print(\"Dijkstra Result:\")\r\n",
    "dijkstra_df = pd.DataFrame(list(zip(range(1, dijkstra.graph.n_nodes+1), dijkstra.distance, dijkstra.parent)), columns=[\"node\", \"distance\", \"parent\"], index=np.arange(1, dijkstra.graph.n_nodes+1))\r\n",
    "dijkstra_df"
   ]
  },
  {
   "cell_type": "code",
   "execution_count": 40,
   "metadata": {},
   "outputs": [
    {
     "data": {
      "text/plain": "[1, 120, 394, 739, 53, 932, 371, 48, 1000]"
     },
     "execution_count": 40,
     "metadata": {},
     "output_type": "execute_result"
    }
   ],
   "source": [
    "dijkstra.minpath(1000)"
   ]
  },
  {
   "cell_type": "code",
   "execution_count": 19,
   "metadata": {},
   "outputs": [],
   "source": [
    "class Prim:\r\n",
    "    def __init__(self, graph, root):\r\n",
    "        if graph.mode == \"default\":\r\n",
    "            self.graph = graph\r\n",
    "            self.bfs = BFS(graph, root)\r\n",
    "            self.cost = np.where(self.bfs.level < np.inf, 1, np.inf)\r\n",
    "            self.cost[root-1] = 0\r\n",
    "            self.parent = self.bfs.parent\r\n",
    "\r\n",
    "        elif graph.mode == \"weighted\":\r\n",
    "            self.graph = graph\r\n",
    "            \r\n",
    "            self.cost = np.full(graph.n_nodes, fill_value=np.inf)\r\n",
    "            self.explored = np.zeros(graph.n_nodes, dtype=\"uint8\")\r\n",
    "            self.parent = np.full(graph.n_nodes, fill_value=-1, dtype=\"int32\")\r\n",
    "            self.found = {root}\r\n",
    "\r\n",
    "            self.cost[root-1] = 0\r\n",
    "            self.parent[root-1] = -1\r\n",
    "            \r\n",
    "            self.find()\r\n",
    "        \r\n",
    "        else:\r\n",
    "            raise KeyError(f\"Invalid graph mode. ({graph.mode})\")\r\n",
    "    \r\n",
    "    def find(self):\r\n",
    "        while len(self.found) != 0:\r\n",
    "            u = np.argmin(np.where(self.explored == 0, self.cost, np.inf)) + 1\r\n",
    "            self.found.remove(u)\r\n",
    "            self.explored[u-1] = 1\r\n",
    "            for v, weight in self.graph.get_node(u):\r\n",
    "                if weight < 0: raise ValueError(f\"Weight cannot be negative. (weight = {weight})\")\r\n",
    "                if self.explored[v-1] == 1: continue\r\n",
    "                self.found.add(v)\r\n",
    "                if self.cost[v-1] > weight:\r\n",
    "                    self.cost[v-1] = weight\r\n",
    "                    self.parent[v-1] = u"
   ]
  },
  {
   "cell_type": "code",
   "execution_count": 20,
   "metadata": {},
   "outputs": [
    {
     "name": "stdout",
     "output_type": "stream",
     "text": [
      "Prim Result:\n"
     ]
    },
    {
     "data": {
      "text/html": "<div>\n<style scoped>\n    .dataframe tbody tr th:only-of-type {\n        vertical-align: middle;\n    }\n\n    .dataframe tbody tr th {\n        vertical-align: top;\n    }\n\n    .dataframe thead th {\n        text-align: right;\n    }\n</style>\n<table border=\"1\" class=\"dataframe\">\n  <thead>\n    <tr style=\"text-align: right;\">\n      <th></th>\n      <th>node</th>\n      <th>cost</th>\n      <th>parent</th>\n    </tr>\n  </thead>\n  <tbody>\n    <tr>\n      <th>1</th>\n      <td>1</td>\n      <td>0.00</td>\n      <td>-1</td>\n    </tr>\n    <tr>\n      <th>2</th>\n      <td>2</td>\n      <td>0.27</td>\n      <td>186</td>\n    </tr>\n    <tr>\n      <th>3</th>\n      <td>3</td>\n      <td>0.39</td>\n      <td>787</td>\n    </tr>\n    <tr>\n      <th>4</th>\n      <td>4</td>\n      <td>0.32</td>\n      <td>905</td>\n    </tr>\n    <tr>\n      <th>5</th>\n      <td>5</td>\n      <td>0.50</td>\n      <td>153</td>\n    </tr>\n    <tr>\n      <th>...</th>\n      <td>...</td>\n      <td>...</td>\n      <td>...</td>\n    </tr>\n    <tr>\n      <th>996</th>\n      <td>996</td>\n      <td>0.64</td>\n      <td>688</td>\n    </tr>\n    <tr>\n      <th>997</th>\n      <td>997</td>\n      <td>0.15</td>\n      <td>836</td>\n    </tr>\n    <tr>\n      <th>998</th>\n      <td>998</td>\n      <td>0.08</td>\n      <td>228</td>\n    </tr>\n    <tr>\n      <th>999</th>\n      <td>999</td>\n      <td>0.28</td>\n      <td>117</td>\n    </tr>\n    <tr>\n      <th>1000</th>\n      <td>1000</td>\n      <td>0.05</td>\n      <td>48</td>\n    </tr>\n  </tbody>\n</table>\n<p>1000 rows × 3 columns</p>\n</div>",
      "text/plain": "      node  cost  parent\n1        1  0.00      -1\n2        2  0.27     186\n3        3  0.39     787\n4        4  0.32     905\n5        5  0.50     153\n...    ...   ...     ...\n996    996  0.64     688\n997    997  0.15     836\n998    998  0.08     228\n999    999  0.28     117\n1000  1000  0.05      48\n\n[1000 rows x 3 columns]"
     },
     "execution_count": 20,
     "metadata": {},
     "output_type": "execute_result"
    }
   ],
   "source": [
    "prim = Prim(graph, 1)\r\n",
    "print(\"Prim Result:\")\r\n",
    "prim_df = pd.DataFrame(list(zip(range(1, prim.graph.n_nodes+1), prim.cost, prim.parent)), columns=[\"node\", \"cost\", \"parent\"], index=np.arange(1, prim.graph.n_nodes+1))\r\n",
    "prim_df"
   ]
  },
  {
   "cell_type": "code",
   "execution_count": 21,
   "metadata": {},
   "outputs": [],
   "source": [
    "def prim_df_output(prim_df):\r\n",
    "    prim_df = prim_df[prim_df[\"parent\"] != -1][[\"parent\", \"node\", \"cost\"]].sort_values(by=\"parent\")\r\n",
    "    with open(\"outputs/prim_out.txt\", mode=\"w\") as o:\r\n",
    "        o.write(str(len(np.unique(prim_df[[\"parent\", \"node\"]].values.ravel())))+\" \"+str(prim_df[\"cost\"].sum()))\r\n",
    "        o.write(\"\\n\"+prim_df.to_string(header=False, index=False, float_format=\"{:.2f}\".format))\r\n",
    "prim_df_output(prim_df)"
   ]
  },
  {
   "cell_type": "code",
   "execution_count": 22,
   "metadata": {},
   "outputs": [],
   "source": [
    "class Eccentricity:\r\n",
    "    def __init__(self, graph, root):\r\n",
    "        self.dijkstra = Dijkstra(graph, root)\r\n",
    "    def __repr__(self):\r\n",
    "        return str(np.max(self.dijkstra.distance))"
   ]
  },
  {
   "cell_type": "code",
   "execution_count": 41,
   "metadata": {},
   "outputs": [
    {
     "data": {
      "text/plain": "2.58"
     },
     "execution_count": 41,
     "metadata": {},
     "output_type": "execute_result"
    }
   ],
   "source": [
    "Eccentricity(graph, 1)"
   ]
  }
 ],
 "metadata": {
  "kernelspec": {
   "display_name": "Python 3.9.5 64-bit",
   "name": "python395jvsc74a57bd05fa7bcb88a8a02560aa18023a8e77b38c69a6d20c15f0b9e64827779c46801f1"
  },
  "language_info": {
   "codemirror_mode": {
    "name": "ipython",
    "version": 3
   },
   "file_extension": ".py",
   "mimetype": "text/x-python",
   "name": "python",
   "nbconvert_exporter": "python",
   "pygments_lexer": "ipython3",
   "version": "3.9.5"
  }
 },
 "nbformat": 4,
 "nbformat_minor": 5
}